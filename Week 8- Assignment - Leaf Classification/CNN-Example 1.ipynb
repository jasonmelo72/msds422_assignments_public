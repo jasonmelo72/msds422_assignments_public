{
 "cells": [
  {
   "cell_type": "markdown",
   "metadata": {},
   "source": [
    "#### Practical Machine Learning \n",
    "##### File: Convolutional Neural Networks\n",
    "##### Date: 02/24/2022\n",
    "************************************************/   \n",
    "\n",
    "Description:\n",
    "Here is a partial dataset obtained from https://www.kaggle.com/paultimothymooney/chest-xray-pneumonia\n",
    "These are images of X-Rays of patient chest regions labeled with either being normal or having pneumonia\n",
    "Certain patterns(such as the presentation of lobar consolidations) on the X-rays suggest the presence of pus-build up and can aid in the diagnosis of the disease.\n",
    "\n",
    "These images have been pre-split into training, validation, and testing sets\n",
    "Take a quick look through the image  s before coding to get a general idea as to the type of data we're dealing with\n",
    "Can we use these images to create a model that can classify these X-ray images into Normal and Pneumonic?\n",
    "Convolutional Neural Networks are a promising way to deal with such image-based data sets!"
   ]
  },
  {
   "cell_type": "code",
   "execution_count": 1,
   "metadata": {},
   "outputs": [],
   "source": [
    "import warnings\n",
    "warnings.filterwarnings(\"ignore\") "
   ]
  },
  {
   "cell_type": "code",
   "execution_count": 2,
   "metadata": {},
   "outputs": [],
   "source": [
    "#General purpose imports here\n",
    "import numpy as np\n",
    "import glob\n",
    "import os\n",
    "import random\n",
    "from random import shuffle\n",
    "\n",
    "#These elow are used in image processing\n",
    "import cv2\n",
    "from matplotlib import pyplot as plt\n",
    "from PIL import Image\n",
    "\n",
    "#Keras/tensorflow convolutional neural network specific imports here\n",
    "import tensorflow as tf\n",
    "import keras\n",
    "from keras.models import Sequential, Model\n",
    "from keras.layers import Dense, Dropout, Flatten, Activation, Input, Add\n",
    "from keras.layers.convolutional import Conv2D, MaxPooling2D, AveragePooling2D\n",
    "from keras.layers.normalization import BatchNormalization\n",
    "from keras import optimizers\n",
    "from keras.utils import np_utils\n",
    "from keras import backend as K\n",
    "\n",
    "#Below used for TensorBoard data Visualization\n",
    "#from time import time\n",
    "#from keras.callbacks import TensorBoard"
   ]
  },
  {
   "cell_type": "code",
   "execution_count": 3,
   "metadata": {},
   "outputs": [],
   "source": [
    "# Global variables here\n",
    "# Resizing of images is one of the most important preprocessing variables to consider. Generally, most freshly\n",
    "# collected unprocessed images measure in the hundreds to thousands of pixels per a side.\n",
    "# While mathematics of convolutions(dot-products mostly) are very quick, especially if a GPU is used, the sheer number of \n",
    "# them required to process a given image with thousands of pixels can make training time untenably long. Trimming them down\n",
    "# here is one way to control the training time. The trade off to making images smaller of course is that possibly useful\n",
    "# features can be lost during the process, making the resulting model less powerful. Larger images also tend to require larger\n",
    "# CNN architectures\n",
    "#\n",
    "# The second reason to resize images is because the input tensor of most convolutional neural network layers need to be of\n",
    "# the same size. If images being used are of different sizes, resizing them all to the same size prior to training is an easy\n",
    "# way to solve this issue. (From what I can tell)This particular dataset does not suffer from this issue, but it's a good\n",
    "# idea to keep this in mind for future datasets.\n",
    "#\n",
    "# Through personal experience, 32x32 to 64x64 is a pretty good size to begin with for CPU based training\n",
    "# Keep in mind number of pixels increases quadratically, so doubling height and width yields a 4x increase in pixels to\n",
    "# convolute, both increasing training time and memory requirement. A larger image size may also indirectly increase training\n",
    "# time by increasing the model complexity required to capture relavent features\n",
    "\n",
    "PRE_PROCESSING_IMG_SIZE_WIDTH_PIXELS = 32\n",
    "PRE_PROCESSING_IMG_SIZE_HEIGHT_PIXELS = 32\n",
    "\n",
    "MODEL_NAME =  \"Pneumonia_Classification_Model\"\n",
    "#CWD = current working directory\n",
    "CWD = os.getcwd()\n",
    "#Below are the folder paths for the location of images. You can have all images in one folder and partition them\n",
    "#at run time or partition them prior to run time and store them in folders. This is largely preference when dealing\n",
    "#with smaller datasets, however when dealing with very large datasets, partitioning at runtime incurs heavier computational\n",
    "#costs.\n",
    "TRAIN_NORMAL_PATH = CWD + \"\\\\NORMAL_TRAIN\\\\\"\n",
    "TRAIN_PNEUMONIA_PATH = CWD + \"\\\\PNEUMONIA_TRAIN\\\\\"\n",
    "VALIDATION_NORMAL_PATH = CWD + \"\\\\NORMAL_VALIDATION\\\\\"\n",
    "VALIDATION_PNEUMONIA_PATH = CWD + \"\\\\PNEUMONIA_VALIDATION\\\\\"\n",
    "TEST_NORMAL_PATH = CWD + \"\\\\NORMAL_TEST\\\\\"\n",
    "TEST_PNEUMONIA_PATH = CWD + \"\\\\PNEUMONIA_TEST\\\\\""
   ]
  },
  {
   "cell_type": "code",
   "execution_count": 4,
   "metadata": {},
   "outputs": [],
   "source": [
    "#Another way to increase efficiency is to convert the images to greyscale rather than color, condensing the 3 red, green,\n",
    "#and blue colors to just a single black/white channel. Doing this will result in the loss of any predictive power\n",
    "#based on features from color, however because the x-ray images are already black and white anyway this becomes a non-issue\n",
    "#Conversion to greyscale might be a terrible idea for other datasets, do this with discretion in the future\n",
    "#\n",
    "#As it pertains to images, data regularization can be applied by dividing by individual pixel values(which range from 0-255)\n",
    "#by 255.0 to squash the range from 0-1. This can speed up the training process, however because the resulting values are \n",
    "#floats, they will may require more memory to store compared to the original integer values. If running out of RAM\n",
    "#(or GPU memory) is an issue at run time, this can be skipped to save memory.\n",
    "\n",
    "#Preprocesses and labels images. imageType is a one-hot coding representing image type, [1,0] for normal and [0,1] for \n",
    "#pneumonic\n",
    "def generateImageData(path, oneHotEncoding):\n",
    "    print(\"Converting images from path: \" + path)\n",
    "    #imageData will be a list of lists\n",
    "    imageData = []\n",
    "    files = glob.glob(path+'*.jpeg')\n",
    "    for f in files:\n",
    "        #greyscale conversion here\n",
    "        image = cv2.imread(f, cv2.IMREAD_GRAYSCALE)\n",
    "        #resizing occurs here\n",
    "        image = cv2.resize(image,(PRE_PROCESSING_IMG_SIZE_WIDTH_PIXELS,PRE_PROCESSING_IMG_SIZE_HEIGHT_PIXELS))\n",
    "        #Pixel value regularization done here\n",
    "        image = image/255.0\n",
    "        #Appends a list of a list containing the image data and it's onehotencoding which acts as a label\n",
    "        imageData.append([image, oneHotEncoding])\n",
    "    print(\"Complete!\")\n",
    "    return imageData"
   ]
  },
  {
   "cell_type": "code",
   "execution_count": 5,
   "metadata": {},
   "outputs": [
    {
     "name": "stdout",
     "output_type": "stream",
     "text": [
      "Converting images from path: C:\\Users\\sbhar\\Desktop\\shree\\teaching\\02-PML\\04-Lectures\\7\\Exercises\\CodeWalkthroughs\\Extras\\02-CNN-Usecase\\NORMAL_TRAIN\\\n",
      "Complete!\n",
      "Converting images from path: C:\\Users\\sbhar\\Desktop\\shree\\teaching\\02-PML\\04-Lectures\\7\\Exercises\\CodeWalkthroughs\\Extras\\02-CNN-Usecase\\PNEUMONIA_TRAIN\\\n",
      "Complete!\n",
      "Converting images from path: C:\\Users\\sbhar\\Desktop\\shree\\teaching\\02-PML\\04-Lectures\\7\\Exercises\\CodeWalkthroughs\\Extras\\02-CNN-Usecase\\NORMAL_VALIDATION\\\n",
      "Complete!\n",
      "Converting images from path: C:\\Users\\sbhar\\Desktop\\shree\\teaching\\02-PML\\04-Lectures\\7\\Exercises\\CodeWalkthroughs\\Extras\\02-CNN-Usecase\\PNEUMONIA_VALIDATION\\\n",
      "Complete!\n",
      "Converting images from path: C:\\Users\\sbhar\\Desktop\\shree\\teaching\\02-PML\\04-Lectures\\7\\Exercises\\CodeWalkthroughs\\Extras\\02-CNN-Usecase\\NORMAL_TEST\\\n",
      "Complete!\n",
      "Converting images from path: C:\\Users\\sbhar\\Desktop\\shree\\teaching\\02-PML\\04-Lectures\\7\\Exercises\\CodeWalkthroughs\\Extras\\02-CNN-Usecase\\PNEUMONIA_TEST\\\n",
      "Complete!\n"
     ]
    }
   ],
   "source": [
    "#Function calls to convert images made here\n",
    "trainNormalData = generateImageData(TRAIN_NORMAL_PATH, [1,0])\n",
    "trainPneumoniaData = generateImageData(TRAIN_PNEUMONIA_PATH, [0,1])\n",
    "validationNormalData = generateImageData(VALIDATION_NORMAL_PATH, [1,0])\n",
    "validationPneumoniaData = generateImageData(VALIDATION_PNEUMONIA_PATH, [0,1])\n",
    "testNormalData = generateImageData(TEST_NORMAL_PATH, [1,0])\n",
    "testPneumoniaData = generateImageData(TEST_PNEUMONIA_PATH, [0,1])"
   ]
  },
  {
   "cell_type": "code",
   "execution_count": 6,
   "metadata": {},
   "outputs": [
    {
     "name": "stdout",
     "output_type": "stream",
     "text": [
      "Training Normal Sample Size: 1081\n",
      "Training Pneumonia Sample Size: 2121\n",
      "Validation Normal Sample Size: 130\n",
      "Validation Pneumonia Sample Size: 380\n",
      "Test Normal Sample Size: 130\n",
      "Test Pneumonia Sample Size: 380\n"
     ]
    }
   ],
   "source": [
    "#Sample populations shown here. Because the sample sizes are imbalanced, over and undersampling could be an option\n",
    "#These sample sizes are on the smaller side, so I've decided against it for now, but it might be worth trying in the future\n",
    "print(\"Training Normal Sample Size: \" + str(len(trainNormalData)))\n",
    "print(\"Training Pneumonia Sample Size: \" + str(len(trainPneumoniaData)))\n",
    "print(\"Validation Normal Sample Size: \" + str(len(validationNormalData)))\n",
    "print(\"Validation Pneumonia Sample Size: \" + str(len(validationPneumoniaData)))\n",
    "print(\"Test Normal Sample Size: \" + str(len(testNormalData)))\n",
    "print(\"Test Pneumonia Sample Size: \" + str(len(testPneumoniaData)))"
   ]
  },
  {
   "cell_type": "code",
   "execution_count": 7,
   "metadata": {},
   "outputs": [
    {
     "name": "stdout",
     "output_type": "stream",
     "text": [
      "Test Pneumonia Sample Size: 380\n"
     ]
    }
   ],
   "source": [
    "print(\"Test Pneumonia Sample Size: \" + str(len(testPneumoniaData)))"
   ]
  },
  {
   "cell_type": "code",
   "execution_count": 8,
   "metadata": {},
   "outputs": [
    {
     "name": "stdout",
     "output_type": "stream",
     "text": [
      "Normal Example: \n"
     ]
    },
    {
     "data": {
      "image/png": "[encoded data removed]",
      "text/plain": [
       "<Figure size 432x288 with 1 Axes>"
      ]
     },
     "metadata": {
      "needs_background": "light"
     },
     "output_type": "display_data"
    },
    {
     "name": "stdout",
     "output_type": "stream",
     "text": [
      "Pneumonia Example: \n"
     ]
    },
    {
     "data": {
      "image/png": "[encoded data removed]",
      "text/plain": [
       "<Figure size 432x288 with 1 Axes>"
      ]
     },
     "metadata": {
      "needs_background": "light"
     },
     "output_type": "display_data"
    }
   ],
   "source": [
    "#Some example images after processing, note how small they actually are compared to the original\n",
    "print(\"Normal Example: \")\n",
    "plt.imshow(testNormalData[0][0], interpolation='nearest')\n",
    "plt.show()\n",
    "print(\"Pneumonia Example: \")\n",
    "plt.imshow(testPneumoniaData[0][0], interpolation='nearest')\n",
    "plt.show()"
   ]
  },
  {
   "cell_type": "code",
   "execution_count": 9,
   "metadata": {},
   "outputs": [],
   "source": [
    "#Combine the processed data and shuffle here. Shuffling is important! Set the random seed if reproducibility is of \n",
    "#importance, which it is during the development/debugging phase. \n",
    "random.seed(82)\n",
    "\n",
    "trainData = trainNormalData + trainPneumoniaData\n",
    "random.shuffle(trainData)\n",
    "validationData = validationNormalData + validationPneumoniaData\n",
    "random.shuffle(validationData)\n",
    "testData = testNormalData + testPneumoniaData\n",
    "random.shuffle(testData)"
   ]
  },
  {
   "cell_type": "code",
   "execution_count": 10,
   "metadata": {},
   "outputs": [],
   "source": [
    "#Example of functions that saves and load the model. The .json file dictates the architecture, while the .h5 file \n",
    "#has the weights information. Using these two it is possible to do transfer learning with predetermined weights with \n",
    "#different models.\n",
    "def saveModel():\n",
    "    model_json = model.to_json()\n",
    "    with open(\"model.json\", \"w\") as json_file:\n",
    "        json_file.write(model_json)\n",
    "        # serialize weights to HDF5\n",
    "        model.save_weights(\"model.h5\")\n",
    "    print(\"Saved model to disk\")\n",
    "\n",
    "def loadModel():\n",
    "    json_file = open('model.json', 'r')\n",
    "    loaded_model_json = json_file.read()\n",
    "    json_file.close()\n",
    "    loaded_model = model_from_json(loaded_model_json)\n",
    "    # load weights into new model\n",
    "    loaded_model.load_weights(\"model.h5\")\n",
    "    print(\"Loaded model from disk\")\n",
    "    return loaded_model"
   ]
  },
  {
   "cell_type": "code",
   "execution_count": 11,
   "metadata": {},
   "outputs": [],
   "source": [
    "#Parses data into imageData and labelData\n",
    "def generateImageAndLabelData(data):\n",
    "    imageData = []\n",
    "    labelData = []\n",
    "    \n",
    "    for i in range(len(data)):\n",
    "        imageData.append(data[i][0])\n",
    "        labelData.append(data[i][1])\n",
    "        \n",
    "    #Convert list type to numpy array type for easier manipulation\n",
    "    imageData = np.array(imageData)\n",
    "    labelData = np.array(labelData)\n",
    "    \n",
    "    #Additional reshaping to ensure data has the expected number of tensor dimensions. Sometimes during image conversion,\n",
    "    #especially with greyscales, because there is only 1 color channel, the 1 is dropped and a 2D tensor is returned\n",
    "    #instead of the 3D tensor, which will cause an error with most CNN models\n",
    "    imageData = imageData.reshape(imageData.shape[0], PRE_PROCESSING_IMG_SIZE_WIDTH_PIXELS,PRE_PROCESSING_IMG_SIZE_HEIGHT_PIXELS,1)\n",
    "    \n",
    "    return imageData, labelData"
   ]
  },
  {
   "cell_type": "code",
   "execution_count": 12,
   "metadata": {},
   "outputs": [],
   "source": [
    "#Last step in data pre-processing\n",
    "trainImages, trainLabels = generateImageAndLabelData(trainData)\n",
    "validationImages, validationLabels = generateImageAndLabelData(validationData)\n",
    "testImages, testLabels = generateImageAndLabelData(testData)"
   ]
  },
  {
   "cell_type": "code",
   "execution_count": 13,
   "metadata": {},
   "outputs": [],
   "source": [
    "#Here I am using the Keras API to configure the layers.\n",
    "\n",
    "#Below is a pretty typical model with 6 convolutional layers and 2 maxpool layers. Architectures can get very large\n",
    "#and complicated with hundreds or thousands of layers. There are a lot of nuances that would be difficult to fully\n",
    "#explain here. General notes though regarding basic layer purposes:\n",
    "\n",
    "#1. Convolutional layers create feature maps. Tends to be the largest contributor to computational time in most modern \n",
    "#architectures. FilterSize(Filter Quantity) scales linearly with computational resource used, however from literature, \n",
    "#general sentiment seems to be that simple features generated early on are not as useful as the complex ones generated later\n",
    "#in terms of creating a discrimitory model, and thus filtersizes tend to start low and grow gradually as move convolutions\n",
    "#are involved and more complex features captured. As with almost all hyperparameters, they tend to increase by a factor of 2\n",
    "#due to computational efficiency\n",
    "\n",
    "#2. Layers with strides of greater than 1x1 will result in dimensionality reduction, used to control parameter \n",
    "#quantity/training speed, usually in conjunction with pooling layers. Asymmetrical strides(1x3 or 3x1) are occasionally\n",
    "#used in situations where images are rectangular and sparse - also used in more advanced models(Inception v2+ and its\n",
    "#variants come to mind).\n",
    "\n",
    "#3. Pooling layers are used to condense information of an area of tensors into a single value. Generally speaking \n",
    "#use one of these every once every several convolutional layers, and not next to each other(use a single pooling \n",
    "#layer with larger stride steps to achieve similar effect with less calculations). Very handy for reducing parameters. For\n",
    "#whatever reason there seems to be a preference for Max Pooling over Average Pooling, but both can work. Be aware that\n",
    "#because pooling layers reduce dimensionality, errors will be thrown if a given pooling window exceeds the tensor size\n",
    "\n",
    "#3. Normalization layers(generally batch normalization and/or dropout layers) can help with overfitting/training speed,\n",
    "#dropout has fallen out of favor the past couple of years. If you choose to use a dropout layer, apply to only fully\n",
    "#connected layers, or use a small dropout ratio(.1 or less). Probably just use batch normalization instead if you're just\n",
    "#starting out.\n",
    "\n",
    "#4. There are many activation functions, the most popular is ReLU with and it's variants(Such as Elu/PreLu) with default\n",
    "#hyperparameters and SGD with the tuned hyperparameters\n",
    "\n",
    "#5. Window Size, or Kernal Size, is typically a function of the size of the tensor being convolved. Many models which deal \n",
    "#with tensor inputs of large sizes will have window sizes of 7+ in the early layers(sometimes called input stems). Window\n",
    "#size dimensions tend to be odd(3x3,5x5,7x7 are common), however I personally have no see research regarding the efficacy of\n",
    "#even numbered dimensions - from personal experience they can work just as well. I am not aware of any use of window sizes \n",
    "#of 1x1 for pooling layers. 1x1 windows for convolutional layers however can be used in certain models for the purposes of \n",
    "#dimensionality reduction(Inception modules and its variants from GoogleNet uses these).\n",
    "\n",
    "def generateModel():\n",
    "    #This is a binary problem, either normal or pneumonic, so number is 2\n",
    "    categoryQuant = 2\n",
    "    #input layer - note the 1 is because of greyscaling, it would be a 3 if colored images were being used\n",
    "    input_layer = Input(shape = (PRE_PROCESSING_IMG_SIZE_WIDTH_PIXELS, PRE_PROCESSING_IMG_SIZE_HEIGHT_PIXELS,1))\n",
    "    \n",
    "    filterSize = 32\n",
    "    conv1 = Conv2D(filterSize, (3,3), strides=(1,1), padding='same')(input_layer)\n",
    "    conv1 = BatchNormalization()(conv1)\n",
    "    conv1 = Activation(\"elu\")(conv1)\n",
    "    conv1 = Conv2D(filterSize, (3,3), strides=(1,1), padding='same')(conv1)\n",
    "    conv1 = BatchNormalization()(conv1)\n",
    "    conv1 = Activation(\"elu\")(conv1)\n",
    "\n",
    "    maxPool1 = MaxPooling2D(pool_size=(3,3), strides=(2,2), padding='same')(conv1)\n",
    "    \n",
    "    filterSize = 64\n",
    "    conv2 = Conv2D(filterSize, (3,3), strides=(1,1), padding='same')(maxPool1)\n",
    "    conv2 = BatchNormalization()(conv2)\n",
    "    conv2 = Activation(\"elu\")(conv2)\n",
    "    conv2 = Conv2D(filterSize, (3,3), strides=(1,1), padding='same')(conv2)\n",
    "    conv2 = BatchNormalization()(conv2)\n",
    "    conv2 = Activation(\"elu\")(conv2)\n",
    "    \n",
    "    maxPool2 = MaxPooling2D(pool_size=(3,3), strides=(2,2), padding='same')(conv2)\n",
    "    \n",
    "    filterSize = 128\n",
    "    conv3 = Conv2D(filterSize, (3,3), strides=(1,1), padding='same')(maxPool2)\n",
    "    conv3 = BatchNormalization()(conv3)\n",
    "    conv3 = Activation(\"elu\")(conv3)\n",
    "    conv3 = Conv2D(filterSize, (3,3), strides=(1,1), padding='same')(maxPool2)\n",
    "    conv3 = BatchNormalization()(conv3)\n",
    "    conv3 = Activation(\"elu\")(conv3)\n",
    "    \n",
    "    #Older models(prior to Googlenet) used a stack of 2 or 3 fully connected layers in the output stem. Modern models\n",
    "    #tend to avoid the use of fully connected layers to decrease parameters used.\n",
    "    #What is sometimes called \"Global Average Pooling\" is used here. Unlike normal pooling layers, the stride size is 1x1\n",
    "    #and thus no dimension reduction takes place here, rather it is used to enforce correspondence between feature maps\n",
    "    #generated in the prior convolutional layers and categorization during the softmax process. It is used in conjunction\n",
    "    #with a Flatten layer.\n",
    "    outputStem = AveragePooling2D(pool_size=(3,3), strides=(1,1), padding='same')(conv3)\n",
    "    outputStem = Flatten()(outputStem)\n",
    "    \n",
    "    #Note that the final layer is always dense, and because this is a categorization problem, the activation function is\n",
    "    #softmax\n",
    "    outputStem = Dense(categoryQuant, activation='softmax')(outputStem)\n",
    "    \n",
    "    #This final step is specific to the Keras API method, where the tensor representation is converted to a model\n",
    "    model = Model(inputs = input_layer, outputs = outputStem)\n",
    "    return model"
   ]
  },
  {
   "cell_type": "code",
   "execution_count": 14,
   "metadata": {},
   "outputs": [
    {
     "name": "stdout",
     "output_type": "stream",
     "text": [
      "Model: \"model\"\n",
      "_________________________________________________________________\n",
      "Layer (type)                 Output Shape              Param #   \n",
      "=================================================================\n",
      "input_1 (InputLayer)         [(None, 32, 32, 1)]       0         \n",
      "_________________________________________________________________\n",
      "conv2d (Conv2D)              (None, 32, 32, 32)        320       \n",
      "_________________________________________________________________\n",
      "batch_normalization (BatchNo (None, 32, 32, 32)        128       \n",
      "_________________________________________________________________\n",
      "activation (Activation)      (None, 32, 32, 32)        0         \n",
      "_________________________________________________________________\n",
      "conv2d_1 (Conv2D)            (None, 32, 32, 32)        9248      \n",
      "_________________________________________________________________\n",
      "batch_normalization_1 (Batch (None, 32, 32, 32)        128       \n",
      "_________________________________________________________________\n",
      "activation_1 (Activation)    (None, 32, 32, 32)        0         \n",
      "_________________________________________________________________\n",
      "max_pooling2d (MaxPooling2D) (None, 16, 16, 32)        0         \n",
      "_________________________________________________________________\n",
      "conv2d_2 (Conv2D)            (None, 16, 16, 64)        18496     \n",
      "_________________________________________________________________\n",
      "batch_normalization_2 (Batch (None, 16, 16, 64)        256       \n",
      "_________________________________________________________________\n",
      "activation_2 (Activation)    (None, 16, 16, 64)        0         \n",
      "_________________________________________________________________\n",
      "conv2d_3 (Conv2D)            (None, 16, 16, 64)        36928     \n",
      "_________________________________________________________________\n",
      "batch_normalization_3 (Batch (None, 16, 16, 64)        256       \n",
      "_________________________________________________________________\n",
      "activation_3 (Activation)    (None, 16, 16, 64)        0         \n",
      "_________________________________________________________________\n",
      "max_pooling2d_1 (MaxPooling2 (None, 8, 8, 64)          0         \n",
      "_________________________________________________________________\n",
      "conv2d_5 (Conv2D)            (None, 8, 8, 128)         73856     \n",
      "_________________________________________________________________\n",
      "batch_normalization_5 (Batch (None, 8, 8, 128)         512       \n",
      "_________________________________________________________________\n",
      "activation_5 (Activation)    (None, 8, 8, 128)         0         \n",
      "_________________________________________________________________\n",
      "average_pooling2d (AveragePo (None, 8, 8, 128)         0         \n",
      "_________________________________________________________________\n",
      "flatten (Flatten)            (None, 8192)              0         \n",
      "_________________________________________________________________\n",
      "dense (Dense)                (None, 2)                 16386     \n",
      "=================================================================\n",
      "Total params: 156,514\n",
      "Trainable params: 155,874\n",
      "Non-trainable params: 640\n",
      "_________________________________________________________________\n",
      "None\n"
     ]
    }
   ],
   "source": [
    "model = generateModel()\n",
    "print(model.summary())\n",
    "\n",
    "#Output shape can be important when attempting to add or concatenate layers, and here is a good place to check\n",
    "#If time to train is an issue, checking here for where sources of large amount of parameters is also a good idea"
   ]
  },
  {
   "cell_type": "code",
   "execution_count": 15,
   "metadata": {},
   "outputs": [
    {
     "name": "stdout",
     "output_type": "stream",
     "text": [
      "Epoch 1/12\n",
      "51/51 [==============================] - 15s 287ms/step - loss: 0.3776 - accuracy: 0.8910 - val_loss: 1.5716 - val_accuracy: 0.7451\n",
      "Epoch 2/12\n",
      "51/51 [==============================] - 18s 346ms/step - loss: 0.2473 - accuracy: 0.9204 - val_loss: 2.0280 - val_accuracy: 0.7451\n",
      "Epoch 3/12\n",
      "51/51 [==============================] - 19s 375ms/step - loss: 0.0787 - accuracy: 0.9694 - val_loss: 2.9308 - val_accuracy: 0.7451\n",
      "Epoch 4/12\n",
      "51/51 [==============================] - 18s 348ms/step - loss: 0.0645 - accuracy: 0.9747 - val_loss: 3.4418 - val_accuracy: 0.7451\n",
      "Epoch 5/12\n",
      "51/51 [==============================] - 17s 337ms/step - loss: 0.0433 - accuracy: 0.9844 - val_loss: 2.4165 - val_accuracy: 0.7451\n",
      "Epoch 6/12\n",
      "51/51 [==============================] - 16s 313ms/step - loss: 0.0426 - accuracy: 0.9834 - val_loss: 3.3706 - val_accuracy: 0.7451\n",
      "Epoch 7/12\n",
      "51/51 [==============================] - 15s 294ms/step - loss: 0.0233 - accuracy: 0.9919 - val_loss: 2.1323 - val_accuracy: 0.7451\n",
      "Epoch 8/12\n",
      "51/51 [==============================] - 15s 302ms/step - loss: 0.0116 - accuracy: 0.9959 - val_loss: 2.2278 - val_accuracy: 0.7451\n",
      "Epoch 9/12\n",
      "51/51 [==============================] - 16s 305ms/step - loss: 0.0279 - accuracy: 0.9919 - val_loss: 1.8159 - val_accuracy: 0.7510\n",
      "Epoch 10/12\n",
      "51/51 [==============================] - 15s 288ms/step - loss: 0.0080 - accuracy: 0.9975 - val_loss: 1.4371 - val_accuracy: 0.7706\n",
      "Epoch 11/12\n",
      "51/51 [==============================] - 14s 284ms/step - loss: 0.0069 - accuracy: 0.9975 - val_loss: 0.2296 - val_accuracy: 0.9412\n",
      "Epoch 12/12\n",
      "51/51 [==============================] - 15s 292ms/step - loss: 0.0035 - accuracy: 0.9994 - val_loss: 0.4005 - val_accuracy: 0.9235\n",
      "16/16 [==============================] - 1s 32ms/step - loss: 0.4005 - accuracy: 0.9235\n"
     ]
    }
   ],
   "source": [
    "#From personal experience, .001 is a good place to start for LR, however from literature I've seen as high as .1 and as\n",
    "#low as 1e-7. There seems to be a negative correlation between number of parameters and learning rate.\n",
    "#Epochnum and \n",
    "learningRate = .001\n",
    "\n",
    "#Epochs trained can be highly variable - in general stop training early when you see val_loss plateaus or starts decreasing\n",
    "#An optimized learning rate/other hyper parameters can also decrease number of epochs required to train\n",
    "epochNum = 12\n",
    "batchSize = 64\n",
    "\n",
    "model.compile(keras.optimizers.Adam(lr=learningRate),metrics=[\"accuracy\"],loss=\"categorical_crossentropy\")\n",
    "history = model.fit(trainImages, trainLabels, validation_data=(validationImages, validationLabels), epochs=epochNum, batch_size=batchSize, verbose=1)\n",
    "accuracy_scores = model.evaluate(validationImages, validationLabels, verbose=1)"
   ]
  },
  {
   "cell_type": "code",
   "execution_count": 16,
   "metadata": {},
   "outputs": [
    {
     "name": "stdout",
     "output_type": "stream",
     "text": [
      "dict_keys(['loss', 'accuracy', 'val_loss', 'val_accuracy'])\n"
     ]
    },
    {
     "data": {
      "image/png": "[encoded data removed]",
      "text/plain": [
       "<Figure size 432x288 with 1 Axes>"
      ]
     },
     "metadata": {
      "needs_background": "light"
     },
     "output_type": "display_data"
    },
    {
     "data": {
      "image/png": "[encoded data removed]",
      "text/plain": [
       "<Figure size 432x288 with 1 Axes>"
      ]
     },
     "metadata": {
      "needs_background": "light"
     },
     "output_type": "display_data"
    }
   ],
   "source": [
    "#Here we can see a summary of the training process to make judgements. Is there overfitting? Is there underfitting? \n",
    "#Overfitting is typically characterized by a large gap between training loss and validation loss, as well as increasing\n",
    "#validation loss after initially decreasing. Underfitting is characterized by situations where validation loss is\n",
    "#significantly less than(val_acc greater than) the training sample's.\n",
    "\n",
    "print(history.history.keys())\n",
    "\n",
    "# summarize history for accuracy\n",
    "plt.plot(history.history['accuracy'])\n",
    "plt.plot(history.history['val_accuracy'])\n",
    "plt.title('model accuracy')\n",
    "plt.ylabel('accuracy')\n",
    "plt.xlabel('epoch')\n",
    "plt.legend(['train', 'test'], loc='upper left')\n",
    "plt.show()\n",
    "\n",
    "\n",
    "# summarize history for loss\n",
    "plt.plot(history.history['loss'])\n",
    "plt.plot(history.history['val_loss'])\n",
    "plt.title('model loss')\n",
    "plt.ylabel('loss')\n",
    "plt.xlabel('epoch')\n",
    "plt.legend(['train', 'test'], loc='upper left')\n",
    "plt.show()"
   ]
  },
  {
   "cell_type": "code",
   "execution_count": 17,
   "metadata": {},
   "outputs": [
    {
     "name": "stdout",
     "output_type": "stream",
     "text": [
      "16/16 [==============================] - 0s 24ms/step - loss: 0.2578 - accuracy: 0.9314\n",
      "Test Sample Loss: 0.25779736042022705\n",
      "Test Sample Accuracy: 0.9313725233078003\n"
     ]
    }
   ],
   "source": [
    "#Here we see how well the model performs on data it's never seen before, the test data set!\n",
    "accuracy_scores = model.evaluate(testImages, testLabels, verbose=1)\n",
    "print(\"Test Sample Loss: \" + str(accuracy_scores[0]))\n",
    "print(\"Test Sample Accuracy: \" + str(accuracy_scores[1]))"
   ]
  },
  {
   "cell_type": "code",
   "execution_count": 18,
   "metadata": {},
   "outputs": [
    {
     "name": "stdout",
     "output_type": "stream",
     "text": [
      "Saved model to disk\n"
     ]
    }
   ],
   "source": [
    "#Save model for future use or training - the way this function is written at the moment overwrites and saves as model.json\n",
    "#and model.h5\n",
    "saveModel()"
   ]
  },
  {
   "cell_type": "code",
   "execution_count": null,
   "metadata": {},
   "outputs": [],
   "source": []
  }
 ],
 "metadata": {
  "kernelspec": {
   "display_name": "Python 3 (ipykernel)",
   "language": "python",
   "name": "python3"
  },
  "language_info": {
   "codemirror_mode": {
    "name": "ipython",
    "version": 3
   },
   "file_extension": ".py",
   "mimetype": "text/x-python",
   "name": "python",
   "nbconvert_exporter": "python",
   "pygments_lexer": "ipython3",
   "version": "3.9.7"
  }
 },
 "nbformat": 4,
 "nbformat_minor": 2
}
