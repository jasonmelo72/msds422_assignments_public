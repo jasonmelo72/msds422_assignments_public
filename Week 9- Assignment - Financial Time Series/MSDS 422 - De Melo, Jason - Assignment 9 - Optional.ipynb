{
 "cells": [
  {
   "cell_type": "markdown",
   "metadata": {},
   "source": [
    "# MSDS 422 - Practical Machine Learning - Week 9 - Assignment"
   ]
  },
  {
   "cell_type": "markdown",
   "metadata": {},
   "source": [
    "##### Author: Jason De Melo - 3/6/2022"
   ]
  },
  {
   "cell_type": "markdown",
   "metadata": {},
   "source": [
    "## Import Libraries"
   ]
  },
  {
   "cell_type": "code",
   "execution_count": 1,
   "metadata": {},
   "outputs": [],
   "source": [
    "# Python ≥3.5 is required\n",
    "import sys\n",
    "assert sys.version_info >= (3, 5)\n",
    "\n",
    "# Scikit-Learn ≥0.20 is required\n",
    "import sklearn\n",
    "from sklearn.model_selection import train_test_split\n",
    "from sklearn.preprocessing import MinMaxScaler\n",
    "assert sklearn.__version__ >= \"0.20\"\n",
    "\n",
    "# TensorFlow ≥2.0 is required\n",
    "import tensorflow as tf\n",
    "from tensorflow import keras\n",
    "from tensorflow.keras.preprocessing import text\n",
    "from tensorflow.keras.models import Sequential\n",
    "from tensorflow.keras.layers import Embedding, Bidirectional, Dropout, SimpleRNN, LSTM, Dense, Flatten, GRU\n",
    "assert tf.__version__ >= \"2.0\"\n",
    "\n",
    "# Common imports\n",
    "import os\n",
    "import re\n",
    "import string\n",
    "import nltk\n",
    "#nltk.download('stopwords')\n",
    "#nltk.download('wordnet')\n",
    "#nltk.download('omw-1.4')\n",
    "from IPython.display import Image\n",
    "import numpy as np\n",
    "import pandas as pd\n",
    "from pathlib import Path\n",
    "import seaborn as sns\n",
    "import datetime as dt\n",
    "import pandas_datareader as pdr\n",
    "\n",
    "# Natural Language Toolkit (NLTK)\n",
    "from nltk.corpus import stopwords\n",
    "from nltk.stem import WordNetLemmatizer\n",
    "\n",
    "# To plot pretty figures\n",
    "%matplotlib inline\n",
    "import matplotlib as mpl\n",
    "import matplotlib.pyplot as plt\n",
    "mpl.rc('axes', labelsize=14)\n",
    "mpl.rc('xtick', labelsize=12)\n",
    "mpl.rc('ytick', labelsize=12)"
   ]
  },
  {
   "cell_type": "markdown",
   "metadata": {},
   "source": [
    "#### Import the historical data for S&P 500 index"
   ]
  },
  {
   "cell_type": "code",
   "execution_count": 2,
   "metadata": {},
   "outputs": [
    {
     "data": {
      "text/html": [
       "<div>\n",
       "<style scoped>\n",
       "    .dataframe tbody tr th:only-of-type {\n",
       "        vertical-align: middle;\n",
       "    }\n",
       "\n",
       "    .dataframe tbody tr th {\n",
       "        vertical-align: top;\n",
       "    }\n",
       "\n",
       "    .dataframe thead th {\n",
       "        text-align: right;\n",
       "    }\n",
       "</style>\n",
       "<table border=\"1\" class=\"dataframe\">\n",
       "  <thead>\n",
       "    <tr style=\"text-align: right;\">\n",
       "      <th></th>\n",
       "      <th>date</th>\n",
       "      <th>high</th>\n",
       "      <th>low</th>\n",
       "      <th>open</th>\n",
       "      <th>close</th>\n",
       "      <th>volume</th>\n",
       "      <th>adj_close</th>\n",
       "    </tr>\n",
       "  </thead>\n",
       "  <tbody>\n",
       "    <tr>\n",
       "      <th>0</th>\n",
       "      <td>2017-03-01</td>\n",
       "      <td>2400.979980</td>\n",
       "      <td>2380.129883</td>\n",
       "      <td>2380.129883</td>\n",
       "      <td>2395.959961</td>\n",
       "      <td>4345180000</td>\n",
       "      <td>2395.959961</td>\n",
       "    </tr>\n",
       "    <tr>\n",
       "      <th>1</th>\n",
       "      <td>2017-03-02</td>\n",
       "      <td>2394.750000</td>\n",
       "      <td>2380.169922</td>\n",
       "      <td>2394.750000</td>\n",
       "      <td>2381.919922</td>\n",
       "      <td>3821320000</td>\n",
       "      <td>2381.919922</td>\n",
       "    </tr>\n",
       "    <tr>\n",
       "      <th>2</th>\n",
       "      <td>2017-03-03</td>\n",
       "      <td>2383.889893</td>\n",
       "      <td>2375.389893</td>\n",
       "      <td>2380.919922</td>\n",
       "      <td>2383.120117</td>\n",
       "      <td>3555260000</td>\n",
       "      <td>2383.120117</td>\n",
       "    </tr>\n",
       "    <tr>\n",
       "      <th>3</th>\n",
       "      <td>2017-03-06</td>\n",
       "      <td>2378.800049</td>\n",
       "      <td>2367.979980</td>\n",
       "      <td>2375.229980</td>\n",
       "      <td>2375.310059</td>\n",
       "      <td>3232700000</td>\n",
       "      <td>2375.310059</td>\n",
       "    </tr>\n",
       "    <tr>\n",
       "      <th>4</th>\n",
       "      <td>2017-03-07</td>\n",
       "      <td>2375.120117</td>\n",
       "      <td>2365.510010</td>\n",
       "      <td>2370.739990</td>\n",
       "      <td>2368.389893</td>\n",
       "      <td>3518390000</td>\n",
       "      <td>2368.389893</td>\n",
       "    </tr>\n",
       "  </tbody>\n",
       "</table>\n",
       "</div>"
      ],
      "text/plain": [
       "        date         high          low         open        close      volume  \\\n",
       "0 2017-03-01  2400.979980  2380.129883  2380.129883  2395.959961  4345180000   \n",
       "1 2017-03-02  2394.750000  2380.169922  2394.750000  2381.919922  3821320000   \n",
       "2 2017-03-03  2383.889893  2375.389893  2380.919922  2383.120117  3555260000   \n",
       "3 2017-03-06  2378.800049  2367.979980  2375.229980  2375.310059  3232700000   \n",
       "4 2017-03-07  2375.120117  2365.510010  2370.739990  2368.389893  3518390000   \n",
       "\n",
       "     adj_close  \n",
       "0  2395.959961  \n",
       "1  2381.919922  \n",
       "2  2383.120117  \n",
       "3  2375.310059  \n",
       "4  2368.389893  "
      ]
     },
     "execution_count": 2,
     "metadata": {},
     "output_type": "execute_result"
    }
   ],
   "source": [
    "filename = \"SP500.csv\"\n",
    "if not [each for each in os.listdir('.') if each == filename]:\n",
    "    data = pdr.get_data_yahoo('^GSPC', start = dt.datetime(2017,3,1), end = dt.datetime(2022,2,28))\n",
    "    data.reset_index(inplace=True)\n",
    "    data.columns = ['date', 'high', 'low', 'open', 'close', 'volume', 'adj_close']\n",
    "    #data.set_index('date', inplace=True)\n",
    "    data.to_csv(\"SP500.csv\", encoding='utf-8')\n",
    "    #data['date'] = pd.to_datetime(data['date']).value\n",
    "    #data['date_num'] = data['date'].values.astype(float)\n",
    "    #data.set_index('date', inplace=True)\n",
    "else:\n",
    "    data = pd.read_csv(filename, encoding='utf-8', parse_dates=['date'])\n",
    "    #data['date'] = pd.to_datetime(data['date'])\n",
    "    #data['date_num'] = data['date'].values.astype(float)\n",
    "    #data.set_index('date', inplace=True)\n",
    "data.head()"
   ]
  },
  {
   "cell_type": "code",
   "execution_count": 3,
   "metadata": {},
   "outputs": [
    {
     "data": {
      "text/html": [
       "<div>\n",
       "<style scoped>\n",
       "    .dataframe tbody tr th:only-of-type {\n",
       "        vertical-align: middle;\n",
       "    }\n",
       "\n",
       "    .dataframe tbody tr th {\n",
       "        vertical-align: top;\n",
       "    }\n",
       "\n",
       "    .dataframe thead th {\n",
       "        text-align: right;\n",
       "    }\n",
       "</style>\n",
       "<table border=\"1\" class=\"dataframe\">\n",
       "  <thead>\n",
       "    <tr style=\"text-align: right;\">\n",
       "      <th></th>\n",
       "      <th>high</th>\n",
       "      <th>low</th>\n",
       "      <th>open</th>\n",
       "      <th>close</th>\n",
       "      <th>volume</th>\n",
       "      <th>adj_close</th>\n",
       "    </tr>\n",
       "  </thead>\n",
       "  <tbody>\n",
       "    <tr>\n",
       "      <th>count</th>\n",
       "      <td>1259.000000</td>\n",
       "      <td>1259.000000</td>\n",
       "      <td>1259.000000</td>\n",
       "      <td>1259.000000</td>\n",
       "      <td>1.259000e+03</td>\n",
       "      <td>1259.000000</td>\n",
       "    </tr>\n",
       "    <tr>\n",
       "      <th>mean</th>\n",
       "      <td>3205.339841</td>\n",
       "      <td>3170.685044</td>\n",
       "      <td>3188.838792</td>\n",
       "      <td>3189.184883</td>\n",
       "      <td>3.867971e+09</td>\n",
       "      <td>3189.184883</td>\n",
       "    </tr>\n",
       "    <tr>\n",
       "      <th>std</th>\n",
       "      <td>692.549068</td>\n",
       "      <td>685.400610</td>\n",
       "      <td>688.961143</td>\n",
       "      <td>689.307952</td>\n",
       "      <td>1.067455e+09</td>\n",
       "      <td>689.307952</td>\n",
       "    </tr>\n",
       "    <tr>\n",
       "      <th>min</th>\n",
       "      <td>2300.729980</td>\n",
       "      <td>2191.860107</td>\n",
       "      <td>2290.709961</td>\n",
       "      <td>2237.399902</td>\n",
       "      <td>1.296540e+09</td>\n",
       "      <td>2237.399902</td>\n",
       "    </tr>\n",
       "    <tr>\n",
       "      <th>25%</th>\n",
       "      <td>2708.744995</td>\n",
       "      <td>2677.385010</td>\n",
       "      <td>2691.104980</td>\n",
       "      <td>2692.189941</td>\n",
       "      <td>3.233955e+09</td>\n",
       "      <td>2692.189941</td>\n",
       "    </tr>\n",
       "    <tr>\n",
       "      <th>50%</th>\n",
       "      <td>2931.149902</td>\n",
       "      <td>2903.820068</td>\n",
       "      <td>2918.459961</td>\n",
       "      <td>2919.370117</td>\n",
       "      <td>3.589930e+09</td>\n",
       "      <td>2919.370117</td>\n",
       "    </tr>\n",
       "    <tr>\n",
       "      <th>75%</th>\n",
       "      <td>3643.310059</td>\n",
       "      <td>3608.959961</td>\n",
       "      <td>3634.839966</td>\n",
       "      <td>3632.529907</td>\n",
       "      <td>4.155015e+09</td>\n",
       "      <td>3632.529907</td>\n",
       "    </tr>\n",
       "    <tr>\n",
       "      <th>max</th>\n",
       "      <td>4818.620117</td>\n",
       "      <td>4780.040039</td>\n",
       "      <td>4804.509766</td>\n",
       "      <td>4796.560059</td>\n",
       "      <td>9.878040e+09</td>\n",
       "      <td>4796.560059</td>\n",
       "    </tr>\n",
       "  </tbody>\n",
       "</table>\n",
       "</div>"
      ],
      "text/plain": [
       "              high          low         open        close        volume  \\\n",
       "count  1259.000000  1259.000000  1259.000000  1259.000000  1.259000e+03   \n",
       "mean   3205.339841  3170.685044  3188.838792  3189.184883  3.867971e+09   \n",
       "std     692.549068   685.400610   688.961143   689.307952  1.067455e+09   \n",
       "min    2300.729980  2191.860107  2290.709961  2237.399902  1.296540e+09   \n",
       "25%    2708.744995  2677.385010  2691.104980  2692.189941  3.233955e+09   \n",
       "50%    2931.149902  2903.820068  2918.459961  2919.370117  3.589930e+09   \n",
       "75%    3643.310059  3608.959961  3634.839966  3632.529907  4.155015e+09   \n",
       "max    4818.620117  4780.040039  4804.509766  4796.560059  9.878040e+09   \n",
       "\n",
       "         adj_close  \n",
       "count  1259.000000  \n",
       "mean   3189.184883  \n",
       "std     689.307952  \n",
       "min    2237.399902  \n",
       "25%    2692.189941  \n",
       "50%    2919.370117  \n",
       "75%    3632.529907  \n",
       "max    4796.560059  "
      ]
     },
     "execution_count": 3,
     "metadata": {},
     "output_type": "execute_result"
    }
   ],
   "source": [
    "data.describe()"
   ]
  },
  {
   "cell_type": "markdown",
   "metadata": {},
   "source": [
    "## Data Preparation - Technical Indicators"
   ]
  },
  {
   "cell_type": "markdown",
   "metadata": {},
   "source": [
    ">##### code extracted from <a href=\"https://towardsdatascience.com/building-a-comprehensive-set-of-technical-indicators-in-python-for-quantitative-trading-8d98751b5fb\">Towards Data Science</a> website."
   ]
  },
  {
   "cell_type": "markdown",
   "metadata": {},
   "source": [
    "#### Simple Moving Average (SMA)"
   ]
  },
  {
   "cell_type": "markdown",
   "metadata": {},
   "source": [
    "Simple Moving Average is one of the most common technical indicators. SMA calculates the average of prices over a given interval of time and is used to determine the trend of the stock. As defined above, I will create a slow SMA (SMA_15) and a fast SMA (SMA_5). To provide Machine Learning algorithms with already engineered factors, one can also use (SMA_15/SMA_5) or (SMA_15 - SMA_5) as a factor to capture the relationship between these two moving averages."
   ]
  },
  {
   "cell_type": "code",
   "execution_count": 4,
   "metadata": {},
   "outputs": [],
   "source": [
    "def sma(dataset: pd.DataFrame, sma_slow: int = 15, sma_fast: int = 5) -> pd.DataFrame:\n",
    "    dataset['sma_slow'] = dataset['adj_close'].transform(lambda x: x.rolling(window=sma_slow).mean())\n",
    "    dataset['sma_fast'] = dataset['adj_close'].transform(lambda x: x.rolling(window=sma_fast).mean())\n",
    "    dataset['sma_ratio'] = dataset['sma_slow'] / dataset['sma_fast']\n",
    "    return dataset"
   ]
  },
  {
   "cell_type": "markdown",
   "metadata": {},
   "source": [
    "#### Simple Moving Average Volume"
   ]
  },
  {
   "cell_type": "markdown",
   "metadata": {},
   "source": [
    "Similar to Simple Moving Average of price, a simple moving average of volume provides insights into the strength of signal that the stock displays."
   ]
  },
  {
   "cell_type": "code",
   "execution_count": 5,
   "metadata": {},
   "outputs": [],
   "source": [
    "def smav(dataset: pd.DataFrame, sma_slow: int = 15, sma_fast: int = 5) -> pd.DataFrame:\n",
    "    dataset['smav_slow'] = dataset['volume'].transform(lambda x: x.rolling(window=sma_slow).mean())\n",
    "    dataset['smav_fast'] = dataset['volume'].transform(lambda x: x.rolling(window=sma_fast).mean())\n",
    "    dataset['smav_ratio'] = dataset['smav_fast'] / dataset['smav_slow']\n",
    "    return dataset"
   ]
  },
  {
   "cell_type": "markdown",
   "metadata": {},
   "source": [
    "#### Wilder’s Smoothing"
   ]
  },
  {
   "cell_type": "markdown",
   "metadata": {},
   "source": [
    "Before moving on to the next indicator, I would like to mention another type of smoothening or moving average that is commonly used with other indicators. Although SMA is quite common, it contains a bias of giving equal weight to each value in the past. To solve this, Wells Wilder introduced a new version of smoothening that places more weight on the recent events. We will use Wilder’s Smoothing for most of our following indicators, and below is the function that can be generally used to obtain this Smoothing."
   ]
  },
  {
   "cell_type": "code",
   "execution_count": 6,
   "metadata": {},
   "outputs": [],
   "source": [
    "def wilder(data, periods):\n",
    "    start = np.where(~np.isnan(data))[0][0] #Check if nans present in beginning\n",
    "    wilder = np.array([np.nan]*len(data))\n",
    "    wilder[start+periods-1] = data[start:(start+periods)].mean() #Simple Moving Average\n",
    "    for i in range(start+periods,len(data)):\n",
    "        wilder[i] = (wilder[i-1]*(periods-1) + data[i])/periods #Wilder Smoothing\n",
    "    return(wilder)"
   ]
  },
  {
   "cell_type": "markdown",
   "metadata": {},
   "source": [
    "#### Average True Range (ATR)"
   ]
  },
  {
   "cell_type": "markdown",
   "metadata": {},
   "source": [
    "Average True Range is a common technical indicator used to measure volatility in the market, measured as a moving average of True Ranges. A higher ATR of a company implied higher volatility of the stock. ATR however is primarily used in identifying when to exit or enter a trade rather than the direction in which to trade the stock.<p>\n",
    "As defined above, a slow ATR represents 5 days moving average and fast ATR represents 15 days moving average.<p>\n",
    "True Range is defined as maximum of:\n",
    "1. High - Low\n",
    "2. abs(High - Previous Close)\n",
    "3. abs(Low - Previous Close)"
   ]
  },
  {
   "cell_type": "code",
   "execution_count": 7,
   "metadata": {},
   "outputs": [],
   "source": [
    "def atr(dataset: pd.DataFrame, wilder_slow: int = 15, wilder_fast: int = 5) -> pd.DataFrame:\n",
    "    dataset['prev_close'] = dataset['close'].shift(1)\n",
    "    dataset['tr'] = np.maximum((dataset['high'] - dataset['low']),\n",
    "                                np.maximum(abs(dataset['high'] - dataset['prev_close']),\n",
    "                                           abs(dataset['prev_close'] - dataset['low'])))\n",
    "    dataset['atr_slow'] = wilder(dataset['tr'], wilder_slow)\n",
    "    dataset['atr_fast'] = wilder(dataset['tr'], wilder_fast)\n",
    "    dataset['atr_ratio'] = dataset['atr_fast'] / dataset['atr_slow']\n",
    "    return dataset"
   ]
  },
  {
   "cell_type": "markdown",
   "metadata": {},
   "source": [
    "#### Average Directional Index (ADX)"
   ]
  },
  {
   "cell_type": "markdown",
   "metadata": {},
   "source": [
    "Average Directional Index was developed by Wilder to assess the strength of a trend in stock prices. Two of its main components, +DI and -DI helps in identifying the direction of the trend. In general, an ADX of 25 or above indicates a strong trend and an ADX of less than 20 indicates a weak trend. The calculation of ADX is quite complex and requires certain steps."
   ]
  },
  {
   "cell_type": "code",
   "execution_count": 8,
   "metadata": {},
   "outputs": [],
   "source": [
    "def adx(dataset: pd.DataFrame, adx_slow: int = 15, adx_fast: int = 5) -> pd.DataFrame:\n",
    "    dataset['prev_high'] = dataset['high'].shift(1)\n",
    "    dataset['prev_low'] = dataset['low'].shift(1)\n",
    "\n",
    "    # +DM\n",
    "    dataset['+dm'] = np.where(~np.isnan(dataset.prev_high),\n",
    "                              np.where((dataset['high'] > dataset['prev_high']) & \n",
    "                                      ((dataset['high'] - dataset['prev_high']) > (dataset['prev_low'] - dataset['low'])),\n",
    "                                        dataset['high'] - dataset['prev_high'], 0), np.nan)\n",
    "    dataset['+dm_fast'] = wilder(dataset['+dm'], adx_fast)\n",
    "    dataset['+dm_slow'] = wilder(dataset['+dm'], adx_slow)\n",
    "\n",
    "    # -DM\n",
    "    dataset['-dm'] = np.where(~np.isnan(dataset.prev_low),\n",
    "                              np.where((dataset['prev_low'] > dataset['low']) & \n",
    "                                      ((dataset['prev_low'] - dataset['low']) > (dataset['high'] - dataset['prev_high'])),\n",
    "                                        dataset['prev_low'] - dataset['low'], 0), np.nan)\n",
    "    dataset['-dm_fast'] = wilder(dataset['-dm'], adx_fast)\n",
    "    dataset['-dm_slow'] = wilder(dataset['-dm'], adx_slow)\n",
    "\n",
    "    # +DI\n",
    "    dataset['+di_fast'] = (dataset['+dm_fast'] / dataset['atr_fast']) * 100\n",
    "    dataset['+di_slow'] = (dataset['+dm_slow'] / dataset['atr_slow']) * 100\n",
    "\n",
    "    # -DI\n",
    "    dataset['-di_fast'] = (dataset['-dm_fast'] / dataset['atr_fast']) * 100\n",
    "    dataset['-di_slow'] = (dataset['-dm_slow'] / dataset['atr_slow']) * 100\n",
    "\n",
    "    # DX\n",
    "    dataset['dx_fast'] = (np.round(abs(dataset['+di_fast'] - dataset['-di_fast']) / (dataset['+di_fast'] + dataset['-di_fast']) * 100))\n",
    "    dataset['dx_slow'] = (np.round(abs(dataset['+di_slow'] - dataset['-di_slow']) / (dataset['+di_slow'] + dataset['-di_slow']) * 100))\n",
    "    \n",
    "    # ADX\n",
    "    dataset['adx_fast'] = wilder(dataset['dx_fast'], adx_fast)\n",
    "    dataset['adx_slow'] = wilder(dataset['dx_slow'], adx_slow)\n",
    "\n",
    "    return dataset\n"
   ]
  },
  {
   "cell_type": "markdown",
   "metadata": {},
   "source": [
    "#### Stochastic Oscillators"
   ]
  },
  {
   "cell_type": "markdown",
   "metadata": {},
   "source": [
    "Stochastic oscillator is a momentum indicator aiming at identifying overbought and oversold securities and is commonly used in technical analysis."
   ]
  },
  {
   "cell_type": "code",
   "execution_count": 9,
   "metadata": {},
   "outputs": [],
   "source": [
    "def stochastic_oscillator(dataset: pd.DataFrame, stoch_slow: int = 15, stoch_fast: int = 5) -> pd.DataFrame:\n",
    "    dataset['stoch_fast_min'] = dataset['low'].transform(lambda x: x.rolling(window=stoch_fast).min())\n",
    "    dataset['stoch_fast_max'] = dataset['high'].transform(lambda x: x.rolling(window=stoch_fast).max())\n",
    "\n",
    "    dataset['stoch_slow_min'] = dataset['low'].transform(lambda x: x.rolling(window=stoch_slow).min())\n",
    "    dataset['stoch_slow_max'] = dataset['high'].transform(lambda x: x.rolling(window=stoch_slow).max())\n",
    "\n",
    "    dataset['stochastic_fast'] = ((dataset['close'] - dataset['stoch_fast_min']) / (dataset['stoch_fast_max'] - dataset['stoch_fast_min'])) * 100\n",
    "    dataset['stochastic_slow'] = ((dataset['close'] - dataset['stoch_slow_min']) / (dataset['stoch_slow_max'] - dataset['stoch_slow_min'])) * 100\n",
    "\n",
    "    dataset['stochastic_%fast'] = dataset['stochastic_fast'].rolling(window=stoch_fast).mean()\n",
    "    dataset['stochastic_%slow'] = dataset['stochastic_fast'].rolling(window=stoch_slow).mean()\n",
    "\n",
    "    dataset['stochastic_ratio'] = dataset['stochastic_%fast'] / dataset['stochastic_%slow']\n",
    "\n",
    "    return dataset\n"
   ]
  },
  {
   "cell_type": "markdown",
   "metadata": {},
   "source": [
    "#### Relative Strengh Index (RSI)"
   ]
  },
  {
   "cell_type": "markdown",
   "metadata": {},
   "source": [
    "RSI is one of the most common momentum indicator aimed at quantifies price changes and the speed of such change."
   ]
  },
  {
   "cell_type": "code",
   "execution_count": 10,
   "metadata": {},
   "outputs": [],
   "source": [
    "#TODO: implement RSI\n",
    "# all_data['Diff'] = all_data.groupby('symbol')['Close'].transform(lambda x: x.diff())\n",
    "# all_data['Up'] = all_data['Diff']\n",
    "# all_data.loc[(all_data['Up']<0), 'Up'] = 0\n",
    "\n",
    "# all_data['Down'] = all_data['Diff']\n",
    "# all_data.loc[(all_data['Down']>0), 'Down'] = 0 \n",
    "# all_data['Down'] = abs(all_data['Down'])\n",
    "\n",
    "# all_data['avg_5up'] = all_data.groupby('symbol')['Up'].transform(lambda x: x.rolling(window=5).mean())\n",
    "# all_data['avg_5down'] = all_data.groupby('symbol')['Down'].transform(lambda x: x.rolling(window=5).mean())\n",
    "\n",
    "# all_data['avg_15up'] = all_data.groupby('symbol')['Up'].transform(lambda x: x.rolling(window=15).mean())\n",
    "# all_data['avg_15down'] = all_data.groupby('symbol')['Down'].transform(lambda x: x.rolling(window=15).mean())\n",
    "\n",
    "# all_data['RS_5'] = all_data['avg_5up'] / all_data['avg_5down']\n",
    "# all_data['RS_15'] = all_data['avg_15up'] / all_data['avg_15down']\n",
    "\n",
    "# all_data['RSI_5'] = 100 - (100/(1+all_data['RS_5']))\n",
    "# all_data['RSI_15'] = 100 - (100/(1+all_data['RS_15']))\n",
    "\n",
    "# all_data['RSI_ratio'] = all_data['RSI_5']/all_data['RSI_15']"
   ]
  },
  {
   "cell_type": "markdown",
   "metadata": {},
   "source": [
    "#### Moving Average Convergence Divergence (MACD)"
   ]
  },
  {
   "cell_type": "markdown",
   "metadata": {},
   "source": [
    "MACD uses two exponentially moving averages and creates a trend analysis based on their convergence or divergence. Although most commonly used MACD slow and fast signals are based on 26 days and 12 days respectively, I have used 15 days and 5 days to be consistent with other indicators."
   ]
  },
  {
   "cell_type": "code",
   "execution_count": 11,
   "metadata": {},
   "outputs": [],
   "source": [
    "#TODO: implement MACD\n",
    "# all_data['5Ewm'] = all_data.groupby('symbol')['Close'].transform(lambda x: x.ewm(span=5, adjust=False).mean())\n",
    "# all_data['15Ewm'] = all_data.groupby('symbol')['Close'].transform(lambda x: x.ewm(span=15, adjust=False).mean())\n",
    "# all_data['MACD'] = all_data['15Ewm'] - all_data['5Ewm']"
   ]
  },
  {
   "cell_type": "markdown",
   "metadata": {},
   "source": [
    "#### Bollinger Bands"
   ]
  },
  {
   "cell_type": "markdown",
   "metadata": {},
   "source": [
    "Bollinger bands capture the volatility of a stock and are used to identify overbought and oversold stocks. Bollinger bands consists of three main elements: The simple moving average line, an upper bound which is 2 standard deviations above moving average and a lower bound which is 2 standard deviations below moving average."
   ]
  },
  {
   "cell_type": "code",
   "execution_count": 12,
   "metadata": {},
   "outputs": [],
   "source": [
    "#TODO: implement BB\n",
    "# all_data['15MA'] = all_data.groupby('symbol')['Close'].transform(lambda x: x.rolling(window=15).mean())\n",
    "# all_data['SD'] = all_data.groupby('symbol')['Close'].transform(lambda x: x.rolling(window=15).std())\n",
    "# all_data['upperband'] = all_data['15MA'] + 2*all_data['SD']\n",
    "# all_data['lowerband'] = all_data['15MA'] - 2*all_data['SD']"
   ]
  },
  {
   "cell_type": "markdown",
   "metadata": {},
   "source": [
    "#### Rate of Change"
   ]
  },
  {
   "cell_type": "markdown",
   "metadata": {},
   "source": [
    "Rate of change is a momentum indicator that explains a price momentum relative to a price fixed period before."
   ]
  },
  {
   "cell_type": "code",
   "execution_count": 13,
   "metadata": {},
   "outputs": [],
   "source": [
    "#TODO: implement rate of change\n",
    "# all_data['RC'] = all_data.groupby('symbol')['Close'].transform(lambda x: x.pct_change(periods = 15)) "
   ]
  },
  {
   "cell_type": "markdown",
   "metadata": {},
   "source": [
    "## Pre-process the dataset"
   ]
  },
  {
   "cell_type": "markdown",
   "metadata": {},
   "source": [
    "First, add the additional independent variables. The technical indicators, in this exercise."
   ]
  },
  {
   "cell_type": "code",
   "execution_count": 14,
   "metadata": {},
   "outputs": [],
   "source": [
    "data_enriched = data.copy()"
   ]
  },
  {
   "cell_type": "code",
   "execution_count": 15,
   "metadata": {},
   "outputs": [
    {
     "data": {
      "text/html": [
       "<div>\n",
       "<style scoped>\n",
       "    .dataframe tbody tr th:only-of-type {\n",
       "        vertical-align: middle;\n",
       "    }\n",
       "\n",
       "    .dataframe tbody tr th {\n",
       "        vertical-align: top;\n",
       "    }\n",
       "\n",
       "    .dataframe thead th {\n",
       "        text-align: right;\n",
       "    }\n",
       "</style>\n",
       "<table border=\"1\" class=\"dataframe\">\n",
       "  <thead>\n",
       "    <tr style=\"text-align: right;\">\n",
       "      <th></th>\n",
       "      <th>date</th>\n",
       "      <th>high</th>\n",
       "      <th>low</th>\n",
       "      <th>open</th>\n",
       "      <th>close</th>\n",
       "      <th>volume</th>\n",
       "      <th>adj_close</th>\n",
       "      <th>sma_slow</th>\n",
       "      <th>sma_fast</th>\n",
       "      <th>sma_ratio</th>\n",
       "    </tr>\n",
       "  </thead>\n",
       "  <tbody>\n",
       "    <tr>\n",
       "      <th>0</th>\n",
       "      <td>2017-03-01</td>\n",
       "      <td>2400.979980</td>\n",
       "      <td>2380.129883</td>\n",
       "      <td>2380.129883</td>\n",
       "      <td>2395.959961</td>\n",
       "      <td>4345180000</td>\n",
       "      <td>2395.959961</td>\n",
       "      <td>0.0</td>\n",
       "      <td>0.00000</td>\n",
       "      <td>0.0</td>\n",
       "    </tr>\n",
       "    <tr>\n",
       "      <th>1</th>\n",
       "      <td>2017-03-02</td>\n",
       "      <td>2394.750000</td>\n",
       "      <td>2380.169922</td>\n",
       "      <td>2394.750000</td>\n",
       "      <td>2381.919922</td>\n",
       "      <td>3821320000</td>\n",
       "      <td>2381.919922</td>\n",
       "      <td>0.0</td>\n",
       "      <td>0.00000</td>\n",
       "      <td>0.0</td>\n",
       "    </tr>\n",
       "    <tr>\n",
       "      <th>2</th>\n",
       "      <td>2017-03-03</td>\n",
       "      <td>2383.889893</td>\n",
       "      <td>2375.389893</td>\n",
       "      <td>2380.919922</td>\n",
       "      <td>2383.120117</td>\n",
       "      <td>3555260000</td>\n",
       "      <td>2383.120117</td>\n",
       "      <td>0.0</td>\n",
       "      <td>0.00000</td>\n",
       "      <td>0.0</td>\n",
       "    </tr>\n",
       "    <tr>\n",
       "      <th>3</th>\n",
       "      <td>2017-03-06</td>\n",
       "      <td>2378.800049</td>\n",
       "      <td>2367.979980</td>\n",
       "      <td>2375.229980</td>\n",
       "      <td>2375.310059</td>\n",
       "      <td>3232700000</td>\n",
       "      <td>2375.310059</td>\n",
       "      <td>0.0</td>\n",
       "      <td>0.00000</td>\n",
       "      <td>0.0</td>\n",
       "    </tr>\n",
       "    <tr>\n",
       "      <th>4</th>\n",
       "      <td>2017-03-07</td>\n",
       "      <td>2375.120117</td>\n",
       "      <td>2365.510010</td>\n",
       "      <td>2370.739990</td>\n",
       "      <td>2368.389893</td>\n",
       "      <td>3518390000</td>\n",
       "      <td>2368.389893</td>\n",
       "      <td>0.0</td>\n",
       "      <td>2380.93999</td>\n",
       "      <td>0.0</td>\n",
       "    </tr>\n",
       "  </tbody>\n",
       "</table>\n",
       "</div>"
      ],
      "text/plain": [
       "        date         high          low         open        close      volume  \\\n",
       "0 2017-03-01  2400.979980  2380.129883  2380.129883  2395.959961  4345180000   \n",
       "1 2017-03-02  2394.750000  2380.169922  2394.750000  2381.919922  3821320000   \n",
       "2 2017-03-03  2383.889893  2375.389893  2380.919922  2383.120117  3555260000   \n",
       "3 2017-03-06  2378.800049  2367.979980  2375.229980  2375.310059  3232700000   \n",
       "4 2017-03-07  2375.120117  2365.510010  2370.739990  2368.389893  3518390000   \n",
       "\n",
       "     adj_close  sma_slow    sma_fast  sma_ratio  \n",
       "0  2395.959961       0.0     0.00000        0.0  \n",
       "1  2381.919922       0.0     0.00000        0.0  \n",
       "2  2383.120117       0.0     0.00000        0.0  \n",
       "3  2375.310059       0.0     0.00000        0.0  \n",
       "4  2368.389893       0.0  2380.93999        0.0  "
      ]
     },
     "execution_count": 15,
     "metadata": {},
     "output_type": "execute_result"
    }
   ],
   "source": [
    "data_enriched = sma(data_enriched)\n",
    "#data_enriched = smav(data_enriched)\n",
    "#data_enriched = atr(data_enriched)\n",
    "#data_enriched = adx(data_enriched)\n",
    "#data_enriched = stochastic_oscillator(data_enriched)\n",
    "data_enriched = data_enriched.fillna(0)\n",
    "data_enriched.head(5)"
   ]
  },
  {
   "cell_type": "markdown",
   "metadata": {},
   "source": [
    "Second, normalize the data. Notice the date column is preserved."
   ]
  },
  {
   "cell_type": "code",
   "execution_count": 16,
   "metadata": {},
   "outputs": [
    {
     "data": {
      "text/html": [
       "<div>\n",
       "<style scoped>\n",
       "    .dataframe tbody tr th:only-of-type {\n",
       "        vertical-align: middle;\n",
       "    }\n",
       "\n",
       "    .dataframe tbody tr th {\n",
       "        vertical-align: top;\n",
       "    }\n",
       "\n",
       "    .dataframe thead th {\n",
       "        text-align: right;\n",
       "    }\n",
       "</style>\n",
       "<table border=\"1\" class=\"dataframe\">\n",
       "  <thead>\n",
       "    <tr style=\"text-align: right;\">\n",
       "      <th></th>\n",
       "      <th>high</th>\n",
       "      <th>low</th>\n",
       "      <th>open</th>\n",
       "      <th>close</th>\n",
       "      <th>volume</th>\n",
       "      <th>sma_slow</th>\n",
       "      <th>sma_fast</th>\n",
       "      <th>sma_ratio</th>\n",
       "    </tr>\n",
       "  </thead>\n",
       "  <tbody>\n",
       "    <tr>\n",
       "      <th>0</th>\n",
       "      <td>0.039815</td>\n",
       "      <td>0.072742</td>\n",
       "      <td>0.035572</td>\n",
       "      <td>0.061958</td>\n",
       "      <td>0.355257</td>\n",
       "      <td>0.0</td>\n",
       "      <td>0.00000</td>\n",
       "      <td>0.0</td>\n",
       "    </tr>\n",
       "    <tr>\n",
       "      <th>1</th>\n",
       "      <td>0.037341</td>\n",
       "      <td>0.072758</td>\n",
       "      <td>0.041388</td>\n",
       "      <td>0.056472</td>\n",
       "      <td>0.294212</td>\n",
       "      <td>0.0</td>\n",
       "      <td>0.00000</td>\n",
       "      <td>0.0</td>\n",
       "    </tr>\n",
       "    <tr>\n",
       "      <th>2</th>\n",
       "      <td>0.033028</td>\n",
       "      <td>0.070911</td>\n",
       "      <td>0.035886</td>\n",
       "      <td>0.056941</td>\n",
       "      <td>0.263208</td>\n",
       "      <td>0.0</td>\n",
       "      <td>0.00000</td>\n",
       "      <td>0.0</td>\n",
       "    </tr>\n",
       "    <tr>\n",
       "      <th>3</th>\n",
       "      <td>0.031006</td>\n",
       "      <td>0.068048</td>\n",
       "      <td>0.033622</td>\n",
       "      <td>0.053889</td>\n",
       "      <td>0.225620</td>\n",
       "      <td>0.0</td>\n",
       "      <td>0.00000</td>\n",
       "      <td>0.0</td>\n",
       "    </tr>\n",
       "    <tr>\n",
       "      <th>4</th>\n",
       "      <td>0.029545</td>\n",
       "      <td>0.067093</td>\n",
       "      <td>0.031836</td>\n",
       "      <td>0.051185</td>\n",
       "      <td>0.258912</td>\n",
       "      <td>0.0</td>\n",
       "      <td>0.49752</td>\n",
       "      <td>0.0</td>\n",
       "    </tr>\n",
       "  </tbody>\n",
       "</table>\n",
       "</div>"
      ],
      "text/plain": [
       "       high       low      open     close    volume  sma_slow  sma_fast  \\\n",
       "0  0.039815  0.072742  0.035572  0.061958  0.355257       0.0   0.00000   \n",
       "1  0.037341  0.072758  0.041388  0.056472  0.294212       0.0   0.00000   \n",
       "2  0.033028  0.070911  0.035886  0.056941  0.263208       0.0   0.00000   \n",
       "3  0.031006  0.068048  0.033622  0.053889  0.225620       0.0   0.00000   \n",
       "4  0.029545  0.067093  0.031836  0.051185  0.258912       0.0   0.49752   \n",
       "\n",
       "   sma_ratio  \n",
       "0        0.0  \n",
       "1        0.0  \n",
       "2        0.0  \n",
       "3        0.0  \n",
       "4        0.0  "
      ]
     },
     "execution_count": 16,
     "metadata": {},
     "output_type": "execute_result"
    }
   ],
   "source": [
    "scaler = MinMaxScaler()\n",
    "\n",
    "X = data_enriched.loc[:, (data_enriched.columns != 'date') & (data_enriched.columns != 'adj_close')]\n",
    "y = np.array(data_enriched['adj_close'].copy())\n",
    "y = y.reshape(-1,1)\n",
    "\n",
    "X_scaled = scaler.fit_transform(X)\n",
    "y_scaled = scaler.fit_transform(y)\n",
    "\n",
    "data_scaled = X.copy()\n",
    "for i in range(0, X_scaled.shape[1]):\n",
    "    data_scaled.iloc[:,i] = X_scaled[:,i]\n",
    "\n",
    "data_scaled.head(5)"
   ]
  },
  {
   "cell_type": "markdown",
   "metadata": {},
   "source": [
    "Next, split the dataset into training and test sets"
   ]
  },
  {
   "cell_type": "code",
   "execution_count": 17,
   "metadata": {},
   "outputs": [
    {
     "name": "stdout",
     "output_type": "stream",
     "text": [
      "Size of dataset: 1259 - Shape of dataset: (1259, 8)\n",
      "Size of training set: 1007 - Shape of training set: (1007, 8)\n",
      "Size of test set: 252 - Shape of test set: (252, 8)\n"
     ]
    }
   ],
   "source": [
    "training_size = int(len(data_scaled) * 0.8)\n",
    "train_scaled, test_scaled = data_scaled[0:training_size], data_scaled[training_size:len(data_scaled)]\n",
    "y_train_scaled, y_test_scaled = y_scaled[0:training_size], y_scaled[training_size:len(y_scaled)]\n",
    "\n",
    "print(f\"Size of dataset: {len(data_scaled)} - Shape of dataset: {data_scaled.shape}\")\n",
    "print(f\"Size of training set: {len(train_scaled)} - Shape of training set: {train_scaled.shape}\")\n",
    "print(f\"Size of test set: {len(test_scaled)} - Shape of test set: {test_scaled.shape}\")"
   ]
  },
  {
   "cell_type": "code",
   "execution_count": 18,
   "metadata": {},
   "outputs": [],
   "source": [
    "def create_sequence(dataset, length):\n",
    "    data_sequences = []\n",
    "    for index in range(len(dataset) - length):\n",
    "        data_sequences.append(dataset[index: index + length])\n",
    "    return np.asarray(data_sequences)"
   ]
  },
  {
   "cell_type": "markdown",
   "metadata": {},
   "source": [
    "The model we are about to build will need to receive some observations about the past to predict the future. The past observations will not explicitly indicate the timestamp but will receive what we call a window of data points. In this example, we will define a window of 90 data points, where each data point has all the independent variables.<p>\n",
    "Each learning example consists of a window of past observations that can have one or more features. The target variable can be a single or a sequence of targets. In this example, the model learns to predict a single-step value. The input structure must be in the following format [training examples, time steps, features]. Our design has 42 features with a window of 90 timesteps.<p>\n",
    "More details, please check <a href=\"https://towardsdatascience.com/lstm-and-bidirectional-lstm-for-regression-4fddf910c655#:~:text=LSTM%20is%20a%20Gated%20Recurrent%20Neural%20Network%2C%20and,some%20memory%20pool%20that%20has%20two%20key%20vectors%3A\">here</a>."
   ]
  },
  {
   "cell_type": "code",
   "execution_count": 19,
   "metadata": {},
   "outputs": [
    {
     "name": "stdout",
     "output_type": "stream",
     "text": [
      "Training data shape - X_train (917, 90, 8), y_train (917, 1)\n",
      "Testing data shape - X_test (161, 90, 8), y_test (161, 1)\n"
     ]
    }
   ],
   "source": [
    "# Specifying how many values to predict\n",
    "time_step = 1\n",
    "\n",
    "# Training data\n",
    "X_train_scaled = train_scaled.to_numpy()\n",
    "y_train_scaled = y_scaled[time_step:test_scaled.index[0]] #.to_numpy()\n",
    "\n",
    "# Testing data\n",
    "X_test_scaled = test_scaled[0:-time_step].to_numpy()\n",
    "y_test_scaled = y_scaled[test_scaled.index[0] + time_step:] #.to_numpy()\n",
    "\n",
    "# Generating the sequences\n",
    "X_train_seq = create_sequence(X_train_scaled, 90)\n",
    "X_test_seq = create_sequence(X_test_scaled, 90)\n",
    "y_train_seq = y_train_scaled[-X_train_seq.shape[0]:]\n",
    "y_test_seq = y_test_scaled[-X_test_seq.shape[0]:]\n",
    "\n",
    "print(f'Training data shape - X_train {X_train_seq.shape}, y_train {y_train_seq.shape}')\n",
    "print(f'Testing data shape - X_test {X_test_seq.shape}, y_test {y_test_seq.shape}')"
   ]
  },
  {
   "cell_type": "markdown",
   "metadata": {},
   "source": [
    "## Create the Model"
   ]
  },
  {
   "cell_type": "markdown",
   "metadata": {},
   "source": [
    "#### Auxiliary functions"
   ]
  },
  {
   "cell_type": "code",
   "execution_count": 20,
   "metadata": {},
   "outputs": [],
   "source": [
    "def evaluate_predictions(predictions, y_test, outliers):\n",
    "    ratio = []\n",
    "    differences = []\n",
    "    for pred in range(len(y_test)):\n",
    "        ratio.append((y_test[pred]/predictions[pred])-1)\n",
    "        differences.append(abs(y_test[pred]- predictions[pred]))\n",
    "    \n",
    "    \n",
    "    n_outliers = int(len(differences) * outliers)\n",
    "    outliers = pd.Series(differences).astype(float).nlargest(n_outliers)\n",
    "    \n",
    "    return ratio, differences, outliers\n",
    "\n",
    "def loss_graph(history):\n",
    "    loss = history.history['loss']\n",
    "    epoch_count = range(1, len(loss) + 1)\n",
    "    plt.figure(figsize=(12,8))\n",
    "    plt.plot(epoch_count, loss, 'r--')\n",
    "    plt.legend(['Training Loss'])\n",
    "    plt.xlabel('Epoch')\n",
    "    plt.ylabel('Loss')\n",
    "    plt.show();"
   ]
  },
  {
   "cell_type": "markdown",
   "metadata": {},
   "source": [
    "#### Model 1"
   ]
  },
  {
   "cell_type": "code",
   "execution_count": 21,
   "metadata": {},
   "outputs": [],
   "source": [
    "model1 = Sequential()\n",
    "model1.add(Bidirectional(LSTM(units=64, return_sequences=True, input_shape=(X_train_seq.shape[1],X_train_seq.shape[-1]), dropout=0.5)))\n",
    "model1.add(Bidirectional(LSTM(units=16, dropout=0.5)))\n",
    "model1.add(Dense(units=1))\n",
    "model1.compile(optimizer='rmsprop', loss='mean_squared_error')"
   ]
  },
  {
   "cell_type": "code",
   "execution_count": 22,
   "metadata": {},
   "outputs": [
    {
     "name": "stdout",
     "output_type": "stream",
     "text": [
      "Epoch 1/15\n",
      "58/58 [==============================] - 13s 40ms/step - loss: 0.0128\n",
      "Epoch 2/15\n",
      "58/58 [==============================] - 2s 37ms/step - loss: 0.0047\n",
      "Epoch 3/15\n",
      "58/58 [==============================] - 2s 37ms/step - loss: 0.0036\n",
      "Epoch 4/15\n",
      "58/58 [==============================] - 2s 37ms/step - loss: 0.0032\n",
      "Epoch 5/15\n",
      "58/58 [==============================] - 2s 37ms/step - loss: 0.0025\n",
      "Epoch 6/15\n",
      "58/58 [==============================] - 2s 37ms/step - loss: 0.0024\n",
      "Epoch 7/15\n",
      "58/58 [==============================] - 2s 42ms/step - loss: 0.0023\n",
      "Epoch 8/15\n",
      "58/58 [==============================] - 2s 37ms/step - loss: 0.0023\n",
      "Epoch 9/15\n",
      "58/58 [==============================] - 2s 36ms/step - loss: 0.0019\n",
      "Epoch 10/15\n",
      "58/58 [==============================] - 2s 36ms/step - loss: 0.0020\n",
      "Epoch 11/15\n",
      "58/58 [==============================] - 2s 37ms/step - loss: 0.0020\n",
      "Epoch 12/15\n",
      "58/58 [==============================] - 2s 39ms/step - loss: 0.0019\n",
      "Epoch 13/15\n",
      "58/58 [==============================] - 2s 40ms/step - loss: 0.0019\n",
      "Epoch 14/15\n",
      "58/58 [==============================] - 2s 43ms/step - loss: 0.0020\n",
      "Epoch 15/15\n",
      "58/58 [==============================] - 3s 44ms/step - loss: 0.0019\n"
     ]
    }
   ],
   "source": [
    "history1 = model1.fit(X_train_seq, y_train_seq, epochs=15, batch_size=16)"
   ]
  },
  {
   "cell_type": "code",
   "execution_count": 23,
   "metadata": {},
   "outputs": [
    {
     "name": "stdout",
     "output_type": "stream",
     "text": [
      "Model: \"sequential\"\n",
      "_________________________________________________________________\n",
      " Layer (type)                Output Shape              Param #   \n",
      "=================================================================\n",
      " bidirectional (Bidirectiona  (None, 90, 128)          37376     \n",
      " l)                                                              \n",
      "                                                                 \n",
      " bidirectional_1 (Bidirectio  (None, 32)               18560     \n",
      " nal)                                                            \n",
      "                                                                 \n",
      " dense (Dense)               (None, 1)                 33        \n",
      "                                                                 \n",
      "=================================================================\n",
      "Total params: 55,969\n",
      "Trainable params: 55,969\n",
      "Non-trainable params: 0\n",
      "_________________________________________________________________\n"
     ]
    }
   ],
   "source": [
    "model1.summary()"
   ]
  },
  {
   "cell_type": "code",
   "execution_count": 24,
   "metadata": {},
   "outputs": [
    {
     "data": {
      "image/png": "[encoded data removed]",
      "text/plain": [
       "<Figure size 864x576 with 1 Axes>"
      ]
     },
     "metadata": {
      "needs_background": "light"
     },
     "output_type": "display_data"
    }
   ],
   "source": [
    "loss_graph(history1)"
   ]
  },
  {
   "cell_type": "code",
   "execution_count": 25,
   "metadata": {},
   "outputs": [],
   "source": [
    "y_pred_scaled1 = model1.predict(X_test_seq)\n",
    "y_pred1 = scaler.inverse_transform(y_pred_scaled1)\n",
    "y_test1 = scaler.inverse_transform(y_test_seq)"
   ]
  },
  {
   "cell_type": "code",
   "execution_count": 26,
   "metadata": {},
   "outputs": [
    {
     "data": {
      "text/plain": [
       "117    4158.238281\n",
       "119    4160.169922\n",
       "122    4165.875488\n",
       "118    4158.641602\n",
       "123    4167.201172\n",
       "120    4162.562500\n",
       "121    4164.599609\n",
       "116    4159.136230\n",
       "dtype: float64"
      ]
     },
     "execution_count": 26,
     "metadata": {},
     "output_type": "execute_result"
    }
   ],
   "source": [
    "ratio1, differences1, outliers1 = evaluate_predictions(y_pred1, y_test1, 0.05)\n",
    "\n",
    "for i in outliers1.index:\n",
    "    outliers1[i] = y_pred1[i]\n",
    "outliers1"
   ]
  },
  {
   "cell_type": "code",
   "execution_count": 27,
   "metadata": {},
   "outputs": [],
   "source": [
    "xticks1 = data[training_size:len(data)]['date']\n",
    "xticks1 = xticks1[-161:]\n",
    "xticks_outliers1 = []\n",
    "for i in outliers1.index:\n",
    "    xticks_outliers1.append(xticks1.iloc[i])"
   ]
  },
  {
   "cell_type": "code",
   "execution_count": 28,
   "metadata": {},
   "outputs": [
    {
     "data": {
      "image/png": "[encoded data removed]",
      "text/plain": [
       "<Figure size 1080x288 with 1 Axes>"
      ]
     },
     "metadata": {
      "needs_background": "light"
     },
     "output_type": "display_data"
    }
   ],
   "source": [
    "# Showing the predicted vs. actual values\n",
    "fig, axs = plt.subplots(figsize=(15,4))\n",
    "axs.plot(xticks1, y_pred1,color='red', label='Predicted')\n",
    "axs.plot(xticks1, y_test1,color='blue', label='Actual')\n",
    "axs.scatter(xticks_outliers1, outliers1, color='green', linewidth=5.0, label='Anomalies')\n",
    "plt.title('Comparison between actual and predicted S&P 500 (^GSPC) Prices ')\n",
    "plt.xlabel('Date')\n",
    "plt.ylabel('Price')\n",
    "plt.legend(loc='upper left')\n",
    "plt.show()"
   ]
  },
  {
   "cell_type": "markdown",
   "metadata": {},
   "source": [
    "#### Model 2"
   ]
  },
  {
   "cell_type": "code",
   "execution_count": 29,
   "metadata": {},
   "outputs": [],
   "source": [
    "model2 = Sequential()\n",
    "model2.add(Bidirectional(LSTM(units=64, return_sequences=True, input_shape=(X_train_seq.shape[1],X_train_seq.shape[-1]), dropout=0.5)))\n",
    "model2.add(Bidirectional(LSTM(units=32, return_sequences=True, dropout=0.5)))\n",
    "model2.add(Bidirectional(LSTM(units=16, dropout=0.5)))\n",
    "model2.add(Dense(units=1))\n",
    "model2.compile(optimizer='rmsprop', loss='mean_squared_error')"
   ]
  },
  {
   "cell_type": "code",
   "execution_count": 30,
   "metadata": {},
   "outputs": [
    {
     "name": "stdout",
     "output_type": "stream",
     "text": [
      "Epoch 1/15\n",
      "58/58 [==============================] - 15s 71ms/step - loss: 0.0129\n",
      "Epoch 2/15\n",
      "58/58 [==============================] - 4s 72ms/step - loss: 0.0052\n",
      "Epoch 3/15\n",
      "58/58 [==============================] - 4s 71ms/step - loss: 0.0038\n",
      "Epoch 4/15\n",
      "58/58 [==============================] - 4s 72ms/step - loss: 0.0028\n",
      "Epoch 5/15\n",
      "58/58 [==============================] - 4s 74ms/step - loss: 0.0029\n",
      "Epoch 6/15\n",
      "58/58 [==============================] - 5s 79ms/step - loss: 0.0026\n",
      "Epoch 7/15\n",
      "58/58 [==============================] - 4s 69ms/step - loss: 0.0026\n",
      "Epoch 8/15\n",
      "58/58 [==============================] - 4s 69ms/step - loss: 0.0026\n",
      "Epoch 9/15\n",
      "58/58 [==============================] - 4s 70ms/step - loss: 0.0023\n",
      "Epoch 10/15\n",
      "58/58 [==============================] - 5s 85ms/step - loss: 0.0023\n",
      "Epoch 11/15\n",
      "58/58 [==============================] - 4s 75ms/step - loss: 0.0021\n",
      "Epoch 12/15\n",
      "58/58 [==============================] - 4s 77ms/step - loss: 0.0021\n",
      "Epoch 13/15\n",
      "58/58 [==============================] - 4s 67ms/step - loss: 0.0020\n",
      "Epoch 14/15\n",
      "58/58 [==============================] - 4s 68ms/step - loss: 0.0019\n",
      "Epoch 15/15\n",
      "58/58 [==============================] - 4s 69ms/step - loss: 0.0020\n"
     ]
    }
   ],
   "source": [
    "history2 = model2.fit(X_train_seq, y_train_seq, epochs=15, batch_size=16)"
   ]
  },
  {
   "cell_type": "code",
   "execution_count": 31,
   "metadata": {},
   "outputs": [
    {
     "name": "stdout",
     "output_type": "stream",
     "text": [
      "Model: \"sequential_1\"\n",
      "_________________________________________________________________\n",
      " Layer (type)                Output Shape              Param #   \n",
      "=================================================================\n",
      " bidirectional_2 (Bidirectio  (None, 90, 128)          37376     \n",
      " nal)                                                            \n",
      "                                                                 \n",
      " bidirectional_3 (Bidirectio  (None, 90, 64)           41216     \n",
      " nal)                                                            \n",
      "                                                                 \n",
      " bidirectional_4 (Bidirectio  (None, 32)               10368     \n",
      " nal)                                                            \n",
      "                                                                 \n",
      " dense_1 (Dense)             (None, 1)                 33        \n",
      "                                                                 \n",
      "=================================================================\n",
      "Total params: 88,993\n",
      "Trainable params: 88,993\n",
      "Non-trainable params: 0\n",
      "_________________________________________________________________\n"
     ]
    }
   ],
   "source": [
    "model2.summary()"
   ]
  },
  {
   "cell_type": "code",
   "execution_count": 32,
   "metadata": {},
   "outputs": [],
   "source": [
    "y_pred_scaled2 = model2.predict(X_test_seq)\n",
    "y_pred2 = scaler.inverse_transform(y_pred_scaled2)\n",
    "y_test2 = scaler.inverse_transform(y_test_seq)"
   ]
  },
  {
   "cell_type": "code",
   "execution_count": 33,
   "metadata": {},
   "outputs": [
    {
     "data": {
      "image/png": "[encoded data removed]",
      "text/plain": [
       "<Figure size 864x576 with 1 Axes>"
      ]
     },
     "metadata": {
      "needs_background": "light"
     },
     "output_type": "display_data"
    }
   ],
   "source": [
    "loss_graph(history2)"
   ]
  },
  {
   "cell_type": "code",
   "execution_count": 34,
   "metadata": {},
   "outputs": [],
   "source": [
    "ratio2, differences2, outliers2 = evaluate_predictions(y_pred2, y_test2, 0.05)\n",
    "\n",
    "for i in outliers2.index:\n",
    "    outliers2[i] = y_pred2[i]\n",
    "\n",
    "xticks2 = data[training_size:len(data)]['date']\n",
    "xticks2 = xticks2[-161:]\n",
    "xticks_outliers2 = []\n",
    "for i in outliers2.index:\n",
    "    xticks_outliers2.append(xticks2.iloc[i])"
   ]
  },
  {
   "cell_type": "code",
   "execution_count": 35,
   "metadata": {},
   "outputs": [
    {
     "data": {
      "image/png": "[encoded data removed]",
      "text/plain": [
       "<Figure size 1080x288 with 1 Axes>"
      ]
     },
     "metadata": {
      "needs_background": "light"
     },
     "output_type": "display_data"
    }
   ],
   "source": [
    "# Showing the predicted vs. actual values\n",
    "fig, axs = plt.subplots(figsize=(15,4))\n",
    "axs.plot(xticks2, y_pred2,color='red', label='Predicted')\n",
    "axs.plot(xticks2, y_test2,color='blue', label='Actual')\n",
    "axs.scatter(xticks_outliers2,outliers2, color='green', linewidth=5.0, label='Anomalies')\n",
    "plt.title('Comparison between actual and predicted S&P 500 (^GSPC) Prices ')\n",
    "plt.xlabel('Date')\n",
    "plt.ylabel('Price')\n",
    "plt.legend(loc='upper left')\n",
    "plt.show()"
   ]
  },
  {
   "cell_type": "markdown",
   "metadata": {},
   "source": [
    "#### Model 3"
   ]
  },
  {
   "cell_type": "code",
   "execution_count": 44,
   "metadata": {},
   "outputs": [],
   "source": [
    "model3 = Sequential()\n",
    "model3.add(Bidirectional(LSTM(units=64, return_sequences=True, input_shape=(X_train_seq.shape[1],X_train_seq.shape[-1]), dropout=0.5)))\n",
    "model3.add(Bidirectional(LSTM(units=32, return_sequences=True, dropout=0.5)))\n",
    "model3.add(Bidirectional(LSTM(units=32, return_sequences=True, dropout=0.5)))\n",
    "model3.add(Bidirectional(LSTM(units=16, dropout=0.5)))\n",
    "model3.add(Dense(units=1))\n",
    "model3.compile(optimizer='rmsprop', loss='mean_squared_error')"
   ]
  },
  {
   "cell_type": "code",
   "execution_count": 45,
   "metadata": {},
   "outputs": [
    {
     "name": "stdout",
     "output_type": "stream",
     "text": [
      "Epoch 1/15\n",
      "58/58 [==============================] - 26s 103ms/step - loss: 0.0132\n",
      "Epoch 2/15\n",
      "58/58 [==============================] - 7s 114ms/step - loss: 0.0053\n",
      "Epoch 3/15\n",
      "58/58 [==============================] - 6s 110ms/step - loss: 0.0041\n",
      "Epoch 4/15\n",
      "58/58 [==============================] - 6s 107ms/step - loss: 0.0036\n",
      "Epoch 5/15\n",
      "58/58 [==============================] - 6s 104ms/step - loss: 0.0029\n",
      "Epoch 6/15\n",
      "58/58 [==============================] - 6s 104ms/step - loss: 0.0026\n",
      "Epoch 7/15\n",
      "58/58 [==============================] - 7s 120ms/step - loss: 0.0027\n",
      "Epoch 8/15\n",
      "58/58 [==============================] - 7s 119ms/step - loss: 0.0025\n",
      "Epoch 9/15\n",
      "58/58 [==============================] - 6s 111ms/step - loss: 0.0026\n",
      "Epoch 10/15\n",
      "58/58 [==============================] - 7s 112ms/step - loss: 0.0021\n",
      "Epoch 11/15\n",
      "58/58 [==============================] - 6s 103ms/step - loss: 0.0022\n",
      "Epoch 12/15\n",
      "58/58 [==============================] - 6s 96ms/step - loss: 0.0022\n",
      "Epoch 13/15\n",
      "58/58 [==============================] - 6s 99ms/step - loss: 0.0022\n",
      "Epoch 14/15\n",
      "58/58 [==============================] - 6s 96ms/step - loss: 0.0020\n",
      "Epoch 15/15\n",
      "58/58 [==============================] - 6s 103ms/step - loss: 0.0019\n"
     ]
    }
   ],
   "source": [
    "history3 = model3.fit(X_train_seq, y_train_seq, epochs=15, batch_size=16)"
   ]
  },
  {
   "cell_type": "code",
   "execution_count": 46,
   "metadata": {},
   "outputs": [
    {
     "name": "stdout",
     "output_type": "stream",
     "text": [
      "Model: \"sequential_3\"\n",
      "_________________________________________________________________\n",
      " Layer (type)                Output Shape              Param #   \n",
      "=================================================================\n",
      " bidirectional_9 (Bidirectio  (None, 90, 128)          37376     \n",
      " nal)                                                            \n",
      "                                                                 \n",
      " bidirectional_10 (Bidirecti  (None, 90, 64)           41216     \n",
      " onal)                                                           \n",
      "                                                                 \n",
      " bidirectional_11 (Bidirecti  (None, 90, 64)           24832     \n",
      " onal)                                                           \n",
      "                                                                 \n",
      " bidirectional_12 (Bidirecti  (None, 32)               10368     \n",
      " onal)                                                           \n",
      "                                                                 \n",
      " dense_3 (Dense)             (None, 1)                 33        \n",
      "                                                                 \n",
      "=================================================================\n",
      "Total params: 113,825\n",
      "Trainable params: 113,825\n",
      "Non-trainable params: 0\n",
      "_________________________________________________________________\n"
     ]
    }
   ],
   "source": [
    "model3.summary()"
   ]
  },
  {
   "cell_type": "code",
   "execution_count": 47,
   "metadata": {},
   "outputs": [],
   "source": [
    "y_pred_scaled3 = model3.predict(X_test_seq)\n",
    "y_pred3 = scaler.inverse_transform(y_pred_scaled3)\n",
    "y_test3 = scaler.inverse_transform(y_test_seq)"
   ]
  },
  {
   "cell_type": "code",
   "execution_count": 48,
   "metadata": {},
   "outputs": [
    {
     "data": {
      "image/png": "[encoded data removed]",
      "text/plain": [
       "<Figure size 864x576 with 1 Axes>"
      ]
     },
     "metadata": {
      "needs_background": "light"
     },
     "output_type": "display_data"
    }
   ],
   "source": [
    "loss_graph(history3)"
   ]
  },
  {
   "cell_type": "code",
   "execution_count": 49,
   "metadata": {},
   "outputs": [],
   "source": [
    "ratio3, differences3, outliers3 = evaluate_predictions(y_pred3, y_test3, 0.05)\n",
    "\n",
    "for i in outliers3.index:\n",
    "    outliers3[i] = y_pred3[i]\n",
    "\n",
    "xticks3 = data[training_size:len(data)]['date']\n",
    "xticks3 = xticks3[-161:]\n",
    "xticks_outliers3 = []\n",
    "for i in outliers3.index:\n",
    "    xticks_outliers3.append(xticks3.iloc[i])"
   ]
  },
  {
   "cell_type": "code",
   "execution_count": 50,
   "metadata": {},
   "outputs": [
    {
     "data": {
      "image/png": "[encoded data removed]",
      "text/plain": [
       "<Figure size 1080x288 with 1 Axes>"
      ]
     },
     "metadata": {
      "needs_background": "light"
     },
     "output_type": "display_data"
    }
   ],
   "source": [
    "# Showing the predicted vs. actual values\n",
    "fig, axs = plt.subplots(figsize=(15,4))\n",
    "axs.plot(xticks3, y_pred3,color='red', label='Predicted')\n",
    "axs.plot(xticks3, y_test3,color='blue', label='Actual')\n",
    "axs.scatter(xticks_outliers3, outliers3, color='green', linewidth=5.0, label='Anomalies')\n",
    "plt.title('Comparison between actual and predicted S&P 500 (^GSPC) Prices ')\n",
    "plt.xlabel('Date')\n",
    "plt.ylabel('Price')\n",
    "plt.legend(loc='upper left')\n",
    "plt.show()"
   ]
  },
  {
   "cell_type": "markdown",
   "metadata": {},
   "source": [
    "## Conclusion"
   ]
  },
  {
   "cell_type": "markdown",
   "metadata": {},
   "source": [
    "The models can be improved, as the predictions don't match well with the actual values. It is important to mention none of the models seem to converge yet. It is possible seeing the loss graphs the differences are decreasing, and probably if we run the models with more epochs they will converge, eventually. <br>\n",
    "Adding more layers makes the training process take longer and, with the 15 epochs I ran for each model, didn't show much improvement.<br>\n",
    "There are several ways to try improving the models, by experimenting different hyperparameters like optimizers, loss functions, layers, nodes per layer, etc."
   ]
  }
 ],
 "metadata": {
  "interpreter": {
   "hash": "ecf5722fdaf1897a315d257d89d94520bfcaa453217d5becf09b39e73618b0de"
  },
  "kernelspec": {
   "display_name": "Python 3.9.1 ('base')",
   "language": "python",
   "name": "python3"
  },
  "language_info": {
   "codemirror_mode": {
    "name": "ipython",
    "version": 3
   },
   "file_extension": ".py",
   "mimetype": "text/x-python",
   "name": "python",
   "nbconvert_exporter": "python",
   "pygments_lexer": "ipython3",
   "version": "3.9.1"
  },
  "orig_nbformat": 4
 },
 "nbformat": 4,
 "nbformat_minor": 2
}
