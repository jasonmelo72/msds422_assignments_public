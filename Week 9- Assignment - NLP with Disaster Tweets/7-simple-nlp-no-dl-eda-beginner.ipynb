{
 "cells": [
  {
   "cell_type": "markdown",
   "id": "86c5634d",
   "metadata": {
    "papermill": {
     "duration": 0.119359,
     "end_time": "2022-02-22T23:32:34.757787",
     "exception": false,
     "start_time": "2022-02-22T23:32:34.638428",
     "status": "completed"
    },
    "tags": []
   },
   "source": [
    "# <center>Natural Language Processing with Disaster Tweetsn<center>"
   ]
  },
  {
   "cell_type": "markdown",
   "id": "b17c309f",
   "metadata": {
    "papermill": {
     "duration": 0.115786,
     "end_time": "2022-02-22T23:32:34.993279",
     "exception": false,
     "start_time": "2022-02-22T23:32:34.877493",
     "status": "completed"
    },
    "tags": []
   },
   "source": [
    "![](https://ak.picdn.net/shutterstock/videos/29359330/thumb/4.jpg)"
   ]
  },
  {
   "cell_type": "markdown",
   "id": "e3592bc9",
   "metadata": {
    "papermill": {
     "duration": 0.117397,
     "end_time": "2022-02-22T23:32:35.228582",
     "exception": false,
     "start_time": "2022-02-22T23:32:35.111185",
     "status": "completed"
    },
    "tags": []
   },
   "source": [
    "\n",
    "\n",
    "####  <center>Twitter has become an important communication channel in times of emergency. The ubiquitousness of smartphones enables people to announce an emergency they’re observing in real-time. Because of this, more agencies are interested in programatically monitoring Twitter (i.e. disaster relief organizations and news agencies). But, it’s not always clear whether a person’s words are actually announcing a disaster.</center>  \n",
    "\n"
   ]
  },
  {
   "cell_type": "markdown",
   "id": "0ec5baa6",
   "metadata": {
    "papermill": {
     "duration": 0.116645,
     "end_time": "2022-02-22T23:32:35.462402",
     "exception": false,
     "start_time": "2022-02-22T23:32:35.345757",
     "status": "completed"
    },
    "tags": []
   },
   "source": [
    "-----------------"
   ]
  },
  {
   "cell_type": "markdown",
   "id": "d709ed24",
   "metadata": {
    "papermill": {
     "duration": 0.115055,
     "end_time": "2022-02-22T23:32:35.695274",
     "exception": false,
     "start_time": "2022-02-22T23:32:35.580219",
     "status": "completed"
    },
    "tags": []
   },
   "source": [
    "Hello!\n",
    "\n",
    "This notebook will consist of several blocks:\n",
    "1. **| EDA & Feature Engineering |**\n",
    "2. **| Data Preprocessing |**\n",
    "3. **| machine learning |**\n",
    "\n",
    "If necessary, you can quickly move to the solution blocks of this competition that interest you using the table of contents.\n",
    "\n",
    "In this notebook, **I will not use deep learning methods, Glove, BERT, etc.** I will probably create a separate notebook using these technologies, but for now **I will focus on the most basic NLP methods.**\n",
    "\n",
    "Okay, time to get started!\n",
    "\n",
    "First, let's import the start modules **(I will not import all the modules that will be used in the notebook at once. Instead, I will import them separately, depending on the tasks of the block.)**"
   ]
  },
  {
   "cell_type": "code",
   "execution_count": 1,
   "id": "38f7d2c8",
   "metadata": {
    "execution": {
     "iopub.execute_input": "2022-02-22T23:32:35.936747Z",
     "iopub.status.busy": "2022-02-22T23:32:35.935890Z",
     "iopub.status.idle": "2022-02-22T23:32:37.927051Z",
     "shell.execute_reply": "2022-02-22T23:32:37.925865Z",
     "shell.execute_reply.started": "2022-02-22T23:28:31.555485Z"
    },
    "papermill": {
     "duration": 2.118035,
     "end_time": "2022-02-22T23:32:37.927271",
     "exception": false,
     "start_time": "2022-02-22T23:32:35.809236",
     "status": "completed"
    },
    "tags": []
   },
   "outputs": [],
   "source": [
    "import pandas as pd\n",
    "import numpy as np\n",
    "\n",
    "from scipy.sparse import csr_matrix, hstack\n",
    "\n",
    "import string\n",
    "import nltk\n",
    "from nltk.corpus import stopwords\n",
    "\n",
    "import seaborn as sns\n",
    "import matplotlib.pyplot as plt\n",
    "\n",
    "%matplotlib inline\n",
    "\n",
    "pd.options.mode.chained_assignment = None # Disabling the pandas warning"
   ]
  },
  {
   "cell_type": "code",
   "execution_count": 2,
   "id": "89d805ea",
   "metadata": {
    "execution": {
     "iopub.execute_input": "2022-02-22T23:32:38.168105Z",
     "iopub.status.busy": "2022-02-22T23:32:38.167017Z",
     "iopub.status.idle": "2022-02-22T23:32:38.259334Z",
     "shell.execute_reply": "2022-02-22T23:32:38.259823Z",
     "shell.execute_reply.started": "2022-02-22T23:28:31.566166Z"
    },
    "papermill": {
     "duration": 0.213336,
     "end_time": "2022-02-22T23:32:38.260018",
     "exception": false,
     "start_time": "2022-02-22T23:32:38.046682",
     "status": "completed"
    },
    "tags": []
   },
   "outputs": [],
   "source": [
    "train = pd.read_csv('../input/nlp-getting-started/train.csv')\n",
    "test = pd.read_csv('../input/nlp-getting-started/test.csv')\n",
    "output_example = pd.read_csv('../input/nlp-getting-started/sample_submission.csv')"
   ]
  },
  {
   "cell_type": "code",
   "execution_count": 3,
   "id": "36943246",
   "metadata": {
    "execution": {
     "iopub.execute_input": "2022-02-22T23:32:38.511303Z",
     "iopub.status.busy": "2022-02-22T23:32:38.510259Z",
     "iopub.status.idle": "2022-02-22T23:32:38.524950Z",
     "shell.execute_reply": "2022-02-22T23:32:38.525485Z",
     "shell.execute_reply.started": "2022-02-22T23:28:31.623843Z"
    },
    "papermill": {
     "duration": 0.147647,
     "end_time": "2022-02-22T23:32:38.525668",
     "exception": false,
     "start_time": "2022-02-22T23:32:38.378021",
     "status": "completed"
    },
    "tags": []
   },
   "outputs": [
    {
     "data": {
      "text/html": [
       "<div>\n",
       "<style scoped>\n",
       "    .dataframe tbody tr th:only-of-type {\n",
       "        vertical-align: middle;\n",
       "    }\n",
       "\n",
       "    .dataframe tbody tr th {\n",
       "        vertical-align: top;\n",
       "    }\n",
       "\n",
       "    .dataframe thead th {\n",
       "        text-align: right;\n",
       "    }\n",
       "</style>\n",
       "<table border=\"1\" class=\"dataframe\">\n",
       "  <thead>\n",
       "    <tr style=\"text-align: right;\">\n",
       "      <th></th>\n",
       "      <th>id</th>\n",
       "      <th>keyword</th>\n",
       "      <th>location</th>\n",
       "      <th>text</th>\n",
       "      <th>target</th>\n",
       "    </tr>\n",
       "  </thead>\n",
       "  <tbody>\n",
       "    <tr>\n",
       "      <th>0</th>\n",
       "      <td>1</td>\n",
       "      <td>NaN</td>\n",
       "      <td>NaN</td>\n",
       "      <td>Our Deeds are the Reason of this #earthquake M...</td>\n",
       "      <td>1</td>\n",
       "    </tr>\n",
       "    <tr>\n",
       "      <th>1</th>\n",
       "      <td>4</td>\n",
       "      <td>NaN</td>\n",
       "      <td>NaN</td>\n",
       "      <td>Forest fire near La Ronge Sask. Canada</td>\n",
       "      <td>1</td>\n",
       "    </tr>\n",
       "    <tr>\n",
       "      <th>2</th>\n",
       "      <td>5</td>\n",
       "      <td>NaN</td>\n",
       "      <td>NaN</td>\n",
       "      <td>All residents asked to 'shelter in place' are ...</td>\n",
       "      <td>1</td>\n",
       "    </tr>\n",
       "    <tr>\n",
       "      <th>3</th>\n",
       "      <td>6</td>\n",
       "      <td>NaN</td>\n",
       "      <td>NaN</td>\n",
       "      <td>13,000 people receive #wildfires evacuation or...</td>\n",
       "      <td>1</td>\n",
       "    </tr>\n",
       "    <tr>\n",
       "      <th>4</th>\n",
       "      <td>7</td>\n",
       "      <td>NaN</td>\n",
       "      <td>NaN</td>\n",
       "      <td>Just got sent this photo from Ruby #Alaska as ...</td>\n",
       "      <td>1</td>\n",
       "    </tr>\n",
       "  </tbody>\n",
       "</table>\n",
       "</div>"
      ],
      "text/plain": [
       "   id keyword location                                               text  \\\n",
       "0   1     NaN      NaN  Our Deeds are the Reason of this #earthquake M...   \n",
       "1   4     NaN      NaN             Forest fire near La Ronge Sask. Canada   \n",
       "2   5     NaN      NaN  All residents asked to 'shelter in place' are ...   \n",
       "3   6     NaN      NaN  13,000 people receive #wildfires evacuation or...   \n",
       "4   7     NaN      NaN  Just got sent this photo from Ruby #Alaska as ...   \n",
       "\n",
       "   target  \n",
       "0       1  \n",
       "1       1  \n",
       "2       1  \n",
       "3       1  \n",
       "4       1  "
      ]
     },
     "execution_count": 3,
     "metadata": {},
     "output_type": "execute_result"
    }
   ],
   "source": [
    "train.head()"
   ]
  },
  {
   "cell_type": "markdown",
   "id": "e4728b3b",
   "metadata": {
    "papermill": {
     "duration": 0.117264,
     "end_time": "2022-02-22T23:32:38.760037",
     "exception": false,
     "start_time": "2022-02-22T23:32:38.642773",
     "status": "completed"
    },
    "tags": []
   },
   "source": [
    "When naming the target attribute **\"target\"**, I sometimes get confused and forget what the classes of this attribute mean, so I decided to rename it to the understandable name **\"real_tweet\"**"
   ]
  },
  {
   "cell_type": "code",
   "execution_count": 4,
   "id": "509c05d2",
   "metadata": {
    "execution": {
     "iopub.execute_input": "2022-02-22T23:32:39.004274Z",
     "iopub.status.busy": "2022-02-22T23:32:39.003221Z",
     "iopub.status.idle": "2022-02-22T23:32:39.006196Z",
     "shell.execute_reply": "2022-02-22T23:32:39.006782Z",
     "shell.execute_reply.started": "2022-02-22T23:28:31.639221Z"
    },
    "papermill": {
     "duration": 0.132048,
     "end_time": "2022-02-22T23:32:39.006960",
     "exception": false,
     "start_time": "2022-02-22T23:32:38.874912",
     "status": "completed"
    },
    "tags": []
   },
   "outputs": [],
   "source": [
    "train.rename(columns={'target':'real_tweet'}, inplace=True)"
   ]
  },
  {
   "cell_type": "code",
   "execution_count": 5,
   "id": "ed5859cd",
   "metadata": {
    "execution": {
     "iopub.execute_input": "2022-02-22T23:32:39.259381Z",
     "iopub.status.busy": "2022-02-22T23:32:39.258336Z",
     "iopub.status.idle": "2022-02-22T23:32:39.276230Z",
     "shell.execute_reply": "2022-02-22T23:32:39.276790Z",
     "shell.execute_reply.started": "2022-02-22T23:28:31.658587Z"
    },
    "papermill": {
     "duration": 0.149586,
     "end_time": "2022-02-22T23:32:39.276980",
     "exception": false,
     "start_time": "2022-02-22T23:32:39.127394",
     "status": "completed"
    },
    "tags": []
   },
   "outputs": [
    {
     "name": "stdout",
     "output_type": "stream",
     "text": [
      "<class 'pandas.core.frame.DataFrame'>\n",
      "RangeIndex: 7613 entries, 0 to 7612\n",
      "Data columns (total 5 columns):\n",
      " #   Column      Non-Null Count  Dtype \n",
      "---  ------      --------------  ----- \n",
      " 0   id          7613 non-null   int64 \n",
      " 1   keyword     7552 non-null   object\n",
      " 2   location    5080 non-null   object\n",
      " 3   text        7613 non-null   object\n",
      " 4   real_tweet  7613 non-null   int64 \n",
      "dtypes: int64(2), object(3)\n",
      "memory usage: 297.5+ KB\n"
     ]
    }
   ],
   "source": [
    "train.info()"
   ]
  },
  {
   "cell_type": "markdown",
   "id": "b2e56c3d",
   "metadata": {
    "papermill": {
     "duration": 0.119923,
     "end_time": "2022-02-22T23:32:39.519711",
     "exception": false,
     "start_time": "2022-02-22T23:32:39.399788",
     "status": "completed"
    },
    "tags": []
   },
   "source": [
    "-------------"
   ]
  },
  {
   "cell_type": "markdown",
   "id": "acbc8e4d",
   "metadata": {
    "papermill": {
     "duration": 0.122476,
     "end_time": "2022-02-22T23:32:39.764494",
     "exception": false,
     "start_time": "2022-02-22T23:32:39.642018",
     "status": "completed"
    },
    "tags": []
   },
   "source": [
    "#  <center>| EDA & Feature Engineering |</center>"
   ]
  },
  {
   "cell_type": "markdown",
   "id": "b344f8bd",
   "metadata": {
    "papermill": {
     "duration": 0.119862,
     "end_time": "2022-02-22T23:32:40.008527",
     "exception": false,
     "start_time": "2022-02-22T23:32:39.888665",
     "status": "completed"
    },
    "tags": []
   },
   "source": [
    "![](https://i.ytimg.com/vi/Xk0TTY0kZ4A/hqdefault.jpg?sqp=-oaymwEjCPYBEIoBSFryq4qpAxUIARUAAAAAGAElAADIQj0AgKJDeAE=&rs=AOn4CLB4PPIiRY9YGVA93j_JQBIUQCmF-g)  "
   ]
  },
  {
   "cell_type": "markdown",
   "id": "fe23b73c",
   "metadata": {
    "papermill": {
     "duration": 0.130956,
     "end_time": "2022-02-22T23:32:40.280588",
     "exception": false,
     "start_time": "2022-02-22T23:32:40.149632",
     "status": "completed"
    },
    "tags": []
   },
   "source": [
    "Let's start block **| EDA & Feature Engineering |**\n",
    "\n",
    "Unfortunately, most notebooks only examine and transform the **\"text\"** variable\n",
    "\n",
    "In this notebook, I will try to **use more features**, and also try to **generate new features**"
   ]
  },
  {
   "cell_type": "markdown",
   "id": "9527e041",
   "metadata": {
    "papermill": {
     "duration": 0.135247,
     "end_time": "2022-02-22T23:32:40.545561",
     "exception": false,
     "start_time": "2022-02-22T23:32:40.410314",
     "status": "completed"
    },
    "tags": []
   },
   "source": [
    "##  Real_tweet & Text Analysis "
   ]
  },
  {
   "cell_type": "markdown",
   "id": "e363254c",
   "metadata": {
    "papermill": {
     "duration": 0.118097,
     "end_time": "2022-02-22T23:32:40.781716",
     "exception": false,
     "start_time": "2022-02-22T23:32:40.663619",
     "status": "completed"
    },
    "tags": []
   },
   "source": [
    "Let's start with the analysis of the target feature, first take a look at the **ratio of classes**"
   ]
  },
  {
   "cell_type": "code",
   "execution_count": 6,
   "id": "603c5c1a",
   "metadata": {
    "execution": {
     "iopub.execute_input": "2022-02-22T23:32:41.030030Z",
     "iopub.status.busy": "2022-02-22T23:32:41.029351Z",
     "iopub.status.idle": "2022-02-22T23:32:41.039345Z",
     "shell.execute_reply": "2022-02-22T23:32:41.038473Z",
     "shell.execute_reply.started": "2022-02-22T23:28:31.699553Z"
    },
    "papermill": {
     "duration": 0.136616,
     "end_time": "2022-02-22T23:32:41.039513",
     "exception": false,
     "start_time": "2022-02-22T23:32:40.902897",
     "status": "completed"
    },
    "tags": []
   },
   "outputs": [
    {
     "data": {
      "text/plain": [
       "0    0.57034\n",
       "1    0.42966\n",
       "Name: real_tweet, dtype: float64"
      ]
     },
     "execution_count": 6,
     "metadata": {},
     "output_type": "execute_result"
    }
   ],
   "source": [
    "train['real_tweet'].value_counts(normalize=True)"
   ]
  },
  {
   "cell_type": "code",
   "execution_count": 7,
   "id": "0a5acae1",
   "metadata": {
    "execution": {
     "iopub.execute_input": "2022-02-22T23:32:41.286570Z",
     "iopub.status.busy": "2022-02-22T23:32:41.285880Z",
     "iopub.status.idle": "2022-02-22T23:32:41.470492Z",
     "shell.execute_reply": "2022-02-22T23:32:41.471002Z",
     "shell.execute_reply.started": "2022-02-22T23:28:31.712190Z"
    },
    "papermill": {
     "duration": 0.309979,
     "end_time": "2022-02-22T23:32:41.471219",
     "exception": false,
     "start_time": "2022-02-22T23:32:41.161240",
     "status": "completed"
    },
    "tags": []
   },
   "outputs": [
    {
     "data": {
      "image/png": "[encoded data removed]",
      "text/plain": [
       "<Figure size 1080x720 with 1 Axes>"
      ]
     },
     "metadata": {
      "needs_background": "light"
     },
     "output_type": "display_data"
    }
   ],
   "source": [
    "plt.figure(figsize=(15,10))\n",
    "sns.countplot(data=train, x='real_tweet', palette='twilight', saturation=1);"
   ]
  },
  {
   "cell_type": "markdown",
   "id": "c5f606e9",
   "metadata": {
    "papermill": {
     "duration": 0.121322,
     "end_time": "2022-02-22T23:32:41.715366",
     "exception": false,
     "start_time": "2022-02-22T23:32:41.594044",
     "status": "completed"
    },
    "tags": []
   },
   "source": [
    "Excellent, feature classes do **not have a strong imbalance**, an approximate ratio of **6:4**\n",
    "\n",
    "Now let's take a **look at some examples of tweets from the \"text\" feature.**\n",
    "\n",
    "**Divide them into real and fake** and display them on the screen"
   ]
  },
  {
   "cell_type": "code",
   "execution_count": 8,
   "id": "96059314",
   "metadata": {
    "execution": {
     "iopub.execute_input": "2022-02-22T23:32:41.969244Z",
     "iopub.status.busy": "2022-02-22T23:32:41.968561Z",
     "iopub.status.idle": "2022-02-22T23:32:41.973370Z",
     "shell.execute_reply": "2022-02-22T23:32:41.973906Z",
     "shell.execute_reply.started": "2022-02-22T23:28:31.975182Z"
    },
    "papermill": {
     "duration": 0.13382,
     "end_time": "2022-02-22T23:32:41.974111",
     "exception": false,
     "start_time": "2022-02-22T23:32:41.840291",
     "status": "completed"
    },
    "tags": []
   },
   "outputs": [],
   "source": [
    "real_tweets = train[train['real_tweet']==1]['text']\n",
    "fake_tweets = train[train['real_tweet']==0]['text']"
   ]
  },
  {
   "cell_type": "code",
   "execution_count": 9,
   "id": "bc52104b",
   "metadata": {
    "execution": {
     "iopub.execute_input": "2022-02-22T23:32:42.227247Z",
     "iopub.status.busy": "2022-02-22T23:32:42.226543Z",
     "iopub.status.idle": "2022-02-22T23:32:42.230439Z",
     "shell.execute_reply": "2022-02-22T23:32:42.231042Z",
     "shell.execute_reply.started": "2022-02-22T23:28:31.987257Z"
    },
    "papermill": {
     "duration": 0.131926,
     "end_time": "2022-02-22T23:32:42.231237",
     "exception": false,
     "start_time": "2022-02-22T23:32:42.099311",
     "status": "completed"
    },
    "tags": []
   },
   "outputs": [
    {
     "name": "stdout",
     "output_type": "stream",
     "text": [
      "Real tweets:\n",
      "\n",
      "[1] The Latest: More homes razed by Northern California wildfire: The latest on wildfires burning in California andÛ_ http://t.co/0Keh2TReNy\n",
      "\n",
      "[2] I feel like a tornado http://t.co/iZJK6kpWiZ\n",
      "\n",
      "[3] A GPM satellite 'bullseye' in Typhoon Soudelor http://t.co/piVeUPiRKY\n",
      "\n",
      "[4] The first piece of wreckage from the first-ever lost Boeing 777 which vanished back in early March along with the 239 people on board has\n",
      "\n",
      "[5] Plane debris discovered on Reunion Island belongs to flight MH370 ÛÒ Malaysian PM http://t.co/jkc0DIqvXC\n",
      "\n",
      "------------------------------------------------------------------------------------------\n",
      "Fake tweets:\n",
      "\n",
      "[1] 'We are now prepared to obliterate more rapidly and completely every productive enterprise the Japanese have above ground in any city.'\n",
      "\n",
      "[2] @chikislizeth08 you're not injured anymore? ??\n",
      "\n",
      "[3] No better feeling than seeing and being on stage with my day ones...... 22 year friendships and we still body bagging mics together.\n",
      "\n",
      "[4] Reddit Will Now Quarantine Offensive Content http://t.co/FEIkC9FxED #onlinecommunities #reddit /via @wired\n",
      "\n",
      "[5] @SkyNews how is this scum still alive obliterate this cancer\n",
      "\n"
     ]
    }
   ],
   "source": [
    "random_real_tweets = real_tweets.sample(5).values\n",
    "random_fake_tweets = fake_tweets.sample(5).values\n",
    "\n",
    "\n",
    "print('Real tweets:\\n')\n",
    "for i, tweet in enumerate(random_real_tweets):\n",
    "    print('[{0}] {1}\\n'.format(i+1, tweet))\n",
    "    if i == 5:\n",
    "        break\n",
    "\n",
    "print('-'*90)\n",
    "print('Fake tweets:\\n')\n",
    "for i, tweet in enumerate(random_fake_tweets):\n",
    "    print('[{0}] {1}\\n'.format(i+1, tweet))\n",
    "    if i == 5:\n",
    "        break"
   ]
  },
  {
   "cell_type": "markdown",
   "id": "3090751b",
   "metadata": {
    "papermill": {
     "duration": 0.124511,
     "end_time": "2022-02-22T23:32:42.482104",
     "exception": false,
     "start_time": "2022-02-22T23:32:42.357593",
     "status": "completed"
    },
    "tags": []
   },
   "source": [
    "When executing the code above, I get always different **5 real tweet examples and 5 fake tweet examples using the sample() function\n",
    "\n",
    "So I decided to try to manually understand the difference between a real tweet and a fake tweet.\n",
    "\n",
    "1) **It seemed to me that real tweets have a longer text length than fake tweets**\n",
    "\n",
    "2) **Real tweets seem to have more numbers in the text**\n",
    "\n",
    "3) **It can be assumed that real tweets will be written more competently and contain more punctuation in the text**\n",
    "\n",
    "4) **Tweets often use http links, but it seemed to me that real tweets contained more of them**\n",
    "\n",
    "5) **It also seemed to me that there are more hastags in real tweets**\n",
    "\n",
    "Based on the findings obtained in the process of manual analysis, we will generate new features and see how they affect the target feature\n",
    "\n",
    "Let's start by creating **\"len_text\"**"
   ]
  },
  {
   "cell_type": "code",
   "execution_count": 10,
   "id": "e918c511",
   "metadata": {
    "execution": {
     "iopub.execute_input": "2022-02-22T23:32:42.726639Z",
     "iopub.status.busy": "2022-02-22T23:32:42.725913Z",
     "iopub.status.idle": "2022-02-22T23:32:42.735627Z",
     "shell.execute_reply": "2022-02-22T23:32:42.736147Z",
     "shell.execute_reply.started": "2022-02-22T23:28:32.006272Z"
    },
    "papermill": {
     "duration": 0.135179,
     "end_time": "2022-02-22T23:32:42.736330",
     "exception": false,
     "start_time": "2022-02-22T23:32:42.601151",
     "status": "completed"
    },
    "tags": []
   },
   "outputs": [],
   "source": [
    "train['len_text'] = train['text'].apply(len)\n",
    "test['len_text'] = test['text'].apply(len)"
   ]
  },
  {
   "cell_type": "code",
   "execution_count": 11,
   "id": "ff17c0de",
   "metadata": {
    "execution": {
     "iopub.execute_input": "2022-02-22T23:32:42.999920Z",
     "iopub.status.busy": "2022-02-22T23:32:42.999233Z",
     "iopub.status.idle": "2022-02-22T23:32:43.021647Z",
     "shell.execute_reply": "2022-02-22T23:32:43.022191Z",
     "shell.execute_reply.started": "2022-02-22T23:28:32.024908Z"
    },
    "papermill": {
     "duration": 0.166661,
     "end_time": "2022-02-22T23:32:43.022382",
     "exception": false,
     "start_time": "2022-02-22T23:32:42.855721",
     "status": "completed"
    },
    "tags": []
   },
   "outputs": [
    {
     "data": {
      "text/html": [
       "<div>\n",
       "<style scoped>\n",
       "    .dataframe tbody tr th:only-of-type {\n",
       "        vertical-align: middle;\n",
       "    }\n",
       "\n",
       "    .dataframe tbody tr th {\n",
       "        vertical-align: top;\n",
       "    }\n",
       "\n",
       "    .dataframe thead th {\n",
       "        text-align: right;\n",
       "    }\n",
       "</style>\n",
       "<table border=\"1\" class=\"dataframe\">\n",
       "  <thead>\n",
       "    <tr style=\"text-align: right;\">\n",
       "      <th>real_tweet</th>\n",
       "      <th>0</th>\n",
       "      <th>1</th>\n",
       "    </tr>\n",
       "  </thead>\n",
       "  <tbody>\n",
       "    <tr>\n",
       "      <th>count</th>\n",
       "      <td>4342.000000</td>\n",
       "      <td>3271.000000</td>\n",
       "    </tr>\n",
       "    <tr>\n",
       "      <th>mean</th>\n",
       "      <td>95.706817</td>\n",
       "      <td>108.113421</td>\n",
       "    </tr>\n",
       "    <tr>\n",
       "      <th>std</th>\n",
       "      <td>35.885924</td>\n",
       "      <td>29.309854</td>\n",
       "    </tr>\n",
       "    <tr>\n",
       "      <th>min</th>\n",
       "      <td>7.000000</td>\n",
       "      <td>14.000000</td>\n",
       "    </tr>\n",
       "    <tr>\n",
       "      <th>25%</th>\n",
       "      <td>68.000000</td>\n",
       "      <td>88.000000</td>\n",
       "    </tr>\n",
       "    <tr>\n",
       "      <th>50%</th>\n",
       "      <td>101.000000</td>\n",
       "      <td>115.000000</td>\n",
       "    </tr>\n",
       "    <tr>\n",
       "      <th>75%</th>\n",
       "      <td>130.000000</td>\n",
       "      <td>136.000000</td>\n",
       "    </tr>\n",
       "    <tr>\n",
       "      <th>max</th>\n",
       "      <td>157.000000</td>\n",
       "      <td>151.000000</td>\n",
       "    </tr>\n",
       "  </tbody>\n",
       "</table>\n",
       "</div>"
      ],
      "text/plain": [
       "real_tweet            0            1\n",
       "count       4342.000000  3271.000000\n",
       "mean          95.706817   108.113421\n",
       "std           35.885924    29.309854\n",
       "min            7.000000    14.000000\n",
       "25%           68.000000    88.000000\n",
       "50%          101.000000   115.000000\n",
       "75%          130.000000   136.000000\n",
       "max          157.000000   151.000000"
      ]
     },
     "execution_count": 11,
     "metadata": {},
     "output_type": "execute_result"
    }
   ],
   "source": [
    "train.groupby(['real_tweet'])['len_text'].describe().T"
   ]
  },
  {
   "cell_type": "code",
   "execution_count": 12,
   "id": "06091df3",
   "metadata": {
    "execution": {
     "iopub.execute_input": "2022-02-22T23:32:43.268608Z",
     "iopub.status.busy": "2022-02-22T23:32:43.267921Z",
     "iopub.status.idle": "2022-02-22T23:32:43.458903Z",
     "shell.execute_reply": "2022-02-22T23:32:43.458378Z",
     "shell.execute_reply.started": "2022-02-22T23:28:32.053915Z"
    },
    "papermill": {
     "duration": 0.31335,
     "end_time": "2022-02-22T23:32:43.459039",
     "exception": false,
     "start_time": "2022-02-22T23:32:43.145689",
     "status": "completed"
    },
    "tags": []
   },
   "outputs": [
    {
     "data": {
      "image/png": "[encoded data removed]",
      "text/plain": [
       "<Figure size 1080x720 with 1 Axes>"
      ]
     },
     "metadata": {
      "needs_background": "light"
     },
     "output_type": "display_data"
    }
   ],
   "source": [
    "plt.figure(figsize=(15,10))\n",
    "sns.boxplot(data=train, x='len_text', y='real_tweet', orient='h', palette='YlGnBu');"
   ]
  },
  {
   "cell_type": "markdown",
   "id": "702d0a04",
   "metadata": {
    "papermill": {
     "duration": 0.125525,
     "end_time": "2022-02-22T23:32:43.704505",
     "exception": false,
     "start_time": "2022-02-22T23:32:43.578980",
     "status": "completed"
    },
    "tags": []
   },
   "source": [
    "Indeed, real tweets on average have more characters.\n",
    "\n",
    "Now let's take a look at **points '2)' and '3)'**\n",
    "\n",
    "Let's create 2 features for each hypothesis: **check and count**\n",
    "\n",
    "I don't know which ones will give the best result as there are suggestions:\n",
    "\n",
    "**count_punctation** will be highly correlated with len_text\n",
    "\n",
    "**count_digits** will count the number 13 as 1 and 3, which may result in an incorrect estimate of the actual number of numbers in the tweet\n",
    "\n",
    "**check_digits** and check_punctation may not show a possible relationship with the target feature\n",
    "\n",
    "Therefore, we will create all 4 features and analyze them"
   ]
  },
  {
   "cell_type": "code",
   "execution_count": 13,
   "id": "fb20f20d",
   "metadata": {
    "execution": {
     "iopub.execute_input": "2022-02-22T23:32:43.954765Z",
     "iopub.status.busy": "2022-02-22T23:32:43.954074Z",
     "iopub.status.idle": "2022-02-22T23:32:43.956703Z",
     "shell.execute_reply": "2022-02-22T23:32:43.957345Z",
     "shell.execute_reply.started": "2022-02-22T23:28:32.245820Z"
    },
    "papermill": {
     "duration": 0.131764,
     "end_time": "2022-02-22T23:32:43.957523",
     "exception": false,
     "start_time": "2022-02-22T23:32:43.825759",
     "status": "completed"
    },
    "tags": []
   },
   "outputs": [],
   "source": [
    "def check_digits(text):\n",
    "    if [char for char in text if char in string.digits]:\n",
    "        return 1\n",
    "    else:\n",
    "        return 0\n",
    "    \n",
    "def check_punctation(text):\n",
    "    if [char for char in text if char in string.punctuation]:\n",
    "        return 1\n",
    "    else:\n",
    "        return 0\n",
    "    \n",
    "def count_punctation(text):\n",
    "    count = 0\n",
    "    for char in text:\n",
    "        if char in string.punctuation:    \n",
    "            count +=1\n",
    "    return count\n",
    "\n",
    "def count_digits(text):\n",
    "    count = 0\n",
    "    for char in text:\n",
    "        if char in string.digits:    \n",
    "            count +=1\n",
    "    return count"
   ]
  },
  {
   "cell_type": "code",
   "execution_count": 14,
   "id": "e4d0ced6",
   "metadata": {
    "execution": {
     "iopub.execute_input": "2022-02-22T23:32:44.201339Z",
     "iopub.status.busy": "2022-02-22T23:32:44.200601Z",
     "iopub.status.idle": "2022-02-22T23:32:44.584341Z",
     "shell.execute_reply": "2022-02-22T23:32:44.584858Z",
     "shell.execute_reply.started": "2022-02-22T23:28:32.261598Z"
    },
    "papermill": {
     "duration": 0.506563,
     "end_time": "2022-02-22T23:32:44.585095",
     "exception": false,
     "start_time": "2022-02-22T23:32:44.078532",
     "status": "completed"
    },
    "tags": []
   },
   "outputs": [],
   "source": [
    "train['check_digits'] = train['text'].apply(lambda x: check_digits(x))\n",
    "train['check_punctation'] = train['text'].apply(lambda x: check_punctation(x))\n",
    "train['count_punctation'] = train['text'].apply(lambda x: count_punctation(x))\n",
    "train['count_digits'] = train['text'].apply(lambda x: count_digits(x))\n",
    "\n",
    "\n",
    "test['check_digits'] = test['text'].apply(lambda x: check_digits(x))\n",
    "test['check_punctation'] = test['text'].apply(lambda x: check_punctation(x))\n",
    "test['count_punctation'] = test['text'].apply(lambda x: count_punctation(x))\n",
    "test['count_digits'] = test['text'].apply(lambda x: count_digits(x))"
   ]
  },
  {
   "cell_type": "code",
   "execution_count": 15,
   "id": "ded9cacd",
   "metadata": {
    "execution": {
     "iopub.execute_input": "2022-02-22T23:32:44.829355Z",
     "iopub.status.busy": "2022-02-22T23:32:44.828637Z",
     "iopub.status.idle": "2022-02-22T23:32:44.843831Z",
     "shell.execute_reply": "2022-02-22T23:32:44.844331Z",
     "shell.execute_reply.started": "2022-02-22T23:28:32.663434Z"
    },
    "papermill": {
     "duration": 0.140403,
     "end_time": "2022-02-22T23:32:44.844657",
     "exception": false,
     "start_time": "2022-02-22T23:32:44.704254",
     "status": "completed"
    },
    "tags": []
   },
   "outputs": [
    {
     "data": {
      "text/html": [
       "<div>\n",
       "<style scoped>\n",
       "    .dataframe tbody tr th:only-of-type {\n",
       "        vertical-align: middle;\n",
       "    }\n",
       "\n",
       "    .dataframe tbody tr th {\n",
       "        vertical-align: top;\n",
       "    }\n",
       "\n",
       "    .dataframe thead th {\n",
       "        text-align: right;\n",
       "    }\n",
       "</style>\n",
       "<table border=\"1\" class=\"dataframe\">\n",
       "  <thead>\n",
       "    <tr style=\"text-align: right;\">\n",
       "      <th>real_tweet</th>\n",
       "      <th>0</th>\n",
       "      <th>1</th>\n",
       "    </tr>\n",
       "  </thead>\n",
       "  <tbody>\n",
       "    <tr>\n",
       "      <th>count</th>\n",
       "      <td>4342.000000</td>\n",
       "      <td>3271.000000</td>\n",
       "    </tr>\n",
       "    <tr>\n",
       "      <th>mean</th>\n",
       "      <td>6.309074</td>\n",
       "      <td>7.543565</td>\n",
       "    </tr>\n",
       "    <tr>\n",
       "      <th>std</th>\n",
       "      <td>4.830297</td>\n",
       "      <td>4.195437</td>\n",
       "    </tr>\n",
       "    <tr>\n",
       "      <th>min</th>\n",
       "      <td>0.000000</td>\n",
       "      <td>0.000000</td>\n",
       "    </tr>\n",
       "    <tr>\n",
       "      <th>25%</th>\n",
       "      <td>3.000000</td>\n",
       "      <td>5.000000</td>\n",
       "    </tr>\n",
       "    <tr>\n",
       "      <th>50%</th>\n",
       "      <td>6.000000</td>\n",
       "      <td>7.000000</td>\n",
       "    </tr>\n",
       "    <tr>\n",
       "      <th>75%</th>\n",
       "      <td>9.000000</td>\n",
       "      <td>10.000000</td>\n",
       "    </tr>\n",
       "    <tr>\n",
       "      <th>max</th>\n",
       "      <td>61.000000</td>\n",
       "      <td>27.000000</td>\n",
       "    </tr>\n",
       "  </tbody>\n",
       "</table>\n",
       "</div>"
      ],
      "text/plain": [
       "real_tweet            0            1\n",
       "count       4342.000000  3271.000000\n",
       "mean           6.309074     7.543565\n",
       "std            4.830297     4.195437\n",
       "min            0.000000     0.000000\n",
       "25%            3.000000     5.000000\n",
       "50%            6.000000     7.000000\n",
       "75%            9.000000    10.000000\n",
       "max           61.000000    27.000000"
      ]
     },
     "execution_count": 15,
     "metadata": {},
     "output_type": "execute_result"
    }
   ],
   "source": [
    "train.groupby(['real_tweet'])['count_punctation'].describe().T"
   ]
  },
  {
   "cell_type": "code",
   "execution_count": 16,
   "id": "ff41f442",
   "metadata": {
    "execution": {
     "iopub.execute_input": "2022-02-22T23:32:45.095297Z",
     "iopub.status.busy": "2022-02-22T23:32:45.094636Z",
     "iopub.status.idle": "2022-02-22T23:32:45.104154Z",
     "shell.execute_reply": "2022-02-22T23:32:45.104689Z",
     "shell.execute_reply.started": "2022-02-22T23:28:32.689947Z"
    },
    "papermill": {
     "duration": 0.136625,
     "end_time": "2022-02-22T23:32:45.104872",
     "exception": false,
     "start_time": "2022-02-22T23:32:44.968247",
     "status": "completed"
    },
    "tags": []
   },
   "outputs": [
    {
     "data": {
      "text/plain": [
       "real_tweet\n",
       "0    1.590511\n",
       "1    2.637420\n",
       "Name: count_digits, dtype: float64"
      ]
     },
     "execution_count": 16,
     "metadata": {},
     "output_type": "execute_result"
    }
   ],
   "source": [
    "train.groupby(['real_tweet'])['count_digits'].mean()"
   ]
  },
  {
   "cell_type": "code",
   "execution_count": 17,
   "id": "7df78ac6",
   "metadata": {
    "execution": {
     "iopub.execute_input": "2022-02-22T23:32:45.361430Z",
     "iopub.status.busy": "2022-02-22T23:32:45.360716Z",
     "iopub.status.idle": "2022-02-22T23:32:45.692154Z",
     "shell.execute_reply": "2022-02-22T23:32:45.691515Z",
     "shell.execute_reply.started": "2022-02-22T23:28:32.704885Z"
    },
    "papermill": {
     "duration": 0.462503,
     "end_time": "2022-02-22T23:32:45.692310",
     "exception": false,
     "start_time": "2022-02-22T23:32:45.229807",
     "status": "completed"
    },
    "tags": []
   },
   "outputs": [
    {
     "data": {
      "image/png": "[encoded data removed]",
      "text/plain": [
       "<Figure size 1080x720 with 2 Axes>"
      ]
     },
     "metadata": {
      "needs_background": "light"
     },
     "output_type": "display_data"
    }
   ],
   "source": [
    "fig, ax =plt.subplots(1,2, figsize=(15,10))\n",
    "sns.boxenplot(data=train, x='count_digits', y='real_tweet', orient='h', ax=ax[0], palette='cubehelix')\n",
    "sns.boxenplot(data=train, x='count_punctation', y='real_tweet', orient='h', ax=ax[1], palette='cubehelix');"
   ]
  },
  {
   "cell_type": "code",
   "execution_count": 18,
   "id": "aab225fb",
   "metadata": {
    "execution": {
     "iopub.execute_input": "2022-02-22T23:32:45.945442Z",
     "iopub.status.busy": "2022-02-22T23:32:45.944773Z",
     "iopub.status.idle": "2022-02-22T23:32:46.425668Z",
     "shell.execute_reply": "2022-02-22T23:32:46.424913Z",
     "shell.execute_reply.started": "2022-02-22T23:28:33.050121Z"
    },
    "papermill": {
     "duration": 0.611542,
     "end_time": "2022-02-22T23:32:46.425815",
     "exception": false,
     "start_time": "2022-02-22T23:32:45.814273",
     "status": "completed"
    },
    "tags": []
   },
   "outputs": [
    {
     "data": {
      "image/png": "[encoded data removed]",
      "text/plain": [
       "<Figure size 1080x360 with 2 Axes>"
      ]
     },
     "metadata": {
      "needs_background": "light"
     },
     "output_type": "display_data"
    }
   ],
   "source": [
    "fig, ax =plt.subplots(1,2, figsize=(15,5))\n",
    "sns.countplot(data=train, x='check_digits', hue='real_tweet', ax=ax[0], palette='Set1')\n",
    "sns.countplot(data=train, x='check_punctation', hue='real_tweet', ax=ax[1], palette='Set1');"
   ]
  },
  {
   "cell_type": "markdown",
   "id": "47ed0ec4",
   "metadata": {
    "papermill": {
     "duration": 0.122193,
     "end_time": "2022-02-22T23:32:46.672468",
     "exception": false,
     "start_time": "2022-02-22T23:32:46.550275",
     "status": "completed"
    },
    "tags": []
   },
   "source": [
    "Great, **check_digits** seems like a really important feature.\n",
    "\n",
    "**check_punctation** did not show any relationship with the target feature, the distribution of the target variable has approximately the same ratio\n",
    "\n",
    "The boxplot **count_punctation** also does not show a strong relationship with the target feature, perhaps the feature does not make any sense\n",
    "\n",
    "Later we will decide what to do with them, but for now let's deal with **points 4) and 5)**"
   ]
  },
  {
   "cell_type": "code",
   "execution_count": 19,
   "id": "ac1366f2",
   "metadata": {
    "execution": {
     "iopub.execute_input": "2022-02-22T23:32:46.945994Z",
     "iopub.status.busy": "2022-02-22T23:32:46.926038Z",
     "iopub.status.idle": "2022-02-22T23:32:46.949240Z",
     "shell.execute_reply": "2022-02-22T23:32:46.949744Z",
     "shell.execute_reply.started": "2022-02-22T23:28:33.387697Z"
    },
    "papermill": {
     "duration": 0.153761,
     "end_time": "2022-02-22T23:32:46.949945",
     "exception": false,
     "start_time": "2022-02-22T23:32:46.796184",
     "status": "completed"
    },
    "tags": []
   },
   "outputs": [],
   "source": [
    "train['check_http'] = train['text'].str.contains('http')\n",
    "train['check_hash'] = train['text'].str.contains('#')\n",
    "\n",
    "test['check_http'] = test['text'].str.contains('http')\n",
    "test['check_hash'] = test['text'].str.contains('#')"
   ]
  },
  {
   "cell_type": "code",
   "execution_count": 20,
   "id": "0c79cb36",
   "metadata": {
    "execution": {
     "iopub.execute_input": "2022-02-22T23:32:47.204281Z",
     "iopub.status.busy": "2022-02-22T23:32:47.203579Z",
     "iopub.status.idle": "2022-02-22T23:32:47.569008Z",
     "shell.execute_reply": "2022-02-22T23:32:47.568406Z",
     "shell.execute_reply.started": "2022-02-22T23:28:33.417047Z"
    },
    "papermill": {
     "duration": 0.494329,
     "end_time": "2022-02-22T23:32:47.569172",
     "exception": false,
     "start_time": "2022-02-22T23:32:47.074843",
     "status": "completed"
    },
    "tags": []
   },
   "outputs": [
    {
     "data": {
      "image/png": "[encoded data removed]",
      "text/plain": [
       "<Figure size 1080x360 with 2 Axes>"
      ]
     },
     "metadata": {
      "needs_background": "light"
     },
     "output_type": "display_data"
    }
   ],
   "source": [
    "fig, ax =plt.subplots(1,2, figsize=(15,5))\n",
    "sns.countplot(data=train, x='check_http', hue='real_tweet', ax=ax[0], palette='Set2' )\n",
    "sns.countplot(data=train, x='check_hash', hue='real_tweet', ax=ax[1], palette='Set2');"
   ]
  },
  {
   "cell_type": "markdown",
   "id": "b640187b",
   "metadata": {
    "papermill": {
     "duration": 0.126787,
     "end_time": "2022-02-22T23:32:47.823562",
     "exception": false,
     "start_time": "2022-02-22T23:32:47.696775",
     "status": "completed"
    },
    "tags": []
   },
   "source": [
    "As we expected, **check_http** has an effect on the target attribute\n",
    "\n",
    "At first glance, it seemed to me that real tweets contain more hashtags, but **check_hash showed that this is not true**, but the distribution of the target feature in the presence of a hashtag has a 1:1 ratio. We remember that the target feature had a ratio of 6:4, so we will assume that **this feature is important**\n",
    "\n",
    "-------------"
   ]
  },
  {
   "cell_type": "markdown",
   "id": "0195ac34",
   "metadata": {
    "papermill": {
     "duration": 0.129148,
     "end_time": "2022-02-22T23:32:48.078082",
     "exception": false,
     "start_time": "2022-02-22T23:32:47.948934",
     "status": "completed"
    },
    "tags": []
   },
   "source": [
    "Great, we've generated some new features that can help the model better distinguish between a real tweet and a fake tweet.\n",
    "\n",
    "Now let's **go back to the feature text and clean it up** (Initially I wanted to clean up the text in block 2, but I decided that I would do it now so that block 2 can be devoted to deeper predprocessing)"
   ]
  },
  {
   "cell_type": "code",
   "execution_count": 21,
   "id": "7148c6bd",
   "metadata": {
    "execution": {
     "iopub.execute_input": "2022-02-22T23:32:48.342978Z",
     "iopub.status.busy": "2022-02-22T23:32:48.342217Z",
     "iopub.status.idle": "2022-02-22T23:32:48.346609Z",
     "shell.execute_reply": "2022-02-22T23:32:48.346009Z",
     "shell.execute_reply.started": "2022-02-22T23:28:33.797401Z"
    },
    "papermill": {
     "duration": 0.141855,
     "end_time": "2022-02-22T23:32:48.346752",
     "exception": false,
     "start_time": "2022-02-22T23:32:48.204897",
     "status": "completed"
    },
    "tags": []
   },
   "outputs": [
    {
     "data": {
      "text/html": [
       "<div>\n",
       "<style scoped>\n",
       "    .dataframe tbody tr th:only-of-type {\n",
       "        vertical-align: middle;\n",
       "    }\n",
       "\n",
       "    .dataframe tbody tr th {\n",
       "        vertical-align: top;\n",
       "    }\n",
       "\n",
       "    .dataframe thead th {\n",
       "        text-align: right;\n",
       "    }\n",
       "</style>\n",
       "<table border=\"1\" class=\"dataframe\">\n",
       "  <thead>\n",
       "    <tr style=\"text-align: right;\">\n",
       "      <th></th>\n",
       "      <th>id</th>\n",
       "      <th>keyword</th>\n",
       "      <th>location</th>\n",
       "      <th>text</th>\n",
       "      <th>real_tweet</th>\n",
       "      <th>len_text</th>\n",
       "      <th>check_digits</th>\n",
       "      <th>check_punctation</th>\n",
       "      <th>count_punctation</th>\n",
       "      <th>count_digits</th>\n",
       "      <th>check_http</th>\n",
       "      <th>check_hash</th>\n",
       "    </tr>\n",
       "  </thead>\n",
       "  <tbody>\n",
       "    <tr>\n",
       "      <th>0</th>\n",
       "      <td>1</td>\n",
       "      <td>NaN</td>\n",
       "      <td>NaN</td>\n",
       "      <td>Our Deeds are the Reason of this #earthquake M...</td>\n",
       "      <td>1</td>\n",
       "      <td>69</td>\n",
       "      <td>0</td>\n",
       "      <td>1</td>\n",
       "      <td>1</td>\n",
       "      <td>0</td>\n",
       "      <td>False</td>\n",
       "      <td>True</td>\n",
       "    </tr>\n",
       "    <tr>\n",
       "      <th>1</th>\n",
       "      <td>4</td>\n",
       "      <td>NaN</td>\n",
       "      <td>NaN</td>\n",
       "      <td>Forest fire near La Ronge Sask. Canada</td>\n",
       "      <td>1</td>\n",
       "      <td>38</td>\n",
       "      <td>0</td>\n",
       "      <td>1</td>\n",
       "      <td>1</td>\n",
       "      <td>0</td>\n",
       "      <td>False</td>\n",
       "      <td>False</td>\n",
       "    </tr>\n",
       "    <tr>\n",
       "      <th>2</th>\n",
       "      <td>5</td>\n",
       "      <td>NaN</td>\n",
       "      <td>NaN</td>\n",
       "      <td>All residents asked to 'shelter in place' are ...</td>\n",
       "      <td>1</td>\n",
       "      <td>133</td>\n",
       "      <td>0</td>\n",
       "      <td>1</td>\n",
       "      <td>3</td>\n",
       "      <td>0</td>\n",
       "      <td>False</td>\n",
       "      <td>False</td>\n",
       "    </tr>\n",
       "    <tr>\n",
       "      <th>3</th>\n",
       "      <td>6</td>\n",
       "      <td>NaN</td>\n",
       "      <td>NaN</td>\n",
       "      <td>13,000 people receive #wildfires evacuation or...</td>\n",
       "      <td>1</td>\n",
       "      <td>65</td>\n",
       "      <td>1</td>\n",
       "      <td>1</td>\n",
       "      <td>2</td>\n",
       "      <td>5</td>\n",
       "      <td>False</td>\n",
       "      <td>True</td>\n",
       "    </tr>\n",
       "    <tr>\n",
       "      <th>4</th>\n",
       "      <td>7</td>\n",
       "      <td>NaN</td>\n",
       "      <td>NaN</td>\n",
       "      <td>Just got sent this photo from Ruby #Alaska as ...</td>\n",
       "      <td>1</td>\n",
       "      <td>88</td>\n",
       "      <td>0</td>\n",
       "      <td>1</td>\n",
       "      <td>2</td>\n",
       "      <td>0</td>\n",
       "      <td>False</td>\n",
       "      <td>True</td>\n",
       "    </tr>\n",
       "  </tbody>\n",
       "</table>\n",
       "</div>"
      ],
      "text/plain": [
       "   id keyword location                                               text  \\\n",
       "0   1     NaN      NaN  Our Deeds are the Reason of this #earthquake M...   \n",
       "1   4     NaN      NaN             Forest fire near La Ronge Sask. Canada   \n",
       "2   5     NaN      NaN  All residents asked to 'shelter in place' are ...   \n",
       "3   6     NaN      NaN  13,000 people receive #wildfires evacuation or...   \n",
       "4   7     NaN      NaN  Just got sent this photo from Ruby #Alaska as ...   \n",
       "\n",
       "   real_tweet  len_text  check_digits  check_punctation  count_punctation  \\\n",
       "0           1        69             0                 1                 1   \n",
       "1           1        38             0                 1                 1   \n",
       "2           1       133             0                 1                 3   \n",
       "3           1        65             1                 1                 2   \n",
       "4           1        88             0                 1                 2   \n",
       "\n",
       "   count_digits  check_http  check_hash  \n",
       "0             0       False        True  \n",
       "1             0       False       False  \n",
       "2             0       False       False  \n",
       "3             5       False        True  \n",
       "4             0       False        True  "
      ]
     },
     "execution_count": 21,
     "metadata": {},
     "output_type": "execute_result"
    }
   ],
   "source": [
    "train.head()"
   ]
  },
  {
   "cell_type": "markdown",
   "id": "05a8be20",
   "metadata": {
    "papermill": {
     "duration": 0.124574,
     "end_time": "2022-02-22T23:32:48.599212",
     "exception": false,
     "start_time": "2022-02-22T23:32:48.474638",
     "status": "completed"
    },
    "tags": []
   },
   "source": [
    "Let's create a function that will perform the process of cleaning the text and analyze it in more detail.\n",
    "\n",
    "1. To begin with, we will **remove all stop-words** (i, where, our, the, etc.) from the text, this is necessary, since regardless of the class of the target feature, these words will appear very often in tweets and will not affect in any way choice of target variable class. This makes no sense, because when studying the words of a tweet, we want to find the relationship between the words used and the distribution of target feature classes, and stop-words will only create noise in the data\n",
    "\n",
    "2. **Convert all text to lowercase**\n",
    "\n",
    "3. **Delete all http requests** (the http request link will not be deleted, but then we will remove the remaining characters using **string.punctation**)\n",
    "\n",
    "4. **Replace all punctuation from the text with char+' '**, as a similar situation can happen: \"fish,cat\". Due to the fact that there is no space after the comma, we would get fishkat\n",
    "\n",
    "5. **Remove all other characters that are not alpha, numbers and space**\n",
    "\n",
    "6. **Remove extra spaces between words**\n",
    "\n",
    "\n",
    "I **didn’t use regular expressions** in the function, because I don’t understand them very well, but I don’t want to simply copy other people’s solutions without understanding"
   ]
  },
  {
   "cell_type": "code",
   "execution_count": 22,
   "id": "a93567b5",
   "metadata": {
    "execution": {
     "iopub.execute_input": "2022-02-22T23:32:48.853523Z",
     "iopub.status.busy": "2022-02-22T23:32:48.852845Z",
     "iopub.status.idle": "2022-02-22T23:32:48.860352Z",
     "shell.execute_reply": "2022-02-22T23:32:48.860995Z",
     "shell.execute_reply.started": "2022-02-22T23:28:33.815761Z"
    },
    "papermill": {
     "duration": 0.134229,
     "end_time": "2022-02-22T23:32:48.861194",
     "exception": false,
     "start_time": "2022-02-22T23:32:48.726965",
     "status": "completed"
    },
    "tags": []
   },
   "outputs": [],
   "source": [
    "def clean_text(text):\n",
    "    \n",
    "    stop_words = stopwords.words('english')\n",
    "    stop_words.append('i\\'m') # I saw this abbreviation, but it is not in the list of stop-words, so I added it manually\n",
    "    \n",
    "    text = text.lower()\n",
    "    text = ' '.join([char for char in text.split() if char not in stop_words])\n",
    "    \n",
    "    text = ' '.join(['' if 'http' in char else char for char in text.split()])\n",
    "    \n",
    "    text = ''.join([char+' ' if char in string.punctuation else char for char in text ])\n",
    "    \n",
    "    text = ''.join([char for char in text if char in string.ascii_lowercase or char in ' ' or  char in string.digits])\n",
    "    \n",
    "    text = ' '.join(text.split())\n",
    "    \n",
    "    return text"
   ]
  },
  {
   "cell_type": "code",
   "execution_count": 23,
   "id": "b8681366",
   "metadata": {
    "execution": {
     "iopub.execute_input": "2022-02-22T23:32:49.119516Z",
     "iopub.status.busy": "2022-02-22T23:32:49.118673Z",
     "iopub.status.idle": "2022-02-22T23:32:49.126808Z",
     "shell.execute_reply": "2022-02-22T23:32:49.127428Z",
     "shell.execute_reply.started": "2022-02-22T23:28:33.830590Z"
    },
    "papermill": {
     "duration": 0.137712,
     "end_time": "2022-02-22T23:32:49.127622",
     "exception": false,
     "start_time": "2022-02-22T23:32:48.989910",
     "status": "completed"
    },
    "tags": []
   },
   "outputs": [],
   "source": [
    "check_text_real = train[train['real_tweet']==1]['text'].head(5)\n",
    "check_text_fake = train[train['real_tweet']==0]['text'].head(5)"
   ]
  },
  {
   "cell_type": "markdown",
   "id": "e1acd06b",
   "metadata": {
    "papermill": {
     "duration": 0.129481,
     "end_time": "2022-02-22T23:32:49.381759",
     "exception": false,
     "start_time": "2022-02-22T23:32:49.252278",
     "status": "completed"
    },
    "tags": []
   },
   "source": [
    "With these cycles, we will demonstrate the text **before using clean_text and after using clean_text**"
   ]
  },
  {
   "cell_type": "code",
   "execution_count": 24,
   "id": "778535fc",
   "metadata": {
    "execution": {
     "iopub.execute_input": "2022-02-22T23:32:49.639802Z",
     "iopub.status.busy": "2022-02-22T23:32:49.639050Z",
     "iopub.status.idle": "2022-02-22T23:32:49.657646Z",
     "shell.execute_reply": "2022-02-22T23:32:49.658291Z",
     "shell.execute_reply.started": "2022-02-22T23:28:33.852824Z"
    },
    "papermill": {
     "duration": 0.149739,
     "end_time": "2022-02-22T23:32:49.658481",
     "exception": false,
     "start_time": "2022-02-22T23:32:49.508742",
     "status": "completed"
    },
    "tags": []
   },
   "outputs": [
    {
     "name": "stdout",
     "output_type": "stream",
     "text": [
      "Clean [1]: deeds reason earthquake may allah forgive us\n",
      "\n",
      "Real [1]: Our Deeds are the Reason of this #earthquake May ALLAH Forgive us all\n",
      "\n",
      "\n",
      "Clean [2]: forest fire near la ronge sask canada\n",
      "\n",
      "Real [2]: Forest fire near La Ronge Sask. Canada\n",
      "\n",
      "\n",
      "Clean [3]: residents asked shelter place notified officers evacuation shelter place orders expected\n",
      "\n",
      "Real [3]: All residents asked to 'shelter in place' are being notified by officers. No other evacuation or shelter in place orders are expected\n",
      "\n",
      "\n",
      "Clean [4]: 13 000 people receive wildfires evacuation orders california\n",
      "\n",
      "Real [4]: 13,000 people receive #wildfires evacuation orders in California \n",
      "\n",
      "\n",
      "Clean [5]: got sent photo ruby alaska smoke wildfires pours school\n",
      "\n",
      "Real [5]: Just got sent this photo from Ruby #Alaska as smoke from #wildfires pours into a school \n",
      "\n",
      "\n"
     ]
    }
   ],
   "source": [
    "for i, text in enumerate(check_text_real):\n",
    "    print(f'Clean [{i+1}]:', clean_text(text), end='\\n\\n')\n",
    "    print(f'Real [{i+1}]:', text, end='\\n\\n')\n",
    "    print()"
   ]
  },
  {
   "cell_type": "code",
   "execution_count": 25,
   "id": "cb3e3b59",
   "metadata": {
    "execution": {
     "iopub.execute_input": "2022-02-22T23:32:49.916455Z",
     "iopub.status.busy": "2022-02-22T23:32:49.915718Z",
     "iopub.status.idle": "2022-02-22T23:32:49.926864Z",
     "shell.execute_reply": "2022-02-22T23:32:49.927402Z",
     "shell.execute_reply.started": "2022-02-22T23:28:33.881208Z"
    },
    "papermill": {
     "duration": 0.143888,
     "end_time": "2022-02-22T23:32:49.927594",
     "exception": false,
     "start_time": "2022-02-22T23:32:49.783706",
     "status": "completed"
    },
    "tags": []
   },
   "outputs": [
    {
     "name": "stdout",
     "output_type": "stream",
     "text": [
      "Clean [1]: what s man\n",
      "\n",
      "Real [1]: What's up man?\n",
      "\n",
      "\n",
      "Clean [2]: love fruits\n",
      "\n",
      "Real [2]: I love fruits\n",
      "\n",
      "\n",
      "Clean [3]: summer lovely\n",
      "\n",
      "Real [3]: Summer is lovely\n",
      "\n",
      "\n",
      "Clean [4]: car fast\n",
      "\n",
      "Real [4]: My car is so fast\n",
      "\n",
      "\n",
      "Clean [5]: goooooooaaaaaal\n",
      "\n",
      "Real [5]: What a goooooooaaaaaal!!!!!!\n",
      "\n",
      "\n"
     ]
    }
   ],
   "source": [
    "for i, text in enumerate(check_text_fake):\n",
    "    print(f'Clean [{i+1}]:', clean_text(text), end='\\n\\n')\n",
    "    print(f'Real [{i+1}]:', text, end='\\n\\n')\n",
    "    print()"
   ]
  },
  {
   "cell_type": "code",
   "execution_count": 26,
   "id": "2e10ce80",
   "metadata": {
    "execution": {
     "iopub.execute_input": "2022-02-22T23:32:50.186200Z",
     "iopub.status.busy": "2022-02-22T23:32:50.185490Z",
     "iopub.status.idle": "2022-02-22T23:32:52.285318Z",
     "shell.execute_reply": "2022-02-22T23:32:52.285843Z",
     "shell.execute_reply.started": "2022-02-22T23:28:33.895130Z"
    },
    "papermill": {
     "duration": 2.229454,
     "end_time": "2022-02-22T23:32:52.286031",
     "exception": false,
     "start_time": "2022-02-22T23:32:50.056577",
     "status": "completed"
    },
    "tags": []
   },
   "outputs": [],
   "source": [
    "train['clean_text'] = train['text'].apply(clean_text)\n",
    "test['clean_text'] = test['text'].apply(clean_text)"
   ]
  },
  {
   "cell_type": "code",
   "execution_count": 27,
   "id": "c5fa4c21",
   "metadata": {
    "execution": {
     "iopub.execute_input": "2022-02-22T23:32:52.550991Z",
     "iopub.status.busy": "2022-02-22T23:32:52.549762Z",
     "iopub.status.idle": "2022-02-22T23:32:52.564023Z",
     "shell.execute_reply": "2022-02-22T23:32:52.564611Z",
     "shell.execute_reply.started": "2022-02-22T23:28:36.099509Z"
    },
    "papermill": {
     "duration": 0.147108,
     "end_time": "2022-02-22T23:32:52.564788",
     "exception": false,
     "start_time": "2022-02-22T23:32:52.417680",
     "status": "completed"
    },
    "tags": []
   },
   "outputs": [
    {
     "data": {
      "text/html": [
       "<div>\n",
       "<style scoped>\n",
       "    .dataframe tbody tr th:only-of-type {\n",
       "        vertical-align: middle;\n",
       "    }\n",
       "\n",
       "    .dataframe tbody tr th {\n",
       "        vertical-align: top;\n",
       "    }\n",
       "\n",
       "    .dataframe thead th {\n",
       "        text-align: right;\n",
       "    }\n",
       "</style>\n",
       "<table border=\"1\" class=\"dataframe\">\n",
       "  <thead>\n",
       "    <tr style=\"text-align: right;\">\n",
       "      <th></th>\n",
       "      <th>0</th>\n",
       "      <th>1</th>\n",
       "      <th>2</th>\n",
       "      <th>3</th>\n",
       "      <th>4</th>\n",
       "    </tr>\n",
       "  </thead>\n",
       "  <tbody>\n",
       "    <tr>\n",
       "      <th>id</th>\n",
       "      <td>1</td>\n",
       "      <td>4</td>\n",
       "      <td>5</td>\n",
       "      <td>6</td>\n",
       "      <td>7</td>\n",
       "    </tr>\n",
       "    <tr>\n",
       "      <th>keyword</th>\n",
       "      <td>NaN</td>\n",
       "      <td>NaN</td>\n",
       "      <td>NaN</td>\n",
       "      <td>NaN</td>\n",
       "      <td>NaN</td>\n",
       "    </tr>\n",
       "    <tr>\n",
       "      <th>location</th>\n",
       "      <td>NaN</td>\n",
       "      <td>NaN</td>\n",
       "      <td>NaN</td>\n",
       "      <td>NaN</td>\n",
       "      <td>NaN</td>\n",
       "    </tr>\n",
       "    <tr>\n",
       "      <th>text</th>\n",
       "      <td>Our Deeds are the Reason of this #earthquake M...</td>\n",
       "      <td>Forest fire near La Ronge Sask. Canada</td>\n",
       "      <td>All residents asked to 'shelter in place' are ...</td>\n",
       "      <td>13,000 people receive #wildfires evacuation or...</td>\n",
       "      <td>Just got sent this photo from Ruby #Alaska as ...</td>\n",
       "    </tr>\n",
       "    <tr>\n",
       "      <th>real_tweet</th>\n",
       "      <td>1</td>\n",
       "      <td>1</td>\n",
       "      <td>1</td>\n",
       "      <td>1</td>\n",
       "      <td>1</td>\n",
       "    </tr>\n",
       "    <tr>\n",
       "      <th>len_text</th>\n",
       "      <td>69</td>\n",
       "      <td>38</td>\n",
       "      <td>133</td>\n",
       "      <td>65</td>\n",
       "      <td>88</td>\n",
       "    </tr>\n",
       "    <tr>\n",
       "      <th>check_digits</th>\n",
       "      <td>0</td>\n",
       "      <td>0</td>\n",
       "      <td>0</td>\n",
       "      <td>1</td>\n",
       "      <td>0</td>\n",
       "    </tr>\n",
       "    <tr>\n",
       "      <th>check_punctation</th>\n",
       "      <td>1</td>\n",
       "      <td>1</td>\n",
       "      <td>1</td>\n",
       "      <td>1</td>\n",
       "      <td>1</td>\n",
       "    </tr>\n",
       "    <tr>\n",
       "      <th>count_punctation</th>\n",
       "      <td>1</td>\n",
       "      <td>1</td>\n",
       "      <td>3</td>\n",
       "      <td>2</td>\n",
       "      <td>2</td>\n",
       "    </tr>\n",
       "    <tr>\n",
       "      <th>count_digits</th>\n",
       "      <td>0</td>\n",
       "      <td>0</td>\n",
       "      <td>0</td>\n",
       "      <td>5</td>\n",
       "      <td>0</td>\n",
       "    </tr>\n",
       "    <tr>\n",
       "      <th>check_http</th>\n",
       "      <td>False</td>\n",
       "      <td>False</td>\n",
       "      <td>False</td>\n",
       "      <td>False</td>\n",
       "      <td>False</td>\n",
       "    </tr>\n",
       "    <tr>\n",
       "      <th>check_hash</th>\n",
       "      <td>True</td>\n",
       "      <td>False</td>\n",
       "      <td>False</td>\n",
       "      <td>True</td>\n",
       "      <td>True</td>\n",
       "    </tr>\n",
       "    <tr>\n",
       "      <th>clean_text</th>\n",
       "      <td>deeds reason earthquake may allah forgive us</td>\n",
       "      <td>forest fire near la ronge sask canada</td>\n",
       "      <td>residents asked shelter place notified officer...</td>\n",
       "      <td>13 000 people receive wildfires evacuation ord...</td>\n",
       "      <td>got sent photo ruby alaska smoke wildfires pou...</td>\n",
       "    </tr>\n",
       "  </tbody>\n",
       "</table>\n",
       "</div>"
      ],
      "text/plain": [
       "                                                                  0  \\\n",
       "id                                                                1   \n",
       "keyword                                                         NaN   \n",
       "location                                                        NaN   \n",
       "text              Our Deeds are the Reason of this #earthquake M...   \n",
       "real_tweet                                                        1   \n",
       "len_text                                                         69   \n",
       "check_digits                                                      0   \n",
       "check_punctation                                                  1   \n",
       "count_punctation                                                  1   \n",
       "count_digits                                                      0   \n",
       "check_http                                                    False   \n",
       "check_hash                                                     True   \n",
       "clean_text             deeds reason earthquake may allah forgive us   \n",
       "\n",
       "                                                       1  \\\n",
       "id                                                     4   \n",
       "keyword                                              NaN   \n",
       "location                                             NaN   \n",
       "text              Forest fire near La Ronge Sask. Canada   \n",
       "real_tweet                                             1   \n",
       "len_text                                              38   \n",
       "check_digits                                           0   \n",
       "check_punctation                                       1   \n",
       "count_punctation                                       1   \n",
       "count_digits                                           0   \n",
       "check_http                                         False   \n",
       "check_hash                                         False   \n",
       "clean_text         forest fire near la ronge sask canada   \n",
       "\n",
       "                                                                  2  \\\n",
       "id                                                                5   \n",
       "keyword                                                         NaN   \n",
       "location                                                        NaN   \n",
       "text              All residents asked to 'shelter in place' are ...   \n",
       "real_tweet                                                        1   \n",
       "len_text                                                        133   \n",
       "check_digits                                                      0   \n",
       "check_punctation                                                  1   \n",
       "count_punctation                                                  3   \n",
       "count_digits                                                      0   \n",
       "check_http                                                    False   \n",
       "check_hash                                                    False   \n",
       "clean_text        residents asked shelter place notified officer...   \n",
       "\n",
       "                                                                  3  \\\n",
       "id                                                                6   \n",
       "keyword                                                         NaN   \n",
       "location                                                        NaN   \n",
       "text              13,000 people receive #wildfires evacuation or...   \n",
       "real_tweet                                                        1   \n",
       "len_text                                                         65   \n",
       "check_digits                                                      1   \n",
       "check_punctation                                                  1   \n",
       "count_punctation                                                  2   \n",
       "count_digits                                                      5   \n",
       "check_http                                                    False   \n",
       "check_hash                                                     True   \n",
       "clean_text        13 000 people receive wildfires evacuation ord...   \n",
       "\n",
       "                                                                  4  \n",
       "id                                                                7  \n",
       "keyword                                                         NaN  \n",
       "location                                                        NaN  \n",
       "text              Just got sent this photo from Ruby #Alaska as ...  \n",
       "real_tweet                                                        1  \n",
       "len_text                                                         88  \n",
       "check_digits                                                      0  \n",
       "check_punctation                                                  1  \n",
       "count_punctation                                                  2  \n",
       "count_digits                                                      0  \n",
       "check_http                                                    False  \n",
       "check_hash                                                     True  \n",
       "clean_text        got sent photo ruby alaska smoke wildfires pou...  "
      ]
     },
     "execution_count": 27,
     "metadata": {},
     "output_type": "execute_result"
    }
   ],
   "source": [
    "train.head().T"
   ]
  },
  {
   "cell_type": "markdown",
   "id": "1f4617b1",
   "metadata": {
    "papermill": {
     "duration": 0.124632,
     "end_time": "2022-02-22T23:32:52.815606",
     "exception": false,
     "start_time": "2022-02-22T23:32:52.690974",
     "status": "completed"
    },
    "tags": []
   },
   "source": [
    "Great, we have processed the text, generated new features.\n",
    "\n",
    "Now let's analyze the starting additional features, starting with the **keyword**"
   ]
  },
  {
   "cell_type": "markdown",
   "id": "ef0d0f60",
   "metadata": {
    "papermill": {
     "duration": 0.135057,
     "end_time": "2022-02-22T23:32:53.083271",
     "exception": false,
     "start_time": "2022-02-22T23:32:52.948214",
     "status": "completed"
    },
    "tags": []
   },
   "source": [
    "## Keyword Analysis"
   ]
  },
  {
   "cell_type": "code",
   "execution_count": 28,
   "id": "39b45586",
   "metadata": {
    "execution": {
     "iopub.execute_input": "2022-02-22T23:32:53.350170Z",
     "iopub.status.busy": "2022-02-22T23:32:53.349343Z",
     "iopub.status.idle": "2022-02-22T23:32:53.356189Z",
     "shell.execute_reply": "2022-02-22T23:32:53.356728Z",
     "shell.execute_reply.started": "2022-02-22T23:28:36.119108Z"
    },
    "papermill": {
     "duration": 0.139128,
     "end_time": "2022-02-22T23:32:53.356912",
     "exception": false,
     "start_time": "2022-02-22T23:32:53.217784",
     "status": "completed"
    },
    "tags": []
   },
   "outputs": [
    {
     "data": {
      "text/plain": [
       "61"
      ]
     },
     "execution_count": 28,
     "metadata": {},
     "output_type": "execute_result"
    }
   ],
   "source": [
    "train['keyword'].isnull().sum()"
   ]
  },
  {
   "cell_type": "markdown",
   "id": "2418c96c",
   "metadata": {
    "papermill": {
     "duration": 0.128582,
     "end_time": "2022-02-22T23:32:53.612893",
     "exception": false,
     "start_time": "2022-02-22T23:32:53.484311",
     "status": "completed"
    },
    "tags": []
   },
   "source": [
    "There are **not very many missing keyword values in the data**, so I think they could be removed, but the absence of a keyword can affect the target feature, for example, when fake tweets, people do not use the keyword.\n",
    "\n",
    "Let's test this and fill in the missing values with **Empty**"
   ]
  },
  {
   "cell_type": "code",
   "execution_count": 29,
   "id": "9d78fdf1",
   "metadata": {
    "execution": {
     "iopub.execute_input": "2022-02-22T23:32:53.878698Z",
     "iopub.status.busy": "2022-02-22T23:32:53.877937Z",
     "iopub.status.idle": "2022-02-22T23:32:53.887825Z",
     "shell.execute_reply": "2022-02-22T23:32:53.888831Z",
     "shell.execute_reply.started": "2022-02-22T23:28:36.132606Z"
    },
    "papermill": {
     "duration": 0.149096,
     "end_time": "2022-02-22T23:32:53.889140",
     "exception": false,
     "start_time": "2022-02-22T23:32:53.740044",
     "status": "completed"
    },
    "tags": []
   },
   "outputs": [],
   "source": [
    "train['keyword'] = train['keyword'].fillna('Empty')\n",
    "test['keyword'] = test['keyword'].fillna('Empty')"
   ]
  },
  {
   "cell_type": "code",
   "execution_count": 30,
   "id": "d8582366",
   "metadata": {
    "execution": {
     "iopub.execute_input": "2022-02-22T23:32:54.192779Z",
     "iopub.status.busy": "2022-02-22T23:32:54.190969Z",
     "iopub.status.idle": "2022-02-22T23:32:54.198202Z",
     "shell.execute_reply": "2022-02-22T23:32:54.198947Z",
     "shell.execute_reply.started": "2022-02-22T23:28:36.146090Z"
    },
    "papermill": {
     "duration": 0.144492,
     "end_time": "2022-02-22T23:32:54.199166",
     "exception": false,
     "start_time": "2022-02-22T23:32:54.054674",
     "status": "completed"
    },
    "tags": []
   },
   "outputs": [
    {
     "data": {
      "text/plain": [
       "array(['Empty', 'ablaze', 'accident', 'aftershock', 'airplane%20accident',\n",
       "       'ambulance', 'annihilated', 'annihilation', 'apocalypse',\n",
       "       'armageddon', 'army', 'arson', 'arsonist', 'attack', 'attacked',\n",
       "       'avalanche', 'battle', 'bioterror', 'bioterrorism', 'blaze',\n",
       "       'blazing', 'bleeding', 'blew%20up', 'blight', 'blizzard', 'blood',\n",
       "       'bloody', 'blown%20up', 'body%20bag', 'body%20bagging',\n",
       "       'body%20bags', 'bomb', 'bombed', 'bombing', 'bridge%20collapse',\n",
       "       'buildings%20burning', 'buildings%20on%20fire', 'burned',\n",
       "       'burning', 'burning%20buildings', 'bush%20fires', 'casualties',\n",
       "       'casualty', 'catastrophe', 'catastrophic', 'chemical%20emergency',\n",
       "       'cliff%20fall', 'collapse', 'collapsed', 'collide', 'collided',\n",
       "       'collision', 'crash', 'crashed', 'crush', 'crushed', 'curfew',\n",
       "       'cyclone', 'damage', 'danger', 'dead', 'death', 'deaths', 'debris',\n",
       "       'deluge', 'deluged', 'demolish', 'demolished', 'demolition',\n",
       "       'derail', 'derailed', 'derailment', 'desolate', 'desolation',\n",
       "       'destroy', 'destroyed', 'destruction', 'detonate', 'detonation',\n",
       "       'devastated', 'devastation', 'disaster', 'displaced', 'drought',\n",
       "       'drown', 'drowned', 'drowning', 'dust%20storm', 'earthquake',\n",
       "       'electrocute', 'electrocuted', 'emergency', 'emergency%20plan',\n",
       "       'emergency%20services', 'engulfed', 'epicentre', 'evacuate',\n",
       "       'evacuated', 'evacuation', 'explode', 'exploded', 'explosion',\n",
       "       'eyewitness', 'famine', 'fatal', 'fatalities', 'fatality', 'fear',\n",
       "       'fire', 'fire%20truck', 'first%20responders', 'flames',\n",
       "       'flattened', 'flood', 'flooding', 'floods', 'forest%20fire',\n",
       "       'forest%20fires', 'hail', 'hailstorm', 'harm', 'hazard',\n",
       "       'hazardous', 'heat%20wave', 'hellfire', 'hijack', 'hijacker',\n",
       "       'hijacking', 'hostage', 'hostages', 'hurricane', 'injured',\n",
       "       'injuries', 'injury', 'inundated', 'inundation', 'landslide',\n",
       "       'lava', 'lightning', 'loud%20bang', 'mass%20murder',\n",
       "       'mass%20murderer', 'massacre', 'mayhem', 'meltdown', 'military',\n",
       "       'mudslide', 'natural%20disaster', 'nuclear%20disaster',\n",
       "       'nuclear%20reactor', 'obliterate', 'obliterated', 'obliteration',\n",
       "       'oil%20spill', 'outbreak', 'pandemonium', 'panic', 'panicking',\n",
       "       'police', 'quarantine', 'quarantined', 'radiation%20emergency',\n",
       "       'rainstorm', 'razed', 'refugees', 'rescue', 'rescued', 'rescuers',\n",
       "       'riot', 'rioting', 'rubble', 'ruin', 'sandstorm', 'screamed',\n",
       "       'screaming', 'screams', 'seismic', 'sinkhole', 'sinking', 'siren',\n",
       "       'sirens', 'smoke', 'snowstorm', 'storm', 'stretcher',\n",
       "       'structural%20failure', 'suicide%20bomb', 'suicide%20bomber',\n",
       "       'suicide%20bombing', 'sunk', 'survive', 'survived', 'survivors',\n",
       "       'terrorism', 'terrorist', 'threat', 'thunder', 'thunderstorm',\n",
       "       'tornado', 'tragedy', 'trapped', 'trauma', 'traumatised',\n",
       "       'trouble', 'tsunami', 'twister', 'typhoon', 'upheaval',\n",
       "       'violent%20storm', 'volcano', 'war%20zone', 'weapon', 'weapons',\n",
       "       'whirlwind', 'wild%20fires', 'wildfire', 'windstorm', 'wounded',\n",
       "       'wounds', 'wreck', 'wreckage', 'wrecked'], dtype=object)"
      ]
     },
     "execution_count": 30,
     "metadata": {},
     "output_type": "execute_result"
    }
   ],
   "source": [
    "train['keyword'].unique()"
   ]
  },
  {
   "cell_type": "code",
   "execution_count": 31,
   "id": "245a4bf5",
   "metadata": {
    "execution": {
     "iopub.execute_input": "2022-02-22T23:32:54.462811Z",
     "iopub.status.busy": "2022-02-22T23:32:54.462075Z",
     "iopub.status.idle": "2022-02-22T23:32:54.468216Z",
     "shell.execute_reply": "2022-02-22T23:32:54.468768Z",
     "shell.execute_reply.started": "2022-02-22T23:28:36.167967Z"
    },
    "papermill": {
     "duration": 0.139152,
     "end_time": "2022-02-22T23:32:54.468947",
     "exception": false,
     "start_time": "2022-02-22T23:32:54.329795",
     "status": "completed"
    },
    "tags": []
   },
   "outputs": [
    {
     "data": {
      "text/plain": [
       "222"
      ]
     },
     "execution_count": 31,
     "metadata": {},
     "output_type": "execute_result"
    }
   ],
   "source": [
    "train['keyword'].nunique()"
   ]
  },
  {
   "cell_type": "markdown",
   "id": "ec043917",
   "metadata": {
    "papermill": {
     "duration": 0.129294,
     "end_time": "2022-02-22T23:32:54.729402",
     "exception": false,
     "start_time": "2022-02-22T23:32:54.600108",
     "status": "completed"
    },
    "tags": []
   },
   "source": [
    "keyword contains many unique values that are similar in meaning to each other.\n",
    "\n",
    "They can be combined into one value like **destroy and destroyed**\n",
    "\n",
    "However, the **use of more colloquial keywords may have an impact on the target feature**, so I will not process them, as we may lose the emotional color of the keyword value.\n",
    "\n",
    "P.S. I am new to NLP, so I draw some conclusions based on my own assumptions. For example, in this case, I could misunderstand the semantic meaning of keyword\n",
    "\n",
    "P.S. Still, my guesses were confirmed, the models had better results, without processing the keyword values :)"
   ]
  },
  {
   "cell_type": "code",
   "execution_count": 32,
   "id": "709e4c22",
   "metadata": {
    "execution": {
     "iopub.execute_input": "2022-02-22T23:32:55.008735Z",
     "iopub.status.busy": "2022-02-22T23:32:55.007955Z",
     "iopub.status.idle": "2022-02-22T23:32:55.022904Z",
     "shell.execute_reply": "2022-02-22T23:32:55.024012Z",
     "shell.execute_reply.started": "2022-02-22T23:28:36.182720Z"
    },
    "papermill": {
     "duration": 0.165746,
     "end_time": "2022-02-22T23:32:55.024343",
     "exception": false,
     "start_time": "2022-02-22T23:32:54.858597",
     "status": "completed"
    },
    "tags": []
   },
   "outputs": [
    {
     "data": {
      "text/plain": [
       "Empty          42\n",
       "wreckage       39\n",
       "outbreak       39\n",
       "derailment     39\n",
       "typhoon        37\n",
       "               ..\n",
       "electrocute     1\n",
       "epicentre       1\n",
       "body%20bags     1\n",
       "body%20bag      1\n",
       "blazing         1\n",
       "Name: keyword, Length: 221, dtype: int64"
      ]
     },
     "execution_count": 32,
     "metadata": {},
     "output_type": "execute_result"
    }
   ],
   "source": [
    "train[train['real_tweet'] == 1]['keyword'].value_counts()"
   ]
  },
  {
   "cell_type": "code",
   "execution_count": 33,
   "id": "e04c2be2",
   "metadata": {
    "execution": {
     "iopub.execute_input": "2022-02-22T23:32:55.318772Z",
     "iopub.status.busy": "2022-02-22T23:32:55.317517Z",
     "iopub.status.idle": "2022-02-22T23:33:00.603537Z",
     "shell.execute_reply": "2022-02-22T23:33:00.604377Z",
     "shell.execute_reply.started": "2022-02-22T23:28:36.204360Z"
    },
    "papermill": {
     "duration": 5.43044,
     "end_time": "2022-02-22T23:33:00.604606",
     "exception": false,
     "start_time": "2022-02-22T23:32:55.174166",
     "status": "completed"
    },
    "scrolled": true,
    "tags": []
   },
   "outputs": [
    {
     "data": {
      "image/png": "[encoded data removed]",
      "text/plain": [
       "<Figure size 600x7500 with 1 Axes>"
      ]
     },
     "metadata": {
      "needs_background": "light"
     },
     "output_type": "display_data"
    }
   ],
   "source": [
    "plt.figure(figsize=(6,75), dpi=100)\n",
    "sns.countplot(data=train, y='keyword', hue='real_tweet',\n",
    "              order=train[train['real_tweet'] == 1]['keyword'].value_counts().index,\n",
    "             palette='bone');"
   ]
  },
  {
   "cell_type": "markdown",
   "id": "d4738b7f",
   "metadata": {
    "papermill": {
     "duration": 0.140473,
     "end_time": "2022-02-22T23:33:00.888999",
     "exception": false,
     "start_time": "2022-02-22T23:33:00.748526",
     "status": "completed"
    },
    "tags": []
   },
   "source": [
    "The countplot clearly shows how most keyword values have a **serious impact on the target feature.**\n",
    "\n",
    "Ok, we are done with keyword, now let's start analysis **location**"
   ]
  },
  {
   "cell_type": "markdown",
   "id": "5674a7f2",
   "metadata": {
    "papermill": {
     "duration": 0.142655,
     "end_time": "2022-02-22T23:33:01.175614",
     "exception": false,
     "start_time": "2022-02-22T23:33:01.032959",
     "status": "completed"
    },
    "tags": []
   },
   "source": [
    "## Location Analysis"
   ]
  },
  {
   "cell_type": "code",
   "execution_count": 34,
   "id": "6cce1304",
   "metadata": {
    "execution": {
     "iopub.execute_input": "2022-02-22T23:33:01.469262Z",
     "iopub.status.busy": "2022-02-22T23:33:01.465171Z",
     "iopub.status.idle": "2022-02-22T23:33:01.471935Z",
     "shell.execute_reply": "2022-02-22T23:33:01.472494Z",
     "shell.execute_reply.started": "2022-02-22T23:28:41.442952Z"
    },
    "papermill": {
     "duration": 0.155584,
     "end_time": "2022-02-22T23:33:01.472687",
     "exception": false,
     "start_time": "2022-02-22T23:33:01.317103",
     "status": "completed"
    },
    "tags": []
   },
   "outputs": [
    {
     "data": {
      "text/plain": [
       "2533"
      ]
     },
     "execution_count": 34,
     "metadata": {},
     "output_type": "execute_result"
    }
   ],
   "source": [
    "train['location'].isnull().sum()"
   ]
  },
  {
   "cell_type": "code",
   "execution_count": 35,
   "id": "3027b50d",
   "metadata": {
    "execution": {
     "iopub.execute_input": "2022-02-22T23:33:01.753209Z",
     "iopub.status.busy": "2022-02-22T23:33:01.752517Z",
     "iopub.status.idle": "2022-02-22T23:33:01.759261Z",
     "shell.execute_reply": "2022-02-22T23:33:01.759889Z",
     "shell.execute_reply.started": "2022-02-22T23:28:41.452510Z"
    },
    "papermill": {
     "duration": 0.146981,
     "end_time": "2022-02-22T23:33:01.760080",
     "exception": false,
     "start_time": "2022-02-22T23:33:01.613099",
     "status": "completed"
    },
    "tags": []
   },
   "outputs": [
    {
     "name": "stdout",
     "output_type": "stream",
     "text": [
      "missing values : 0.333 %\n"
     ]
    }
   ],
   "source": [
    "print(\"missing values :\", round(train['location'].isnull().sum()/train.shape[0],3),'%')"
   ]
  },
  {
   "cell_type": "markdown",
   "id": "14125e66",
   "metadata": {
    "papermill": {
     "duration": 0.149387,
     "end_time": "2022-02-22T23:33:02.048088",
     "exception": false,
     "start_time": "2022-02-22T23:33:01.898701",
     "status": "completed"
    },
    "tags": []
   },
   "source": [
    "**Missing location values 3:10 of the total data size!**\n",
    "\n",
    "This is a large number, so **I'm not sure if this feature can be included in the training data.**\n",
    "\n",
    "However, let's take a closer look at the values of location"
   ]
  },
  {
   "cell_type": "code",
   "execution_count": 36,
   "id": "f0802eed",
   "metadata": {
    "execution": {
     "iopub.execute_input": "2022-02-22T23:33:02.338472Z",
     "iopub.status.busy": "2022-02-22T23:33:02.337747Z",
     "iopub.status.idle": "2022-02-22T23:33:02.345006Z",
     "shell.execute_reply": "2022-02-22T23:33:02.345613Z",
     "shell.execute_reply.started": "2022-02-22T23:28:41.467545Z"
    },
    "papermill": {
     "duration": 0.154625,
     "end_time": "2022-02-22T23:33:02.345812",
     "exception": false,
     "start_time": "2022-02-22T23:33:02.191187",
     "status": "completed"
    },
    "tags": []
   },
   "outputs": [
    {
     "data": {
      "text/plain": [
       "3341"
      ]
     },
     "execution_count": 36,
     "metadata": {},
     "output_type": "execute_result"
    }
   ],
   "source": [
    "train['location'].nunique()"
   ]
  },
  {
   "cell_type": "code",
   "execution_count": 37,
   "id": "b9aea211",
   "metadata": {
    "execution": {
     "iopub.execute_input": "2022-02-22T23:33:02.644217Z",
     "iopub.status.busy": "2022-02-22T23:33:02.643519Z",
     "iopub.status.idle": "2022-02-22T23:33:02.650534Z",
     "shell.execute_reply": "2022-02-22T23:33:02.651043Z",
     "shell.execute_reply.started": "2022-02-22T23:28:41.483336Z"
    },
    "papermill": {
     "duration": 0.161607,
     "end_time": "2022-02-22T23:33:02.651264",
     "exception": false,
     "start_time": "2022-02-22T23:33:02.489657",
     "status": "completed"
    },
    "tags": []
   },
   "outputs": [],
   "source": [
    "top_location = train['location'].value_counts(normalize=True).head(50).index"
   ]
  },
  {
   "cell_type": "code",
   "execution_count": 38,
   "id": "d8e612b7",
   "metadata": {
    "execution": {
     "iopub.execute_input": "2022-02-22T23:33:02.937672Z",
     "iopub.status.busy": "2022-02-22T23:33:02.936912Z",
     "iopub.status.idle": "2022-02-22T23:33:04.368423Z",
     "shell.execute_reply": "2022-02-22T23:33:04.368923Z",
     "shell.execute_reply.started": "2022-02-22T23:28:41.502456Z"
    },
    "papermill": {
     "duration": 1.574864,
     "end_time": "2022-02-22T23:33:04.369133",
     "exception": false,
     "start_time": "2022-02-22T23:33:02.794269",
     "status": "completed"
    },
    "tags": []
   },
   "outputs": [
    {
     "data": {
      "image/png": "[encoded data removed]",
      "text/plain": [
       "<Figure size 1080x720 with 1 Axes>"
      ]
     },
     "metadata": {
      "needs_background": "light"
     },
     "output_type": "display_data"
    }
   ],
   "source": [
    "plt.figure(figsize=(15,10))\n",
    "sns.countplot(data=train[train['location'].isin(top_location)], x='location', hue='real_tweet', palette='Pastel2_r')\n",
    "plt.xticks(rotation=80);"
   ]
  },
  {
   "cell_type": "markdown",
   "id": "f6fbf7eb",
   "metadata": {
    "papermill": {
     "duration": 0.14245,
     "end_time": "2022-02-22T23:33:04.657533",
     "exception": false,
     "start_time": "2022-02-22T23:33:04.515083",
     "status": "completed"
    },
    "tags": []
   },
   "source": [
    "People indicated in the location of the **city, country or city-country**\n",
    "\n",
    "The countplot shows that most of the tweets were from the **USA and UK.**\n",
    "\n",
    "This large number of unique values tells us that there are very few tweets per location value, not counting USA and UK.\n",
    "\n",
    "Perhaps it is worth clearing this feature and **entering only 3 unique values: UK, USA, Other**\n",
    "\n",
    "However, I won't do this, because I still think that the number of missing values in location is very large and by setting the value to empty we will **create a lot of artificial information.**\n",
    "\n",
    "**In the future, I will not use this feature.**\n",
    "\n",
    "P.S. If this is a really important sign and I'm wrong, write me about it. Alas, I have not seen other laptops with good results who used location\n",
    "\n",
    "\n",
    "----------------------"
   ]
  },
  {
   "cell_type": "markdown",
   "id": "36ae041f",
   "metadata": {
    "papermill": {
     "duration": 0.164732,
     "end_time": "2022-02-22T23:33:04.960647",
     "exception": false,
     "start_time": "2022-02-22T23:33:04.795915",
     "status": "completed"
    },
    "tags": []
   },
   "source": [
    "#  <center>| Data Preprocessing |</center>"
   ]
  },
  {
   "cell_type": "markdown",
   "id": "3f39274e",
   "metadata": {
    "papermill": {
     "duration": 0.137419,
     "end_time": "2022-02-22T23:33:05.241907",
     "exception": false,
     "start_time": "2022-02-22T23:33:05.104488",
     "status": "completed"
    },
    "tags": []
   },
   "source": [
    "![](https://iprofi.kg/wp-content/uploads/2021/07/60ffd0153c1d3549690580.gif)"
   ]
  },
  {
   "cell_type": "markdown",
   "id": "ae0fec3f",
   "metadata": {
    "papermill": {
     "duration": 0.140189,
     "end_time": "2022-02-22T23:33:05.519486",
     "exception": false,
     "start_time": "2022-02-22T23:33:05.379297",
     "status": "completed"
    },
    "tags": []
   },
   "source": [
    "Ok, let's move on to the next block of solving the competition, **data preprocessing.**\n",
    "\n",
    "But let's take a **look at the correlation matrix**. In the past, we have created some features that can be highly correlated with each other."
   ]
  },
  {
   "cell_type": "markdown",
   "id": "1c1b8965",
   "metadata": {
    "papermill": {
     "duration": 0.144456,
     "end_time": "2022-02-22T23:33:05.804804",
     "exception": false,
     "start_time": "2022-02-22T23:33:05.660348",
     "status": "completed"
    },
    "tags": []
   },
   "source": [
    "1. **Previously, we thought that count_punctation is a better choice than check_punctation**, however, this feature is moderately correlated with other features, but carries the same information to the target feature, so we **remove count_punctation**\n",
    "\n",
    "2. **Leave check_digits** as it carries more information to the target feature\n",
    "\n",
    "3. **Remove the location**, we decided that due to the large number of missing values, it will not help in training the model\n",
    "\n",
    "4. **Remove id and text**, we won't need them anymore"
   ]
  },
  {
   "cell_type": "code",
   "execution_count": 39,
   "id": "937ec164",
   "metadata": {
    "execution": {
     "iopub.execute_input": "2022-02-22T23:33:06.101566Z",
     "iopub.status.busy": "2022-02-22T23:33:06.100893Z",
     "iopub.status.idle": "2022-02-22T23:33:06.104731Z",
     "shell.execute_reply": "2022-02-22T23:33:06.105228Z",
     "shell.execute_reply.started": "2022-02-22T23:28:42.796510Z"
    },
    "papermill": {
     "duration": 0.154734,
     "end_time": "2022-02-22T23:33:06.105419",
     "exception": false,
     "start_time": "2022-02-22T23:33:05.950685",
     "status": "completed"
    },
    "tags": []
   },
   "outputs": [],
   "source": [
    "clean_train = train.drop(['count_digits','count_punctation','id','location', 'text'], axis=1)\n",
    "clean_test  = test.drop(['count_digits','count_punctation','id','location', 'text'], axis=1)"
   ]
  },
  {
   "cell_type": "code",
   "execution_count": 40,
   "id": "4ced5d79",
   "metadata": {
    "execution": {
     "iopub.execute_input": "2022-02-22T23:33:06.398279Z",
     "iopub.status.busy": "2022-02-22T23:33:06.397237Z",
     "iopub.status.idle": "2022-02-22T23:33:07.673614Z",
     "shell.execute_reply": "2022-02-22T23:33:07.674308Z",
     "shell.execute_reply.started": "2022-02-22T23:28:42.807090Z"
    },
    "papermill": {
     "duration": 1.428611,
     "end_time": "2022-02-22T23:33:07.674502",
     "exception": false,
     "start_time": "2022-02-22T23:33:06.245891",
     "status": "completed"
    },
    "tags": []
   },
   "outputs": [
    {
     "data": {
      "image/png": "[encoded data removed]",
      "text/plain": [
       "<Figure size 1080x360 with 4 Axes>"
      ]
     },
     "metadata": {
      "needs_background": "light"
     },
     "output_type": "display_data"
    }
   ],
   "source": [
    "fig, ax =plt.subplots(1,2, figsize=(15,5))\n",
    "ax[0].title.set_text('Before\\n')\n",
    "sns.heatmap(train.corr(), annot=True, ax=ax[0], fmt='.1g', cmap='Greens', linewidths=2, linecolor='black')\n",
    "ax[1].title.set_text('After\\n')\n",
    "sns.heatmap(clean_train.corr(), annot=True, ax=ax[1], fmt='.1g', cmap='Greens', linewidths=2, linecolor='black');"
   ]
  },
  {
   "cell_type": "markdown",
   "id": "27d6f3ab",
   "metadata": {
    "papermill": {
     "duration": 0.147184,
     "end_time": "2022-02-22T23:33:07.966777",
     "exception": false,
     "start_time": "2022-02-22T23:33:07.819593",
     "status": "completed"
    },
    "tags": []
   },
   "source": [
    "## Additional Features Preprocessing"
   ]
  },
  {
   "cell_type": "markdown",
   "id": "73579999",
   "metadata": {
    "papermill": {
     "duration": 0.144124,
     "end_time": "2022-02-22T23:33:08.254525",
     "exception": false,
     "start_time": "2022-02-22T23:33:08.110401",
     "status": "completed"
    },
    "tags": []
   },
   "source": [
    "Great, now we need to process our features for further use."
   ]
  },
  {
   "cell_type": "code",
   "execution_count": 41,
   "id": "d62b98fb",
   "metadata": {
    "execution": {
     "iopub.execute_input": "2022-02-22T23:33:08.545809Z",
     "iopub.status.busy": "2022-02-22T23:33:08.544685Z",
     "iopub.status.idle": "2022-02-22T23:33:08.558002Z",
     "shell.execute_reply": "2022-02-22T23:33:08.558646Z",
     "shell.execute_reply.started": "2022-02-22T23:28:44.181092Z"
    },
    "papermill": {
     "duration": 0.159723,
     "end_time": "2022-02-22T23:33:08.558830",
     "exception": false,
     "start_time": "2022-02-22T23:33:08.399107",
     "status": "completed"
    },
    "tags": []
   },
   "outputs": [
    {
     "data": {
      "text/html": [
       "<div>\n",
       "<style scoped>\n",
       "    .dataframe tbody tr th:only-of-type {\n",
       "        vertical-align: middle;\n",
       "    }\n",
       "\n",
       "    .dataframe tbody tr th {\n",
       "        vertical-align: top;\n",
       "    }\n",
       "\n",
       "    .dataframe thead th {\n",
       "        text-align: right;\n",
       "    }\n",
       "</style>\n",
       "<table border=\"1\" class=\"dataframe\">\n",
       "  <thead>\n",
       "    <tr style=\"text-align: right;\">\n",
       "      <th></th>\n",
       "      <th>keyword</th>\n",
       "      <th>real_tweet</th>\n",
       "      <th>len_text</th>\n",
       "      <th>check_digits</th>\n",
       "      <th>check_punctation</th>\n",
       "      <th>check_http</th>\n",
       "      <th>check_hash</th>\n",
       "      <th>clean_text</th>\n",
       "    </tr>\n",
       "  </thead>\n",
       "  <tbody>\n",
       "    <tr>\n",
       "      <th>0</th>\n",
       "      <td>Empty</td>\n",
       "      <td>1</td>\n",
       "      <td>69</td>\n",
       "      <td>0</td>\n",
       "      <td>1</td>\n",
       "      <td>False</td>\n",
       "      <td>True</td>\n",
       "      <td>deeds reason earthquake may allah forgive us</td>\n",
       "    </tr>\n",
       "    <tr>\n",
       "      <th>1</th>\n",
       "      <td>Empty</td>\n",
       "      <td>1</td>\n",
       "      <td>38</td>\n",
       "      <td>0</td>\n",
       "      <td>1</td>\n",
       "      <td>False</td>\n",
       "      <td>False</td>\n",
       "      <td>forest fire near la ronge sask canada</td>\n",
       "    </tr>\n",
       "    <tr>\n",
       "      <th>2</th>\n",
       "      <td>Empty</td>\n",
       "      <td>1</td>\n",
       "      <td>133</td>\n",
       "      <td>0</td>\n",
       "      <td>1</td>\n",
       "      <td>False</td>\n",
       "      <td>False</td>\n",
       "      <td>residents asked shelter place notified officer...</td>\n",
       "    </tr>\n",
       "    <tr>\n",
       "      <th>3</th>\n",
       "      <td>Empty</td>\n",
       "      <td>1</td>\n",
       "      <td>65</td>\n",
       "      <td>1</td>\n",
       "      <td>1</td>\n",
       "      <td>False</td>\n",
       "      <td>True</td>\n",
       "      <td>13 000 people receive wildfires evacuation ord...</td>\n",
       "    </tr>\n",
       "    <tr>\n",
       "      <th>4</th>\n",
       "      <td>Empty</td>\n",
       "      <td>1</td>\n",
       "      <td>88</td>\n",
       "      <td>0</td>\n",
       "      <td>1</td>\n",
       "      <td>False</td>\n",
       "      <td>True</td>\n",
       "      <td>got sent photo ruby alaska smoke wildfires pou...</td>\n",
       "    </tr>\n",
       "  </tbody>\n",
       "</table>\n",
       "</div>"
      ],
      "text/plain": [
       "  keyword  real_tweet  len_text  check_digits  check_punctation  check_http  \\\n",
       "0   Empty           1        69             0                 1       False   \n",
       "1   Empty           1        38             0                 1       False   \n",
       "2   Empty           1       133             0                 1       False   \n",
       "3   Empty           1        65             1                 1       False   \n",
       "4   Empty           1        88             0                 1       False   \n",
       "\n",
       "   check_hash                                         clean_text  \n",
       "0        True       deeds reason earthquake may allah forgive us  \n",
       "1       False              forest fire near la ronge sask canada  \n",
       "2       False  residents asked shelter place notified officer...  \n",
       "3        True  13 000 people receive wildfires evacuation ord...  \n",
       "4        True  got sent photo ruby alaska smoke wildfires pou...  "
      ]
     },
     "execution_count": 41,
     "metadata": {},
     "output_type": "execute_result"
    }
   ],
   "source": [
    "clean_train.head()"
   ]
  },
  {
   "cell_type": "markdown",
   "id": "5de1deb6",
   "metadata": {
    "papermill": {
     "duration": 0.149043,
     "end_time": "2022-02-22T23:33:08.858715",
     "exception": false,
     "start_time": "2022-02-22T23:33:08.709672",
     "status": "completed"
    },
    "tags": []
   },
   "source": [
    "Convert **bool features to int**\n",
    "\n",
    "P.S. In the process of generating features, I did not think that they would have to be transformed :)"
   ]
  },
  {
   "cell_type": "code",
   "execution_count": 42,
   "id": "c3d3474f",
   "metadata": {
    "execution": {
     "iopub.execute_input": "2022-02-22T23:33:09.158606Z",
     "iopub.status.busy": "2022-02-22T23:33:09.157948Z",
     "iopub.status.idle": "2022-02-22T23:33:09.180406Z",
     "shell.execute_reply": "2022-02-22T23:33:09.179835Z",
     "shell.execute_reply.started": "2022-02-22T23:28:44.198104Z"
    },
    "papermill": {
     "duration": 0.172348,
     "end_time": "2022-02-22T23:33:09.180569",
     "exception": false,
     "start_time": "2022-02-22T23:33:09.008221",
     "status": "completed"
    },
    "tags": []
   },
   "outputs": [],
   "source": [
    "clean_train['check_http'] = clean_train['check_http'].apply(lambda x: 1 if x else 0)\n",
    "clean_train['check_hash'] = clean_train['check_hash'].apply(lambda x: 1 if x else 0)\n",
    "\n",
    "clean_test['check_http'] = clean_test['check_http'].apply(lambda x: 1 if x else 0)\n",
    "clean_test['check_hash'] = clean_test['check_hash'].apply(lambda x: 1 if x else 0)"
   ]
  },
  {
   "cell_type": "markdown",
   "id": "34b3e6ac",
   "metadata": {
    "papermill": {
     "duration": 0.143813,
     "end_time": "2022-02-22T23:33:09.470381",
     "exception": false,
     "start_time": "2022-02-22T23:33:09.326568",
     "status": "completed"
    },
    "tags": []
   },
   "source": [
    "Now import and apply **MinMaxScaler()** to standardize len_text\n",
    "\n",
    "We use **MinMax standardization to get the values [0:1]**. In what follows, we will use **Naive Bayes**, which requires only **positive values.**"
   ]
  },
  {
   "cell_type": "code",
   "execution_count": 43,
   "id": "8477879f",
   "metadata": {
    "execution": {
     "iopub.execute_input": "2022-02-22T23:33:09.763766Z",
     "iopub.status.busy": "2022-02-22T23:33:09.763040Z",
     "iopub.status.idle": "2022-02-22T23:33:09.765955Z",
     "shell.execute_reply": "2022-02-22T23:33:09.765330Z",
     "shell.execute_reply.started": "2022-02-22T23:28:44.233279Z"
    },
    "papermill": {
     "duration": 0.151209,
     "end_time": "2022-02-22T23:33:09.766129",
     "exception": false,
     "start_time": "2022-02-22T23:33:09.614920",
     "status": "completed"
    },
    "tags": []
   },
   "outputs": [],
   "source": [
    "from sklearn.preprocessing import MinMaxScaler"
   ]
  },
  {
   "cell_type": "code",
   "execution_count": 44,
   "id": "f1a174af",
   "metadata": {
    "execution": {
     "iopub.execute_input": "2022-02-22T23:33:10.071519Z",
     "iopub.status.busy": "2022-02-22T23:33:10.070724Z",
     "iopub.status.idle": "2022-02-22T23:33:10.075698Z",
     "shell.execute_reply": "2022-02-22T23:33:10.075139Z",
     "shell.execute_reply.started": "2022-02-22T23:28:44.254164Z"
    },
    "papermill": {
     "duration": 0.156704,
     "end_time": "2022-02-22T23:33:10.075840",
     "exception": false,
     "start_time": "2022-02-22T23:33:09.919136",
     "status": "completed"
    },
    "tags": []
   },
   "outputs": [],
   "source": [
    "scal = MinMaxScaler()\n",
    "scal.fit(clean_train['len_text'].values.reshape(-1,1))\n",
    "clean_train['len_text'] = scal.transform(clean_train['len_text'].values.reshape(-1,1))\n",
    "clean_test['len_text'] = scal.transform(clean_test['len_text'].values.reshape(-1,1))"
   ]
  },
  {
   "cell_type": "markdown",
   "id": "b26fa2e0",
   "metadata": {
    "papermill": {
     "duration": 0.146324,
     "end_time": "2022-02-22T23:33:10.367588",
     "exception": false,
     "start_time": "2022-02-22T23:33:10.221264",
     "status": "completed"
    },
    "tags": []
   },
   "source": [
    "## Text Preprocessing"
   ]
  },
  {
   "cell_type": "markdown",
   "id": "113b588d",
   "metadata": {
    "papermill": {
     "duration": 0.144203,
     "end_time": "2022-02-22T23:33:10.655347",
     "exception": false,
     "start_time": "2022-02-22T23:33:10.511144",
     "status": "completed"
    },
    "tags": []
   },
   "source": [
    "For this block, I need to explain what I'm doing\n",
    "\n",
    "1. We apply **word_tokenize()** to the text in order to split() all the words of the text. Why didn't we use split()? word_tokenize was created to handle large text sizes, so **word_tokenize is faster than split()**\n",
    "\n",
    "\n",
    "2. We apply **WordNetLemmatizer()** to the text in order to bring the words to the basic forms of the word, preserving the contextual meaning of the sentence.\n",
    "\n",
    "P.S. I have a bad level of English, so it's hard for me to explain in simple words what lemmatization is :("
   ]
  },
  {
   "cell_type": "code",
   "execution_count": 45,
   "id": "6b35c070",
   "metadata": {
    "execution": {
     "iopub.execute_input": "2022-02-22T23:33:10.948305Z",
     "iopub.status.busy": "2022-02-22T23:33:10.947552Z",
     "iopub.status.idle": "2022-02-22T23:33:10.950862Z",
     "shell.execute_reply": "2022-02-22T23:33:10.951796Z",
     "shell.execute_reply.started": "2022-02-22T23:28:44.273265Z"
    },
    "papermill": {
     "duration": 0.151702,
     "end_time": "2022-02-22T23:33:10.952005",
     "exception": false,
     "start_time": "2022-02-22T23:33:10.800303",
     "status": "completed"
    },
    "tags": []
   },
   "outputs": [],
   "source": [
    "from nltk.stem import WordNetLemmatizer"
   ]
  },
  {
   "cell_type": "code",
   "execution_count": 46,
   "id": "44de18dd",
   "metadata": {
    "execution": {
     "iopub.execute_input": "2022-02-22T23:33:11.252396Z",
     "iopub.status.busy": "2022-02-22T23:33:11.249869Z",
     "iopub.status.idle": "2022-02-22T23:33:13.331638Z",
     "shell.execute_reply": "2022-02-22T23:33:13.330906Z",
     "shell.execute_reply.started": "2022-02-22T23:28:44.287953Z"
    },
    "papermill": {
     "duration": 2.229204,
     "end_time": "2022-02-22T23:33:13.331804",
     "exception": false,
     "start_time": "2022-02-22T23:33:11.102600",
     "status": "completed"
    },
    "tags": []
   },
   "outputs": [],
   "source": [
    "clean_train['clean_text'] = clean_train['clean_text'].apply(lambda x: nltk.tokenize.word_tokenize(x))\n",
    "clean_test['clean_text'] = clean_test['clean_text'].apply(lambda x: nltk.tokenize.word_tokenize(x))"
   ]
  },
  {
   "cell_type": "code",
   "execution_count": 47,
   "id": "aece2be9",
   "metadata": {
    "execution": {
     "iopub.execute_input": "2022-02-22T23:33:13.629168Z",
     "iopub.status.busy": "2022-02-22T23:33:13.628409Z",
     "iopub.status.idle": "2022-02-22T23:33:13.634854Z",
     "shell.execute_reply": "2022-02-22T23:33:13.635500Z",
     "shell.execute_reply.started": "2022-02-22T23:28:46.409209Z"
    },
    "papermill": {
     "duration": 0.155904,
     "end_time": "2022-02-22T23:33:13.635679",
     "exception": false,
     "start_time": "2022-02-22T23:33:13.479775",
     "status": "completed"
    },
    "tags": []
   },
   "outputs": [
    {
     "name": "stdout",
     "output_type": "stream",
     "text": [
      "Before:  forest fire near la ronge sask canada\n",
      "After:  ['forest', 'fire', 'near', 'la', 'ronge', 'sask', 'canada']\n"
     ]
    }
   ],
   "source": [
    "print('Before: ', train['clean_text'][1])\n",
    "print('After: ', clean_train['clean_text'][1])"
   ]
  },
  {
   "cell_type": "code",
   "execution_count": 48,
   "id": "52cffa9d",
   "metadata": {
    "execution": {
     "iopub.execute_input": "2022-02-22T23:33:13.935117Z",
     "iopub.status.busy": "2022-02-22T23:33:13.934347Z",
     "iopub.status.idle": "2022-02-22T23:33:13.938306Z",
     "shell.execute_reply": "2022-02-22T23:33:13.938798Z",
     "shell.execute_reply.started": "2022-02-22T23:28:46.417865Z"
    },
    "papermill": {
     "duration": 0.156313,
     "end_time": "2022-02-22T23:33:13.938977",
     "exception": false,
     "start_time": "2022-02-22T23:33:13.782664",
     "status": "completed"
    },
    "tags": []
   },
   "outputs": [],
   "source": [
    "def lem_word(text):\n",
    "    lem = WordNetLemmatizer()\n",
    "    text = [lem.lemmatize(word) for word in text]\n",
    "    return text"
   ]
  },
  {
   "cell_type": "code",
   "execution_count": 49,
   "id": "cae8440b",
   "metadata": {
    "execution": {
     "iopub.execute_input": "2022-02-22T23:33:14.236279Z",
     "iopub.status.busy": "2022-02-22T23:33:14.235565Z",
     "iopub.status.idle": "2022-02-22T23:33:17.127923Z",
     "shell.execute_reply": "2022-02-22T23:33:17.127354Z",
     "shell.execute_reply.started": "2022-02-22T23:28:46.439108Z"
    },
    "papermill": {
     "duration": 3.042148,
     "end_time": "2022-02-22T23:33:17.128099",
     "exception": false,
     "start_time": "2022-02-22T23:33:14.085951",
     "status": "completed"
    },
    "tags": []
   },
   "outputs": [],
   "source": [
    "clean_train['clean_text'] = clean_train['clean_text'].apply(lem_word)\n",
    "clean_test['clean_text'] = clean_test['clean_text'].apply(lem_word)"
   ]
  },
  {
   "cell_type": "code",
   "execution_count": 50,
   "id": "794d5281",
   "metadata": {
    "execution": {
     "iopub.execute_input": "2022-02-22T23:33:17.424684Z",
     "iopub.status.busy": "2022-02-22T23:33:17.423995Z",
     "iopub.status.idle": "2022-02-22T23:33:17.430287Z",
     "shell.execute_reply": "2022-02-22T23:33:17.429517Z",
     "shell.execute_reply.started": "2022-02-22T23:28:49.375499Z"
    },
    "papermill": {
     "duration": 0.156041,
     "end_time": "2022-02-22T23:33:17.430433",
     "exception": false,
     "start_time": "2022-02-22T23:33:17.274392",
     "status": "completed"
    },
    "tags": []
   },
   "outputs": [
    {
     "name": "stdout",
     "output_type": "stream",
     "text": [
      "Before:  love fruits\n",
      "After:  ['love', 'fruit']\n"
     ]
    }
   ],
   "source": [
    "print('Before: ', train['clean_text'][16])\n",
    "print('After: ', clean_train['clean_text'][16])"
   ]
  },
  {
   "cell_type": "markdown",
   "id": "bc490860",
   "metadata": {
    "papermill": {
     "duration": 0.147068,
     "end_time": "2022-02-22T23:33:17.722011",
     "exception": false,
     "start_time": "2022-02-22T23:33:17.574943",
     "status": "completed"
    },
    "tags": []
   },
   "source": [
    "## Constructing Training Dataset"
   ]
  },
  {
   "cell_type": "markdown",
   "id": "51abced1",
   "metadata": {
    "papermill": {
     "duration": 0.14488,
     "end_time": "2022-02-22T23:33:18.012353",
     "exception": false,
     "start_time": "2022-02-22T23:33:17.867473",
     "status": "completed"
    },
    "tags": []
   },
   "source": [
    "For this block, I need to explain what I'm doing\n",
    "\n",
    "1. I use **sample() to shuffle the data** as it is not in random order (Look at the keyword feature. Empty values only occur in the leading and last indexes)\n",
    "\n",
    "\n",
    "2. I **divide the data into X_train, y_train, X_test**\n",
    "\n",
    "\n",
    "3. After tokenization, we **need to turn clean_text into str()** (Now it is a list)\n",
    "\n",
    "\n",
    "4. I **use TfidfVectorizer()**. This function turns the text into a **sparse matrix**, in which each word found in the dictionary is assigned its own cell. Next, for each word, **we calculate the frequency of occurrences** in clean_text and keyword. **This is necessary to give lower weights to frequently used words.**\n",
    "\n",
    "\n",
    "5. **Use hstack() to merge 2 sparse matrices**\n",
    "\n",
    "\n",
    "6. **Transform the remaining features into a sparse matrix and combine with the main sparse matrix X_[]_tfid**\n",
    "\n",
    "\n",
    "At each step, we display the shape so as not to accidentally lose data in the process of creating training and test data"
   ]
  },
  {
   "cell_type": "code",
   "execution_count": 51,
   "id": "75824777",
   "metadata": {
    "execution": {
     "iopub.execute_input": "2022-02-22T23:33:18.315148Z",
     "iopub.status.busy": "2022-02-22T23:33:18.314080Z",
     "iopub.status.idle": "2022-02-22T23:33:18.317608Z",
     "shell.execute_reply": "2022-02-22T23:33:18.316934Z",
     "shell.execute_reply.started": "2022-02-22T23:28:49.385031Z"
    },
    "papermill": {
     "duration": 0.157312,
     "end_time": "2022-02-22T23:33:18.317758",
     "exception": false,
     "start_time": "2022-02-22T23:33:18.160446",
     "status": "completed"
    },
    "tags": []
   },
   "outputs": [],
   "source": [
    "from sklearn.feature_extraction.text import TfidfVectorizer"
   ]
  },
  {
   "cell_type": "code",
   "execution_count": 52,
   "id": "a4e421ba",
   "metadata": {
    "execution": {
     "iopub.execute_input": "2022-02-22T23:33:18.688913Z",
     "iopub.status.busy": "2022-02-22T23:33:18.688215Z",
     "iopub.status.idle": "2022-02-22T23:33:18.694381Z",
     "shell.execute_reply": "2022-02-22T23:33:18.694925Z",
     "shell.execute_reply.started": "2022-02-22T23:28:49.397641Z"
    },
    "papermill": {
     "duration": 0.164038,
     "end_time": "2022-02-22T23:33:18.695122",
     "exception": false,
     "start_time": "2022-02-22T23:33:18.531084",
     "status": "completed"
    },
    "tags": []
   },
   "outputs": [],
   "source": [
    "clean_train = clean_train.sample(frac=1).reset_index(drop=True)"
   ]
  },
  {
   "cell_type": "code",
   "execution_count": 53,
   "id": "92aea26f",
   "metadata": {
    "execution": {
     "iopub.execute_input": "2022-02-22T23:33:19.000776Z",
     "iopub.status.busy": "2022-02-22T23:33:18.999992Z",
     "iopub.status.idle": "2022-02-22T23:33:19.006272Z",
     "shell.execute_reply": "2022-02-22T23:33:19.006832Z",
     "shell.execute_reply.started": "2022-02-22T23:28:49.416339Z"
    },
    "papermill": {
     "duration": 0.160075,
     "end_time": "2022-02-22T23:33:19.007015",
     "exception": false,
     "start_time": "2022-02-22T23:33:18.846940",
     "status": "completed"
    },
    "tags": []
   },
   "outputs": [],
   "source": [
    "X_train = clean_train.drop(['real_tweet'], axis=1)\n",
    "y_train = clean_train['real_tweet']\n",
    "X_test = clean_test.copy()"
   ]
  },
  {
   "cell_type": "code",
   "execution_count": 54,
   "id": "7e13256a",
   "metadata": {
    "execution": {
     "iopub.execute_input": "2022-02-22T23:33:19.323186Z",
     "iopub.status.busy": "2022-02-22T23:33:19.322465Z",
     "iopub.status.idle": "2022-02-22T23:33:19.331311Z",
     "shell.execute_reply": "2022-02-22T23:33:19.330700Z",
     "shell.execute_reply.started": "2022-02-22T23:28:49.433960Z"
    },
    "papermill": {
     "duration": 0.172874,
     "end_time": "2022-02-22T23:33:19.331505",
     "exception": false,
     "start_time": "2022-02-22T23:33:19.158631",
     "status": "completed"
    },
    "tags": []
   },
   "outputs": [
    {
     "name": "stdout",
     "output_type": "stream",
     "text": [
      "Train shape:  7613\n",
      "\n",
      "Test shape:  3263\n",
      "------------------------------\n",
      "Train y: \n",
      "\n",
      "0    4342\n",
      "1    3271\n",
      "Name: real_tweet, dtype: int64\n"
     ]
    }
   ],
   "source": [
    "print('Train shape: ', X_train.shape[0])\n",
    "print('\\nTest shape: ', X_test.shape[0])\n",
    "print('-'*30)\n",
    "print('Train y: \\n\\n', y_train.value_counts(), sep='')"
   ]
  },
  {
   "cell_type": "code",
   "execution_count": 55,
   "id": "7b6a2459",
   "metadata": {
    "execution": {
     "iopub.execute_input": "2022-02-22T23:33:19.642559Z",
     "iopub.status.busy": "2022-02-22T23:33:19.641865Z",
     "iopub.status.idle": "2022-02-22T23:33:19.659321Z",
     "shell.execute_reply": "2022-02-22T23:33:19.660109Z",
     "shell.execute_reply.started": "2022-02-22T23:28:49.451030Z"
    },
    "papermill": {
     "duration": 0.17611,
     "end_time": "2022-02-22T23:33:19.660314",
     "exception": false,
     "start_time": "2022-02-22T23:33:19.484204",
     "status": "completed"
    },
    "tags": []
   },
   "outputs": [],
   "source": [
    "X_train['clean_text'] = X_train['clean_text'].apply(lambda x: ' '.join(x))\n",
    "X_test['clean_text'] = X_test['clean_text'].apply(lambda x: ' '.join(x))"
   ]
  },
  {
   "cell_type": "code",
   "execution_count": 56,
   "id": "eae26815",
   "metadata": {
    "execution": {
     "iopub.execute_input": "2022-02-22T23:33:19.958659Z",
     "iopub.status.busy": "2022-02-22T23:33:19.957886Z",
     "iopub.status.idle": "2022-02-22T23:33:20.242317Z",
     "shell.execute_reply": "2022-02-22T23:33:20.242897Z",
     "shell.execute_reply.started": "2022-02-22T23:28:49.477626Z"
    },
    "papermill": {
     "duration": 0.435502,
     "end_time": "2022-02-22T23:33:20.243115",
     "exception": false,
     "start_time": "2022-02-22T23:33:19.807613",
     "status": "completed"
    },
    "tags": []
   },
   "outputs": [],
   "source": [
    "tfid = TfidfVectorizer()\n",
    "#count_vect = CountVectorizer()\n",
    "\n",
    "X_train_tfid_text = tfid.fit_transform(X_train['clean_text'])\n",
    "X_test_tfid_text = tfid.transform(X_test['clean_text'])\n",
    "\n",
    "X_train_tfid_keyword = tfid.fit_transform(X_train['keyword'])\n",
    "X_test_tfid_keyword = tfid.transform(X_test['keyword'])\n",
    "\n",
    "#X_train_tfid_keyword = count_vect.fit_transform(X_train['keyword'])\n",
    "#X_val_tfid_keyword = count_vect.transform(X_val['keyword'])\n",
    "#X_test_tfid_keyword = count_vect.transform(X_test['keyword'])"
   ]
  },
  {
   "cell_type": "code",
   "execution_count": 57,
   "id": "a948fc42",
   "metadata": {
    "execution": {
     "iopub.execute_input": "2022-02-22T23:33:20.540919Z",
     "iopub.status.busy": "2022-02-22T23:33:20.539664Z",
     "iopub.status.idle": "2022-02-22T23:33:20.546977Z",
     "shell.execute_reply": "2022-02-22T23:33:20.547561Z",
     "shell.execute_reply.started": "2022-02-22T23:28:49.778116Z"
    },
    "papermill": {
     "duration": 0.160069,
     "end_time": "2022-02-22T23:33:20.547743",
     "exception": false,
     "start_time": "2022-02-22T23:33:20.387674",
     "status": "completed"
    },
    "tags": []
   },
   "outputs": [],
   "source": [
    "X_train_tfid = hstack([X_train_tfid_text, X_train_tfid_keyword])\n",
    "X_test_tfid = hstack([X_test_tfid_text, X_test_tfid_keyword])"
   ]
  },
  {
   "cell_type": "code",
   "execution_count": 58,
   "id": "c2f0dc10",
   "metadata": {
    "execution": {
     "iopub.execute_input": "2022-02-22T23:33:20.856295Z",
     "iopub.status.busy": "2022-02-22T23:33:20.855313Z",
     "iopub.status.idle": "2022-02-22T23:33:20.863723Z",
     "shell.execute_reply": "2022-02-22T23:33:20.864578Z",
     "shell.execute_reply.started": "2022-02-22T23:28:49.789655Z"
    },
    "papermill": {
     "duration": 0.163468,
     "end_time": "2022-02-22T23:33:20.864929",
     "exception": false,
     "start_time": "2022-02-22T23:33:20.701461",
     "status": "completed"
    },
    "tags": []
   },
   "outputs": [
    {
     "name": "stdout",
     "output_type": "stream",
     "text": [
      "Text shape\n",
      "Train:  (7613, 15702)\n",
      "Test:  (3263, 15702)\n",
      "-------------------------\n",
      "Keyword shape\n",
      "Train:  (7613, 240)\n",
      "Test:  (3263, 240)\n",
      "-------------------------\n",
      "Total shape\n",
      "Train:  (7613, 15942)\n",
      "Test:  (3263, 15942)\n"
     ]
    }
   ],
   "source": [
    "print('Text shape')\n",
    "print('Train: ' ,X_train_tfid_text.shape)\n",
    "print('Test: ' ,X_test_tfid_text.shape)\n",
    "print('-'*25)\n",
    "print('Keyword shape')\n",
    "print('Train: ' ,X_train_tfid_keyword.shape)\n",
    "print('Test: ' ,X_test_tfid_keyword.shape)\n",
    "print('-'*25)\n",
    "print('Total shape')\n",
    "print('Train: ' ,X_train_tfid.shape)\n",
    "print('Test: ' ,X_test_tfid.shape)"
   ]
  },
  {
   "cell_type": "code",
   "execution_count": 59,
   "id": "6331e351",
   "metadata": {
    "execution": {
     "iopub.execute_input": "2022-02-22T23:33:21.164831Z",
     "iopub.status.busy": "2022-02-22T23:33:21.163875Z",
     "iopub.status.idle": "2022-02-22T23:33:21.166776Z",
     "shell.execute_reply": "2022-02-22T23:33:21.166162Z",
     "shell.execute_reply.started": "2022-02-22T23:28:49.804134Z"
    },
    "papermill": {
     "duration": 0.15496,
     "end_time": "2022-02-22T23:33:21.166920",
     "exception": false,
     "start_time": "2022-02-22T23:33:21.011960",
     "status": "completed"
    },
    "tags": []
   },
   "outputs": [],
   "source": [
    "def another_feature_to_csr_matrix(feature, matrix):\n",
    "    new_matrix = csr_matrix(hstack([matrix, feature.values.reshape(-1,1)]))\n",
    "    return new_matrix"
   ]
  },
  {
   "cell_type": "code",
   "execution_count": 60,
   "id": "39c179f0",
   "metadata": {
    "execution": {
     "iopub.execute_input": "2022-02-22T23:33:21.470142Z",
     "iopub.status.busy": "2022-02-22T23:33:21.469087Z",
     "iopub.status.idle": "2022-02-22T23:33:21.509866Z",
     "shell.execute_reply": "2022-02-22T23:33:21.509209Z",
     "shell.execute_reply.started": "2022-02-22T23:28:49.821151Z"
    },
    "papermill": {
     "duration": 0.195112,
     "end_time": "2022-02-22T23:33:21.510014",
     "exception": false,
     "start_time": "2022-02-22T23:33:21.314902",
     "status": "completed"
    },
    "tags": []
   },
   "outputs": [],
   "source": [
    "for feature in X_train.loc[:,'len_text':'check_hash']:\n",
    "    X_train_tfid = another_feature_to_csr_matrix(X_train[feature], X_train_tfid)\n",
    "\n",
    "for feature in X_test.loc[:,'len_text':'check_hash']:\n",
    "    X_test_tfid = another_feature_to_csr_matrix(X_test[feature], X_test_tfid)"
   ]
  },
  {
   "cell_type": "code",
   "execution_count": 61,
   "id": "3c023136",
   "metadata": {
    "execution": {
     "iopub.execute_input": "2022-02-22T23:33:21.822766Z",
     "iopub.status.busy": "2022-02-22T23:33:21.822031Z",
     "iopub.status.idle": "2022-02-22T23:33:21.829010Z",
     "shell.execute_reply": "2022-02-22T23:33:21.828457Z",
     "shell.execute_reply.started": "2022-02-22T23:28:49.875505Z"
    },
    "papermill": {
     "duration": 0.163242,
     "end_time": "2022-02-22T23:33:21.829195",
     "exception": false,
     "start_time": "2022-02-22T23:33:21.665953",
     "status": "completed"
    },
    "tags": []
   },
   "outputs": [
    {
     "name": "stdout",
     "output_type": "stream",
     "text": [
      "Total shape\n",
      "Train:  (7613, 15947)\n",
      "Test:  (3263, 15947)\n"
     ]
    }
   ],
   "source": [
    "print('Total shape')\n",
    "print('Train: ' ,X_train_tfid.shape)\n",
    "print('Test: ' ,X_test_tfid.shape)"
   ]
  },
  {
   "cell_type": "markdown",
   "id": "66412481",
   "metadata": {
    "papermill": {
     "duration": 0.147085,
     "end_time": "2022-02-22T23:33:22.133717",
     "exception": false,
     "start_time": "2022-02-22T23:33:21.986632",
     "status": "completed"
    },
    "tags": []
   },
   "source": [
    "Ok, now **let's start creating and training the model**"
   ]
  },
  {
   "cell_type": "markdown",
   "id": "06bb9662",
   "metadata": {
    "papermill": {
     "duration": 0.155887,
     "end_time": "2022-02-22T23:33:22.439345",
     "exception": false,
     "start_time": "2022-02-22T23:33:22.283458",
     "status": "completed"
    },
    "tags": []
   },
   "source": [
    "------------------"
   ]
  },
  {
   "cell_type": "markdown",
   "id": "92c50100",
   "metadata": {
    "papermill": {
     "duration": 0.154897,
     "end_time": "2022-02-22T23:33:22.740654",
     "exception": false,
     "start_time": "2022-02-22T23:33:22.585757",
     "status": "completed"
    },
    "tags": []
   },
   "source": [
    "#  <center>| Machine Learning |</center>"
   ]
  },
  {
   "cell_type": "markdown",
   "id": "107b9b37",
   "metadata": {
    "papermill": {
     "duration": 0.153298,
     "end_time": "2022-02-22T23:33:23.046666",
     "exception": false,
     "start_time": "2022-02-22T23:33:22.893368",
     "status": "completed"
    },
    "tags": []
   },
   "source": [
    "\n",
    "![](https://4.bp.blogspot.com/-R1w3hy8_V6k/WuSOGXuhn1I/AAAAAAAATio/z4_6Pdwutk4qggn2W4dwAjFQC1Fj4gFrACLcBGAs/s640/1_FYFI4jbAUMqbXxlo6V_lBA.png) "
   ]
  },
  {
   "cell_type": "markdown",
   "id": "58b52758",
   "metadata": {
    "papermill": {
     "duration": 0.150802,
     "end_time": "2022-02-22T23:33:23.350746",
     "exception": false,
     "start_time": "2022-02-22T23:33:23.199944",
     "status": "completed"
    },
    "tags": []
   },
   "source": [
    "Great, in this block we will do machine learning and create a model that will learn to predict the truth of a tweet\n",
    "\n",
    "First, import the necessary libraries\n",
    "\n",
    "In this notebook, I will use models such as:\n",
    "\n",
    "1) **Multinomial Naive Bayes** (As recommended for working with texts)\n",
    "\n",
    "2) **Logistic Regression**\n",
    "\n",
    "3) **SVM**\n",
    "\n",
    "4) I will try to train **Logistic Regression and SVM using SGD**\n",
    "\n",
    "5) At the end we **use StackingClassifier to predict the final result based on the available models**\n"
   ]
  },
  {
   "cell_type": "code",
   "execution_count": 62,
   "id": "0355b62d",
   "metadata": {
    "execution": {
     "iopub.execute_input": "2022-02-22T23:33:23.663359Z",
     "iopub.status.busy": "2022-02-22T23:33:23.661929Z",
     "iopub.status.idle": "2022-02-22T23:33:23.811255Z",
     "shell.execute_reply": "2022-02-22T23:33:23.809936Z",
     "shell.execute_reply.started": "2022-02-22T23:28:49.883608Z"
    },
    "papermill": {
     "duration": 0.308549,
     "end_time": "2022-02-22T23:33:23.811416",
     "exception": false,
     "start_time": "2022-02-22T23:33:23.502867",
     "status": "completed"
    },
    "tags": []
   },
   "outputs": [],
   "source": [
    "from sklearn.naive_bayes import MultinomialNB\n",
    "from sklearn.linear_model import LogisticRegression, SGDClassifier\n",
    "from sklearn.svm import SVC\n",
    "from sklearn.ensemble import StackingClassifier\n",
    "\n",
    "from sklearn.metrics import confusion_matrix\n",
    "from sklearn.model_selection import cross_val_score"
   ]
  },
  {
   "cell_type": "markdown",
   "id": "754303ef",
   "metadata": {
    "papermill": {
     "duration": 0.147239,
     "end_time": "2022-02-22T23:33:24.106171",
     "exception": false,
     "start_time": "2022-02-22T23:33:23.958932",
     "status": "completed"
    },
    "tags": []
   },
   "source": [
    "I will write functions to quickly call the necessary metrics\n",
    "\n",
    "We did **not split the data into X_validation and X_train**, instead, we will use **cross-validation** on X_train and evaluate the **f1 score** of the model on **cross_val_score**"
   ]
  },
  {
   "cell_type": "code",
   "execution_count": 63,
   "id": "e5c9754e",
   "metadata": {
    "execution": {
     "iopub.execute_input": "2022-02-22T23:33:24.414842Z",
     "iopub.status.busy": "2022-02-22T23:33:24.414105Z",
     "iopub.status.idle": "2022-02-22T23:33:24.416988Z",
     "shell.execute_reply": "2022-02-22T23:33:24.416468Z",
     "shell.execute_reply.started": "2022-02-22T23:28:50.037518Z"
    },
    "papermill": {
     "duration": 0.161108,
     "end_time": "2022-02-22T23:33:24.417149",
     "exception": false,
     "start_time": "2022-02-22T23:33:24.256041",
     "status": "completed"
    },
    "tags": []
   },
   "outputs": [],
   "source": [
    "random_state = 1\n",
    "\n",
    "def print_metrics(estimator):\n",
    "    acc = cross_val_score(estimator, X_train_tfid, y_train, cv=3, scoring='accuracy', n_jobs=-1)\n",
    "    prec = cross_val_score(estimator, X_train_tfid, y_train, cv=3, scoring='precision', n_jobs=-1)\n",
    "    rec = cross_val_score(estimator, X_train_tfid, y_train, cv=3, scoring='recall', n_jobs=-1)\n",
    "    f1 = cross_val_score(estimator, X_train_tfid, y_train, cv=3, scoring='f1', n_jobs=-1)\n",
    "    \n",
    "    print(estimator,'\\n--------------------------------')\n",
    "    print('ACCURACY:', np.mean(acc))\n",
    "    print('PRECISION:', np.mean(prec))\n",
    "    print('RECALL:', np.mean(rec))\n",
    "    print('\\nMain metric:', '\\n--------------------------------', sep='')\n",
    "    print('F1:', np.mean(f1))\n",
    "    print('--------------------------------\\n')\n",
    "\n",
    "def save_main_metric(estimator):\n",
    "    f1 = np.mean(cross_val_score(estimator, X_train_tfid, y_train, cv=3, scoring='f1', n_jobs=-1))\n",
    "    final_scores.append(f1)"
   ]
  },
  {
   "cell_type": "markdown",
   "id": "21e0d8a2",
   "metadata": {
    "papermill": {
     "duration": 0.150383,
     "end_time": "2022-02-22T23:33:24.715789",
     "exception": false,
     "start_time": "2022-02-22T23:33:24.565406",
     "status": "completed"
    },
    "tags": []
   },
   "source": [
    "## Base models"
   ]
  },
  {
   "cell_type": "markdown",
   "id": "918856e5",
   "metadata": {
    "papermill": {
     "duration": 0.147695,
     "end_time": "2022-02-22T23:33:25.008939",
     "exception": false,
     "start_time": "2022-02-22T23:33:24.861244",
     "status": "completed"
    },
    "tags": []
   },
   "source": [
    "I define the selected models by **specifying hyperparameters**\n",
    "\n",
    "I did not introduce an additional block with GridSearch, so as not to overload the notebook with unnecessary information\n",
    "\n",
    "Instead, manually **set the optimal non-overtrained parameters**"
   ]
  },
  {
   "cell_type": "code",
   "execution_count": 64,
   "id": "c606ef30",
   "metadata": {
    "execution": {
     "iopub.execute_input": "2022-02-22T23:33:25.309465Z",
     "iopub.status.busy": "2022-02-22T23:33:25.308728Z",
     "iopub.status.idle": "2022-02-22T23:33:25.312022Z",
     "shell.execute_reply": "2022-02-22T23:33:25.311398Z",
     "shell.execute_reply.started": "2022-02-22T23:28:50.050264Z"
    },
    "papermill": {
     "duration": 0.15467,
     "end_time": "2022-02-22T23:33:25.312190",
     "exception": false,
     "start_time": "2022-02-22T23:33:25.157520",
     "status": "completed"
    },
    "tags": []
   },
   "outputs": [],
   "source": [
    "nb = MultinomialNB(fit_prior=False)\n",
    "\n",
    "logit = LogisticRegression(C=10 ,max_iter=1000)\n",
    "\n",
    "svc = SVC(kernel='linear')\n",
    "\n",
    "sgd_svm = SGDClassifier(alpha=5e-4, random_state=random_state)\n",
    "\n",
    "sgd_log = SGDClassifier(loss='log', alpha=5e-05, random_state=random_state)"
   ]
  },
  {
   "cell_type": "code",
   "execution_count": 65,
   "id": "2cd0169b",
   "metadata": {
    "execution": {
     "iopub.execute_input": "2022-02-22T23:33:25.611479Z",
     "iopub.status.busy": "2022-02-22T23:33:25.610775Z",
     "iopub.status.idle": "2022-02-22T23:33:55.104362Z",
     "shell.execute_reply": "2022-02-22T23:33:55.103721Z",
     "shell.execute_reply.started": "2022-02-22T23:28:50.073018Z"
    },
    "papermill": {
     "duration": 29.645304,
     "end_time": "2022-02-22T23:33:55.104545",
     "exception": false,
     "start_time": "2022-02-22T23:33:25.459241",
     "status": "completed"
    },
    "tags": []
   },
   "outputs": [
    {
     "name": "stdout",
     "output_type": "stream",
     "text": [
      "MultinomialNB(fit_prior=False) \n",
      "--------------------------------\n",
      "ACCURACY: 0.7772233357654234\n",
      "PRECISION: 0.733484795953664\n",
      "RECALL: 0.7563386282539656\n",
      "\n",
      "Main metric:\n",
      "--------------------------------\n",
      "F1: 0.7446776624685992\n",
      "--------------------------------\n",
      "\n",
      "LogisticRegression(C=10, max_iter=1000) \n",
      "--------------------------------\n",
      "ACCURACY: 0.797188528610295\n",
      "PRECISION: 0.7906168489400177\n",
      "RECALL: 0.7184313131907714\n",
      "\n",
      "Main metric:\n",
      "--------------------------------\n",
      "F1: 0.752708154292178\n",
      "--------------------------------\n",
      "\n",
      "SVC(kernel='linear') \n",
      "--------------------------------\n",
      "ACCURACY: 0.7994212060247502\n",
      "PRECISION: 0.8012232900737025\n",
      "RECALL: 0.7092603648982361\n",
      "\n",
      "Main metric:\n",
      "--------------------------------\n",
      "F1: 0.7523928078179162\n",
      "--------------------------------\n",
      "\n",
      "SGDClassifier(alpha=0.0005, random_state=1) \n",
      "--------------------------------\n",
      "ACCURACY: 0.7898328794777664\n",
      "PRECISION: 0.799339876667231\n",
      "RECALL: 0.6835753748349717\n",
      "\n",
      "Main metric:\n",
      "--------------------------------\n",
      "F1: 0.7362887834537842\n",
      "--------------------------------\n",
      "\n",
      "SGDClassifier(alpha=5e-05, loss='log', random_state=1) \n",
      "--------------------------------\n",
      "ACCURACY: 0.7967941034289572\n",
      "PRECISION: 0.8072153946248033\n",
      "RECALL: 0.69428042056638\n",
      "\n",
      "Main metric:\n",
      "--------------------------------\n",
      "F1: 0.7455187326154763\n",
      "--------------------------------\n",
      "\n"
     ]
    }
   ],
   "source": [
    "print_metrics(nb)\n",
    "print_metrics(logit)\n",
    "print_metrics(svc)\n",
    "print_metrics(sgd_svm)\n",
    "print_metrics(sgd_log)"
   ]
  },
  {
   "cell_type": "markdown",
   "id": "cbce938b",
   "metadata": {
    "papermill": {
     "duration": 0.149806,
     "end_time": "2022-02-22T23:33:55.407460",
     "exception": false,
     "start_time": "2022-02-22T23:33:55.257654",
     "status": "completed"
    },
    "tags": []
   },
   "source": [
    "Great, it seems that all models show approximately the **same F1 score.**\n",
    "\n",
    "First you need to show the target metric formula: **F1 = 2 * (precision * recall) / (precision + recall)**\n",
    "\n",
    "F1, along with Roc auc, can be considered a metric of the overall quality of the model, since it uses precision and recall in its formula\n",
    "\n",
    "\n",
    "As we can see, some **Precision and Recall models differ**\n",
    "\n",
    "For example, **MultinomialNB has approximately the same Precision and Recall - ~ 0.75**\n",
    "\n",
    "And **SVM has Precision 0.8 and Recall 0.7**\n",
    "\n",
    "However, **F1 for MultinomialNB and SVM is approximately the same**"
   ]
  },
  {
   "cell_type": "markdown",
   "id": "9e5d1990",
   "metadata": {
    "papermill": {
     "duration": 0.154106,
     "end_time": "2022-02-22T23:33:55.713190",
     "exception": false,
     "start_time": "2022-02-22T23:33:55.559084",
     "status": "completed"
    },
    "tags": []
   },
   "source": [
    "## Ensemble Model : Stacking"
   ]
  },
  {
   "cell_type": "markdown",
   "id": "99e60484",
   "metadata": {
    "papermill": {
     "duration": 0.149503,
     "end_time": "2022-02-22T23:33:56.009634",
     "exception": false,
     "start_time": "2022-02-22T23:33:55.860131",
     "status": "completed"
    },
    "tags": []
   },
   "source": [
    "Training multiple models to solve the same problem are combined and get the best result.\n",
    "\n",
    "This approach in machine learning is called the **ensemble method.**\n",
    "\n",
    "The basic premise is that the result of multiple models will be more accurate than the result of only one model.\n",
    "\n",
    "So let's use the StackingClassifier to get the average result by aggregating all the models.\n",
    "\n",
    "In this notebook, I am **using a StackingClassifier with a logit meta model.**\n",
    "\n",
    "P.S. I don't understand very well how to choose a meta model, but for this task, logit showed better results than other models."
   ]
  },
  {
   "cell_type": "code",
   "execution_count": 66,
   "id": "67a25938",
   "metadata": {
    "execution": {
     "iopub.execute_input": "2022-02-22T23:33:56.313402Z",
     "iopub.status.busy": "2022-02-22T23:33:56.312710Z",
     "iopub.status.idle": "2022-02-22T23:33:56.316866Z",
     "shell.execute_reply": "2022-02-22T23:33:56.317465Z",
     "shell.execute_reply.started": "2022-02-22T23:29:20.106443Z"
    },
    "papermill": {
     "duration": 0.157409,
     "end_time": "2022-02-22T23:33:56.317644",
     "exception": false,
     "start_time": "2022-02-22T23:33:56.160235",
     "status": "completed"
    },
    "tags": []
   },
   "outputs": [],
   "source": [
    "stacking_estimators = [('svc', svc), ('nb', nb), ('sgd_svm', sgd_svm), ('sgd_log', sgd_log)]"
   ]
  },
  {
   "cell_type": "code",
   "execution_count": 67,
   "id": "bcbcb69f",
   "metadata": {
    "execution": {
     "iopub.execute_input": "2022-02-22T23:33:56.621017Z",
     "iopub.status.busy": "2022-02-22T23:33:56.620248Z",
     "iopub.status.idle": "2022-02-22T23:33:56.621611Z",
     "shell.execute_reply": "2022-02-22T23:33:56.622205Z",
     "shell.execute_reply.started": "2022-02-22T23:29:20.113747Z"
    },
    "papermill": {
     "duration": 0.15798,
     "end_time": "2022-02-22T23:33:56.622387",
     "exception": false,
     "start_time": "2022-02-22T23:33:56.464407",
     "status": "completed"
    },
    "tags": []
   },
   "outputs": [],
   "source": [
    "stacking = StackingClassifier(stacking_estimators, logit, cv=5, n_jobs=-1)"
   ]
  },
  {
   "cell_type": "code",
   "execution_count": 68,
   "id": "56da9d0f",
   "metadata": {
    "execution": {
     "iopub.execute_input": "2022-02-22T23:33:56.920532Z",
     "iopub.status.busy": "2022-02-22T23:33:56.919835Z",
     "iopub.status.idle": "2022-02-22T23:35:18.072760Z",
     "shell.execute_reply": "2022-02-22T23:35:18.073416Z",
     "shell.execute_reply.started": "2022-02-22T23:29:20.131831Z"
    },
    "papermill": {
     "duration": 81.303497,
     "end_time": "2022-02-22T23:35:18.073630",
     "exception": false,
     "start_time": "2022-02-22T23:33:56.770133",
     "status": "completed"
    },
    "tags": []
   },
   "outputs": [
    {
     "name": "stdout",
     "output_type": "stream",
     "text": [
      "StackingClassifier(cv=5,\n",
      "                   estimators=[('svc', SVC(kernel='linear')),\n",
      "                               ('nb', MultinomialNB(fit_prior=False)),\n",
      "                               ('sgd_svm',\n",
      "                                SGDClassifier(alpha=0.0005, random_state=1)),\n",
      "                               ('sgd_log',\n",
      "                                SGDClassifier(alpha=5e-05, loss='log',\n",
      "                                              random_state=1))],\n",
      "                   final_estimator=LogisticRegression(C=10, max_iter=1000),\n",
      "                   n_jobs=-1) \n",
      "--------------------------------\n",
      "ACCURACY: 0.8000785123021416\n",
      "PRECISION: 0.7954441950689266\n",
      "RECALL: 0.7199592439671821\n",
      "\n",
      "Main metric:\n",
      "--------------------------------\n",
      "F1: 0.7557194213024987\n",
      "--------------------------------\n",
      "\n"
     ]
    }
   ],
   "source": [
    "print_metrics(stacking)"
   ]
  },
  {
   "cell_type": "markdown",
   "id": "6c519d54",
   "metadata": {
    "papermill": {
     "duration": 0.149029,
     "end_time": "2022-02-22T23:35:18.375265",
     "exception": false,
     "start_time": "2022-02-22T23:35:18.226236",
     "status": "completed"
    },
    "tags": []
   },
   "source": [
    "## Results Analysis"
   ]
  },
  {
   "cell_type": "markdown",
   "id": "9f19210e",
   "metadata": {
    "papermill": {
     "duration": 0.151065,
     "end_time": "2022-02-22T23:35:18.678792",
     "exception": false,
     "start_time": "2022-02-22T23:35:18.527727",
     "status": "completed"
    },
    "tags": []
   },
   "source": [
    "Great, let's take a **look at the results of all models**, for this I will collect their results using **save_main_metric()**\n",
    "\n",
    "P.S. I described this function earlier, along with print_metric()"
   ]
  },
  {
   "cell_type": "code",
   "execution_count": 69,
   "id": "a06cbe42",
   "metadata": {
    "execution": {
     "iopub.execute_input": "2022-02-22T23:35:18.982420Z",
     "iopub.status.busy": "2022-02-22T23:35:18.981502Z",
     "iopub.status.idle": "2022-02-22T23:35:45.714179Z",
     "shell.execute_reply": "2022-02-22T23:35:45.713443Z",
     "shell.execute_reply.started": "2022-02-22T23:30:40.614858Z"
    },
    "papermill": {
     "duration": 26.884295,
     "end_time": "2022-02-22T23:35:45.714328",
     "exception": false,
     "start_time": "2022-02-22T23:35:18.830033",
     "status": "completed"
    },
    "tags": []
   },
   "outputs": [],
   "source": [
    "final_scores = [] #check save_main_metric()\n",
    "all_model = [nb, logit, svc, sgd_svm, sgd_log, stacking]\n",
    "name_model = ['Multinomial NB','Logistic Regression','SVM','SGD SVM', 'SGD Logit', 'Stacking model']\n",
    "\n",
    "for model in all_model:\n",
    "    save_main_metric(model)\n",
    "    "
   ]
  },
  {
   "cell_type": "code",
   "execution_count": 70,
   "id": "e47d248e",
   "metadata": {
    "execution": {
     "iopub.execute_input": "2022-02-22T23:35:46.024731Z",
     "iopub.status.busy": "2022-02-22T23:35:46.023643Z",
     "iopub.status.idle": "2022-02-22T23:35:46.025685Z",
     "shell.execute_reply": "2022-02-22T23:35:46.026199Z",
     "shell.execute_reply.started": "2022-02-22T23:31:07.378219Z"
    },
    "papermill": {
     "duration": 0.159292,
     "end_time": "2022-02-22T23:35:46.026375",
     "exception": false,
     "start_time": "2022-02-22T23:35:45.867083",
     "status": "completed"
    },
    "tags": []
   },
   "outputs": [],
   "source": [
    "result_df = pd.DataFrame(final_scores, index=name_model, columns=['F1 Score'])"
   ]
  },
  {
   "cell_type": "code",
   "execution_count": 71,
   "id": "f8bcbb44",
   "metadata": {
    "execution": {
     "iopub.execute_input": "2022-02-22T23:35:46.331895Z",
     "iopub.status.busy": "2022-02-22T23:35:46.331166Z",
     "iopub.status.idle": "2022-02-22T23:35:46.341143Z",
     "shell.execute_reply": "2022-02-22T23:35:46.341715Z",
     "shell.execute_reply.started": "2022-02-22T23:31:07.386968Z"
    },
    "papermill": {
     "duration": 0.164378,
     "end_time": "2022-02-22T23:35:46.341886",
     "exception": false,
     "start_time": "2022-02-22T23:35:46.177508",
     "status": "completed"
    },
    "tags": []
   },
   "outputs": [
    {
     "data": {
      "text/html": [
       "<div>\n",
       "<style scoped>\n",
       "    .dataframe tbody tr th:only-of-type {\n",
       "        vertical-align: middle;\n",
       "    }\n",
       "\n",
       "    .dataframe tbody tr th {\n",
       "        vertical-align: top;\n",
       "    }\n",
       "\n",
       "    .dataframe thead th {\n",
       "        text-align: right;\n",
       "    }\n",
       "</style>\n",
       "<table border=\"1\" class=\"dataframe\">\n",
       "  <thead>\n",
       "    <tr style=\"text-align: right;\">\n",
       "      <th></th>\n",
       "      <th>Multinomial NB</th>\n",
       "      <th>Logistic Regression</th>\n",
       "      <th>SVM</th>\n",
       "      <th>SGD SVM</th>\n",
       "      <th>SGD Logit</th>\n",
       "      <th>Stacking model</th>\n",
       "    </tr>\n",
       "  </thead>\n",
       "  <tbody>\n",
       "    <tr>\n",
       "      <th>F1 Score</th>\n",
       "      <td>0.744678</td>\n",
       "      <td>0.752708</td>\n",
       "      <td>0.752393</td>\n",
       "      <td>0.736289</td>\n",
       "      <td>0.745519</td>\n",
       "      <td>0.755719</td>\n",
       "    </tr>\n",
       "  </tbody>\n",
       "</table>\n",
       "</div>"
      ],
      "text/plain": [
       "          Multinomial NB  Logistic Regression       SVM   SGD SVM  SGD Logit  \\\n",
       "F1 Score        0.744678             0.752708  0.752393  0.736289   0.745519   \n",
       "\n",
       "          Stacking model  \n",
       "F1 Score        0.755719  "
      ]
     },
     "execution_count": 71,
     "metadata": {},
     "output_type": "execute_result"
    }
   ],
   "source": [
    "result_df.T"
   ]
  },
  {
   "cell_type": "code",
   "execution_count": 72,
   "id": "afe66f99",
   "metadata": {
    "execution": {
     "iopub.execute_input": "2022-02-22T23:35:46.648890Z",
     "iopub.status.busy": "2022-02-22T23:35:46.648187Z",
     "iopub.status.idle": "2022-02-22T23:35:46.925015Z",
     "shell.execute_reply": "2022-02-22T23:35:46.924381Z",
     "shell.execute_reply.started": "2022-02-22T23:31:07.412859Z"
    },
    "papermill": {
     "duration": 0.433953,
     "end_time": "2022-02-22T23:35:46.925184",
     "exception": false,
     "start_time": "2022-02-22T23:35:46.491231",
     "status": "completed"
    },
    "tags": []
   },
   "outputs": [
    {
     "data": {
      "image/png": "[encoded data removed]",
      "text/plain": [
       "<Figure size 1000x800 with 1 Axes>"
      ]
     },
     "metadata": {
      "needs_background": "light"
     },
     "output_type": "display_data"
    }
   ],
   "source": [
    "plt.figure(figsize=(10,8), dpi=100)\n",
    "sns.pointplot(y=result_df['F1 Score'] , x=result_df.index ,markers='o',linestyles='--', color='y');"
   ]
  },
  {
   "cell_type": "markdown",
   "id": "65477f3f",
   "metadata": {
    "papermill": {
     "duration": 0.154733,
     "end_time": "2022-02-22T23:35:47.235558",
     "exception": false,
     "start_time": "2022-02-22T23:35:47.080825",
     "status": "completed"
    },
    "tags": []
   },
   "source": [
    "As we can see, the **Stacking model got the best result F1**\n",
    "\n",
    "Great, in that case, use it for the final results."
   ]
  },
  {
   "cell_type": "markdown",
   "id": "fdee5f39",
   "metadata": {
    "papermill": {
     "duration": 0.152743,
     "end_time": "2022-02-22T23:35:47.539503",
     "exception": false,
     "start_time": "2022-02-22T23:35:47.386760",
     "status": "completed"
    },
    "tags": []
   },
   "source": [
    "#  <center>| Final result & Submission |</center>"
   ]
  },
  {
   "cell_type": "code",
   "execution_count": 73,
   "id": "383ffb88",
   "metadata": {
    "execution": {
     "iopub.execute_input": "2022-02-22T23:35:47.851494Z",
     "iopub.status.busy": "2022-02-22T23:35:47.850747Z",
     "iopub.status.idle": "2022-02-22T23:36:13.740900Z",
     "shell.execute_reply": "2022-02-22T23:36:13.741846Z",
     "shell.execute_reply.started": "2022-02-22T23:31:07.747498Z"
    },
    "papermill": {
     "duration": 26.050162,
     "end_time": "2022-02-22T23:36:13.742204",
     "exception": false,
     "start_time": "2022-02-22T23:35:47.692042",
     "status": "completed"
    },
    "tags": []
   },
   "outputs": [],
   "source": [
    "stacking.fit(X_train_tfid, y_train);\n",
    "pred_train_stack = stacking.predict(X_train_tfid)"
   ]
  },
  {
   "cell_type": "code",
   "execution_count": 74,
   "id": "b1cf9fe8",
   "metadata": {
    "execution": {
     "iopub.execute_input": "2022-02-22T23:36:14.113204Z",
     "iopub.status.busy": "2022-02-22T23:36:14.112447Z",
     "iopub.status.idle": "2022-02-22T23:36:14.114144Z",
     "shell.execute_reply": "2022-02-22T23:36:14.114734Z",
     "shell.execute_reply.started": "2022-02-22T23:31:33.957930Z"
    },
    "papermill": {
     "duration": 0.165153,
     "end_time": "2022-02-22T23:36:14.114902",
     "exception": false,
     "start_time": "2022-02-22T23:36:13.949749",
     "status": "completed"
    },
    "tags": []
   },
   "outputs": [],
   "source": [
    "def conf_matrix_plot(y_true, y_pred):\n",
    "    plt.figure(figsize=(10,8))\n",
    "    sns.heatmap(confusion_matrix(y_true, y_pred), annot=True, fmt='.4g', cmap='RdGy', linewidths=3, linecolor='black')\n",
    "    plt.title('\\nConfusion Matrix for Train\\n', fontsize=25);\n",
    "    plt.xlabel('Predicted Values', fontsize=15)\n",
    "    plt.ylabel('Actual Values', fontsize=15);"
   ]
  },
  {
   "cell_type": "code",
   "execution_count": 75,
   "id": "28bd150b",
   "metadata": {
    "execution": {
     "iopub.execute_input": "2022-02-22T23:36:14.421425Z",
     "iopub.status.busy": "2022-02-22T23:36:14.420459Z",
     "iopub.status.idle": "2022-02-22T23:36:14.717621Z",
     "shell.execute_reply": "2022-02-22T23:36:14.718129Z",
     "shell.execute_reply.started": "2022-02-22T23:31:33.973161Z"
    },
    "papermill": {
     "duration": 0.451904,
     "end_time": "2022-02-22T23:36:14.718301",
     "exception": false,
     "start_time": "2022-02-22T23:36:14.266397",
     "status": "completed"
    },
    "tags": []
   },
   "outputs": [
    {
     "data": {
      "image/png": "[encoded data removed]",
      "text/plain": [
       "<Figure size 720x576 with 2 Axes>"
      ]
     },
     "metadata": {
      "needs_background": "light"
     },
     "output_type": "display_data"
    }
   ],
   "source": [
    "conf_matrix_plot(y_train, pred_train_stack)"
   ]
  },
  {
   "cell_type": "markdown",
   "id": "482a1274",
   "metadata": {
    "papermill": {
     "duration": 0.152632,
     "end_time": "2022-02-22T23:36:15.024951",
     "exception": false,
     "start_time": "2022-02-22T23:36:14.872319",
     "status": "completed"
    },
    "tags": []
   },
   "source": [
    "As can be seen in the **Confusion Matrix**, the **model is better at identifying a fake tweet than a real tweet.**\n",
    "\n",
    "This could be seen from print_metric(). **Precision is noticeably higher than Recall**\n",
    "\n",
    "However, **using predict_proba()**, we could get the probabilities of the classes of the target feature and by changing the treshold of probabilities to **balance these class**\n",
    "\n",
    "Let me demonstrate it"
   ]
  },
  {
   "cell_type": "code",
   "execution_count": 76,
   "id": "6652392f",
   "metadata": {
    "execution": {
     "iopub.execute_input": "2022-02-22T23:36:15.334094Z",
     "iopub.status.busy": "2022-02-22T23:36:15.333034Z",
     "iopub.status.idle": "2022-02-22T23:36:20.065804Z",
     "shell.execute_reply": "2022-02-22T23:36:20.064758Z",
     "shell.execute_reply.started": "2022-02-22T23:31:34.327034Z"
    },
    "papermill": {
     "duration": 4.889578,
     "end_time": "2022-02-22T23:36:20.066132",
     "exception": false,
     "start_time": "2022-02-22T23:36:15.176554",
     "status": "completed"
    },
    "tags": []
   },
   "outputs": [],
   "source": [
    "pred_train_stack_proba = stacking.predict_proba(X_train_tfid)[:,1]"
   ]
  },
  {
   "cell_type": "code",
   "execution_count": 77,
   "id": "c8cae0d4",
   "metadata": {
    "execution": {
     "iopub.execute_input": "2022-02-22T23:36:20.429538Z",
     "iopub.status.busy": "2022-02-22T23:36:20.428803Z",
     "iopub.status.idle": "2022-02-22T23:36:20.431474Z",
     "shell.execute_reply": "2022-02-22T23:36:20.430911Z",
     "shell.execute_reply.started": "2022-02-22T23:31:39.304704Z"
    },
    "papermill": {
     "duration": 0.157297,
     "end_time": "2022-02-22T23:36:20.431640",
     "exception": false,
     "start_time": "2022-02-22T23:36:20.274343",
     "status": "completed"
    },
    "tags": []
   },
   "outputs": [],
   "source": [
    "treshold = 0.36"
   ]
  },
  {
   "cell_type": "code",
   "execution_count": 78,
   "id": "43406b06",
   "metadata": {
    "execution": {
     "iopub.execute_input": "2022-02-22T23:36:20.754991Z",
     "iopub.status.busy": "2022-02-22T23:36:20.754277Z",
     "iopub.status.idle": "2022-02-22T23:36:21.045497Z",
     "shell.execute_reply": "2022-02-22T23:36:21.044876Z",
     "shell.execute_reply.started": "2022-02-22T23:31:39.320780Z"
    },
    "papermill": {
     "duration": 0.453863,
     "end_time": "2022-02-22T23:36:21.045655",
     "exception": false,
     "start_time": "2022-02-22T23:36:20.591792",
     "status": "completed"
    },
    "tags": []
   },
   "outputs": [
    {
     "data": {
      "image/png": "[encoded data removed]",
      "text/plain": [
       "<Figure size 720x576 with 2 Axes>"
      ]
     },
     "metadata": {
      "needs_background": "light"
     },
     "output_type": "display_data"
    }
   ],
   "source": [
    "conf_matrix_plot(y_train, np.where(pred_train_stack_proba > treshold , 1, 0))"
   ]
  },
  {
   "cell_type": "markdown",
   "id": "50624d76",
   "metadata": {
    "papermill": {
     "duration": 0.155659,
     "end_time": "2022-02-22T23:36:21.358817",
     "exception": false,
     "start_time": "2022-02-22T23:36:21.203158",
     "status": "completed"
    },
    "tags": []
   },
   "source": [
    "--------------------------"
   ]
  },
  {
   "cell_type": "markdown",
   "id": "9b26fef2",
   "metadata": {
    "papermill": {
     "duration": 0.157186,
     "end_time": "2022-02-22T23:36:21.670015",
     "exception": false,
     "start_time": "2022-02-22T23:36:21.512829",
     "status": "completed"
    },
    "tags": []
   },
   "source": [
    "As you can see, the **mispredicted classes have become more balanced.**\n",
    "\n",
    "Great, let's make a final prediction and put it on **Kaggle**"
   ]
  },
  {
   "cell_type": "code",
   "execution_count": 79,
   "id": "f2ffd74c",
   "metadata": {
    "execution": {
     "iopub.execute_input": "2022-02-22T23:36:21.992817Z",
     "iopub.status.busy": "2022-02-22T23:36:21.992122Z",
     "iopub.status.idle": "2022-02-22T23:36:23.904618Z",
     "shell.execute_reply": "2022-02-22T23:36:23.905516Z",
     "shell.execute_reply.started": "2022-02-22T23:31:39.664168Z"
    },
    "papermill": {
     "duration": 2.076794,
     "end_time": "2022-02-22T23:36:23.905832",
     "exception": false,
     "start_time": "2022-02-22T23:36:21.829038",
     "status": "completed"
    },
    "tags": []
   },
   "outputs": [],
   "source": [
    "final_predict = stacking.predict_proba(X_test_tfid)[:,1]"
   ]
  },
  {
   "cell_type": "code",
   "execution_count": 80,
   "id": "17d6f71d",
   "metadata": {
    "execution": {
     "iopub.execute_input": "2022-02-22T23:36:24.280838Z",
     "iopub.status.busy": "2022-02-22T23:36:24.279790Z",
     "iopub.status.idle": "2022-02-22T23:36:24.282491Z",
     "shell.execute_reply": "2022-02-22T23:36:24.281816Z",
     "shell.execute_reply.started": "2022-02-22T23:31:41.641672Z"
    },
    "papermill": {
     "duration": 0.162349,
     "end_time": "2022-02-22T23:36:24.282640",
     "exception": false,
     "start_time": "2022-02-22T23:36:24.120291",
     "status": "completed"
    },
    "tags": []
   },
   "outputs": [],
   "source": [
    "final_predict = np.where(final_predict>0.5, 1, 0)"
   ]
  },
  {
   "cell_type": "code",
   "execution_count": 81,
   "id": "ca6410ad",
   "metadata": {
    "execution": {
     "iopub.execute_input": "2022-02-22T23:36:24.599898Z",
     "iopub.status.busy": "2022-02-22T23:36:24.598842Z",
     "iopub.status.idle": "2022-02-22T23:36:24.604271Z",
     "shell.execute_reply": "2022-02-22T23:36:24.604864Z",
     "shell.execute_reply.started": "2022-02-22T23:31:41.649290Z"
    },
    "papermill": {
     "duration": 0.168483,
     "end_time": "2022-02-22T23:36:24.605080",
     "exception": false,
     "start_time": "2022-02-22T23:36:24.436597",
     "status": "completed"
    },
    "tags": []
   },
   "outputs": [],
   "source": [
    "submission = pd.DataFrame({'Id':test.id, 'target': final_predict})"
   ]
  },
  {
   "cell_type": "code",
   "execution_count": 82,
   "id": "7260935e",
   "metadata": {
    "execution": {
     "iopub.execute_input": "2022-02-22T23:36:24.920952Z",
     "iopub.status.busy": "2022-02-22T23:36:24.919806Z",
     "iopub.status.idle": "2022-02-22T23:36:24.936877Z",
     "shell.execute_reply": "2022-02-22T23:36:24.937459Z",
     "shell.execute_reply.started": "2022-02-22T23:31:41.669772Z"
    },
    "papermill": {
     "duration": 0.176728,
     "end_time": "2022-02-22T23:36:24.937640",
     "exception": false,
     "start_time": "2022-02-22T23:36:24.760912",
     "status": "completed"
    },
    "tags": []
   },
   "outputs": [
    {
     "data": {
      "text/html": [
       "<div>\n",
       "<style scoped>\n",
       "    .dataframe tbody tr th:only-of-type {\n",
       "        vertical-align: middle;\n",
       "    }\n",
       "\n",
       "    .dataframe tbody tr th {\n",
       "        vertical-align: top;\n",
       "    }\n",
       "\n",
       "    .dataframe thead th {\n",
       "        text-align: right;\n",
       "    }\n",
       "</style>\n",
       "<table border=\"1\" class=\"dataframe\">\n",
       "  <thead>\n",
       "    <tr style=\"text-align: right;\">\n",
       "      <th></th>\n",
       "      <th>0</th>\n",
       "      <th>1</th>\n",
       "      <th>2</th>\n",
       "      <th>3</th>\n",
       "      <th>4</th>\n",
       "      <th>5</th>\n",
       "      <th>6</th>\n",
       "      <th>7</th>\n",
       "      <th>8</th>\n",
       "      <th>9</th>\n",
       "      <th>...</th>\n",
       "      <th>3253</th>\n",
       "      <th>3254</th>\n",
       "      <th>3255</th>\n",
       "      <th>3256</th>\n",
       "      <th>3257</th>\n",
       "      <th>3258</th>\n",
       "      <th>3259</th>\n",
       "      <th>3260</th>\n",
       "      <th>3261</th>\n",
       "      <th>3262</th>\n",
       "    </tr>\n",
       "  </thead>\n",
       "  <tbody>\n",
       "    <tr>\n",
       "      <th>Id</th>\n",
       "      <td>0</td>\n",
       "      <td>2</td>\n",
       "      <td>3</td>\n",
       "      <td>9</td>\n",
       "      <td>11</td>\n",
       "      <td>12</td>\n",
       "      <td>21</td>\n",
       "      <td>22</td>\n",
       "      <td>27</td>\n",
       "      <td>29</td>\n",
       "      <td>...</td>\n",
       "      <td>10838</td>\n",
       "      <td>10845</td>\n",
       "      <td>10856</td>\n",
       "      <td>10857</td>\n",
       "      <td>10858</td>\n",
       "      <td>10861</td>\n",
       "      <td>10865</td>\n",
       "      <td>10868</td>\n",
       "      <td>10874</td>\n",
       "      <td>10875</td>\n",
       "    </tr>\n",
       "    <tr>\n",
       "      <th>target</th>\n",
       "      <td>1</td>\n",
       "      <td>1</td>\n",
       "      <td>1</td>\n",
       "      <td>1</td>\n",
       "      <td>1</td>\n",
       "      <td>1</td>\n",
       "      <td>0</td>\n",
       "      <td>0</td>\n",
       "      <td>0</td>\n",
       "      <td>0</td>\n",
       "      <td>...</td>\n",
       "      <td>1</td>\n",
       "      <td>1</td>\n",
       "      <td>1</td>\n",
       "      <td>1</td>\n",
       "      <td>1</td>\n",
       "      <td>1</td>\n",
       "      <td>1</td>\n",
       "      <td>1</td>\n",
       "      <td>1</td>\n",
       "      <td>1</td>\n",
       "    </tr>\n",
       "  </tbody>\n",
       "</table>\n",
       "<p>2 rows × 3263 columns</p>\n",
       "</div>"
      ],
      "text/plain": [
       "        0     1     2     3     4     5     6     7     8     9     ...  \\\n",
       "Id         0     2     3     9    11    12    21    22    27    29  ...   \n",
       "target     1     1     1     1     1     1     0     0     0     0  ...   \n",
       "\n",
       "         3253   3254   3255   3256   3257   3258   3259   3260   3261   3262  \n",
       "Id      10838  10845  10856  10857  10858  10861  10865  10868  10874  10875  \n",
       "target      1      1      1      1      1      1      1      1      1      1  \n",
       "\n",
       "[2 rows x 3263 columns]"
      ]
     },
     "execution_count": 82,
     "metadata": {},
     "output_type": "execute_result"
    }
   ],
   "source": [
    "submission.T"
   ]
  },
  {
   "cell_type": "code",
   "execution_count": 83,
   "id": "2c8d58a2",
   "metadata": {
    "execution": {
     "iopub.execute_input": "2022-02-22T23:36:25.253078Z",
     "iopub.status.busy": "2022-02-22T23:36:25.252107Z",
     "iopub.status.idle": "2022-02-22T23:36:25.255459Z",
     "shell.execute_reply": "2022-02-22T23:36:25.256044Z",
     "shell.execute_reply.started": "2022-02-22T23:31:41.721032Z"
    },
    "papermill": {
     "duration": 0.162,
     "end_time": "2022-02-22T23:36:25.256239",
     "exception": false,
     "start_time": "2022-02-22T23:36:25.094239",
     "status": "completed"
    },
    "tags": []
   },
   "outputs": [],
   "source": [
    "#submission.to_csv('submission_NLP.csv', index=False)"
   ]
  },
  {
   "cell_type": "markdown",
   "id": "f4e64226",
   "metadata": {
    "papermill": {
     "duration": 0.15501,
     "end_time": "2022-02-22T23:36:25.566906",
     "exception": false,
     "start_time": "2022-02-22T23:36:25.411896",
     "status": "completed"
    },
    "tags": []
   },
   "source": [
    "## <center>Thank you for watching my project, I will be grateful if you upvoted and give feedback about my work in the comments. I want to improve my skills, and if you find any mistakes in the project, please tell me about it. Also, if you liked the structure of the project, you can see the rest of my project, in each of them I try to describe my actions in detail, as well as not just solve the problem, but use new technologies </center>"
   ]
  },
  {
   "cell_type": "markdown",
   "id": "cbf5cda5",
   "metadata": {
    "papermill": {
     "duration": 0.160132,
     "end_time": "2022-02-22T23:36:25.881292",
     "exception": false,
     "start_time": "2022-02-22T23:36:25.721160",
     "status": "completed"
    },
    "tags": []
   },
   "source": [
    "![](https://data.whicdn.com/images/218833361/original.gif)"
   ]
  }
 ],
 "metadata": {
  "kernelspec": {
   "display_name": "Python 3",
   "language": "python",
   "name": "python3"
  },
  "language_info": {
   "codemirror_mode": {
    "name": "ipython",
    "version": 3
   },
   "file_extension": ".py",
   "mimetype": "text/x-python",
   "name": "python",
   "nbconvert_exporter": "python",
   "pygments_lexer": "ipython3",
   "version": "3.7.12"
  },
  "papermill": {
   "default_parameters": {},
   "duration": 243.84412,
   "end_time": "2022-02-22T23:36:27.258326",
   "environment_variables": {},
   "exception": null,
   "input_path": "__notebook__.ipynb",
   "output_path": "__notebook__.ipynb",
   "parameters": {},
   "start_time": "2022-02-22T23:32:23.414206",
   "version": "2.3.3"
  }
 },
 "nbformat": 4,
 "nbformat_minor": 5
}
